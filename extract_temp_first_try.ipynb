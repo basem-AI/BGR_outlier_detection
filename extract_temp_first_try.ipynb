{
 "cells": [
  {
   "cell_type": "code",
   "execution_count": 1,
   "metadata": {},
   "outputs": [],
   "source": [
    "import pyarrow.feather as feather\n",
    "import pandas as pd\n",
    "import numpy as np\n",
    "from scipy.io import netcdf\n",
    "import matplotlib.pyplot as plt "
   ]
  },
  {
   "cell_type": "code",
   "execution_count": 2,
   "metadata": {},
   "outputs": [],
   "source": [
    "from shapely.geometry import Point\n",
    "import geopandas as gpd\n",
    "from geopandas import GeoDataFrame\n",
    "import xarray as xr\n",
    "import netCDF4 as nc\n",
    "from netCDF4 import Dataset"
   ]
  },
  {
   "cell_type": "code",
   "execution_count": null,
   "metadata": {},
   "outputs": [],
   "source": [
    "# import freq level\n",
    "freq_level = pd.read_csv(\"dataset/time_series/freq_level.csv\")\n",
    "freq_level.head()"
   ]
  },
  {
   "cell_type": "code",
   "execution_count": null,
   "metadata": {},
   "outputs": [],
   "source": [
    "# import high freq t s\n",
    "high_freq_t_s = pd.read_csv(\"dataset/time_series/high_freq_t_s.csv\")\n",
    "high_freq_t_s = high_freq_t_s.set_index(\"proj_id\")\n",
    "high_freq_t_s.columns = convert_col_to_date(high_freq_t_s.columns)\n",
    "high_freq_t_s.head()"
   ]
  },
  {
   "cell_type": "code",
   "execution_count": 80,
   "metadata": {},
   "outputs": [
    {
     "data": {
      "text/html": [
       "<div>\n",
       "<style scoped>\n",
       "    .dataframe tbody tr th:only-of-type {\n",
       "        vertical-align: middle;\n",
       "    }\n",
       "\n",
       "    .dataframe tbody tr th {\n",
       "        vertical-align: top;\n",
       "    }\n",
       "\n",
       "    .dataframe thead th {\n",
       "        text-align: right;\n",
       "    }\n",
       "</style>\n",
       "<table border=\"1\" class=\"dataframe\">\n",
       "  <thead>\n",
       "    <tr style=\"text-align: right;\">\n",
       "      <th></th>\n",
       "      <th>proj_id</th>\n",
       "      <th>bgr_long</th>\n",
       "      <th>bgr_lat</th>\n",
       "    </tr>\n",
       "  </thead>\n",
       "  <tbody>\n",
       "    <tr>\n",
       "      <th>0</th>\n",
       "      <td>BB_25470023</td>\n",
       "      <td>13.643609</td>\n",
       "      <td>53.416804</td>\n",
       "    </tr>\n",
       "    <tr>\n",
       "      <th>1</th>\n",
       "      <td>BB_25470024</td>\n",
       "      <td>13.643653</td>\n",
       "      <td>53.416793</td>\n",
       "    </tr>\n",
       "    <tr>\n",
       "      <th>2</th>\n",
       "      <td>BB_25480025</td>\n",
       "      <td>13.826532</td>\n",
       "      <td>53.452024</td>\n",
       "    </tr>\n",
       "    <tr>\n",
       "      <th>3</th>\n",
       "      <td>BB_25480026</td>\n",
       "      <td>13.677407</td>\n",
       "      <td>53.457078</td>\n",
       "    </tr>\n",
       "    <tr>\n",
       "      <th>4</th>\n",
       "      <td>BB_25481088</td>\n",
       "      <td>13.821475</td>\n",
       "      <td>53.475857</td>\n",
       "    </tr>\n",
       "  </tbody>\n",
       "</table>\n",
       "</div>"
      ],
      "text/plain": [
       "       proj_id   bgr_long    bgr_lat\n",
       "0  BB_25470023  13.643609  53.416804\n",
       "1  BB_25470024  13.643653  53.416793\n",
       "2  BB_25480025  13.826532  53.452024\n",
       "3  BB_25480026  13.677407  53.457078\n",
       "4  BB_25481088  13.821475  53.475857"
      ]
     },
     "execution_count": 80,
     "metadata": {},
     "output_type": "execute_result"
    }
   ],
   "source": [
    "# import meta_data for the lat and long of bgr stations\n",
    "meta_df = pd.read_excel(\"dataset/meta_data/metadata_timeseries_LongLat.xlsx\")\n",
    "bgr_location = meta_df[[\"proj_id\",\"x_long\",\"y_lat\"]].sort_values(\"proj_id\")\n",
    "bgr_location = bgr_location.rename(columns={\"x_long\":\"bgr_long\",\"y_lat\":\"bgr_lat\"})\n",
    "bgr_location.head()"
   ]
  },
  {
   "cell_type": "code",
   "execution_count": null,
   "metadata": {},
   "outputs": [],
   "source": [
    "# number of days in the period between 1995 and 2012\n",
    "(pd.to_datetime(\"31.12.2012\").date() - pd.to_datetime(\"01.01.1995\").date()).days"
   ]
  },
  {
   "cell_type": "markdown",
   "metadata": {},
   "source": [
    "# temperature: as predictor\n",
    "\n",
    "### Daily means of hourly grids of air temperature for whole Germany (project TRY Advancement)\n",
    "\n",
    "### there are 215 NC files, each file represents a month of dailly temperature from 01-1995 tp 11-2012\n",
    "\n",
    "### each nc file has temperature across whole germany"
   ]
  },
  {
   "cell_type": "code",
   "execution_count": 3,
   "metadata": {},
   "outputs": [],
   "source": [
    "# open a sample nc file to extract the weather stations lat/long\n",
    "dir_01_2005 = \"dataset/temperature/data/\"+'daily_Project_TRY_air_temperature_mean__TT_200511_daymean.nc'\n",
    "temp_01_2005 = netcdf.NetCDFFile(dir_01_2005,'r')"
   ]
  },
  {
   "cell_type": "code",
   "execution_count": 4,
   "metadata": {},
   "outputs": [
    {
     "data": {
      "text/plain": [
       "OrderedDict([('lon', <scipy.io.netcdf.netcdf_variable at 0x7f06ec60d0a0>),\n",
       "             ('lat', <scipy.io.netcdf.netcdf_variable at 0x7f06b25ad7f0>),\n",
       "             ('time', <scipy.io.netcdf.netcdf_variable at 0x7f06ec606c70>),\n",
       "             ('time_bnds',\n",
       "              <scipy.io.netcdf.netcdf_variable at 0x7f06ec606880>),\n",
       "             ('datum', <scipy.io.netcdf.netcdf_variable at 0x7f06b25bed30>),\n",
       "             ('temperature',\n",
       "              <scipy.io.netcdf.netcdf_variable at 0x7f06b25beb20>)])"
      ]
     },
     "execution_count": 4,
     "metadata": {},
     "output_type": "execute_result"
    }
   ],
   "source": [
    "temp_01_2005.variables"
   ]
  },
  {
   "cell_type": "code",
   "execution_count": null,
   "metadata": {},
   "outputs": [],
   "source": [
    "DS = xr.open_dataset(dir_01_2005)"
   ]
  },
  {
   "cell_type": "code",
   "execution_count": null,
   "metadata": {},
   "outputs": [],
   "source": [
    "fn = \"dataset/temperature/data/1.nc\"\n",
    "ds = nc.Dataset(fn, 'w', format='NETCDF4')"
   ]
  },
  {
   "cell_type": "code",
   "execution_count": null,
   "metadata": {},
   "outputs": [],
   "source": [
    "DS.lat.values.flatten()\n",
    "DS.temperature.values.flatten().shape"
   ]
  },
  {
   "cell_type": "code",
   "execution_count": null,
   "metadata": {},
   "outputs": [],
   "source": [
    "DS.datum.values.flatten().shape"
   ]
  },
  {
   "cell_type": "code",
   "execution_count": null,
   "metadata": {},
   "outputs": [],
   "source": [
    "DS.dims\n",
    "#DS.coords\n",
    "#DS.var"
   ]
  },
  {
   "cell_type": "code",
   "execution_count": null,
   "metadata": {},
   "outputs": [],
   "source": [
    "DS.var"
   ]
  },
  {
   "cell_type": "code",
   "execution_count": null,
   "metadata": {},
   "outputs": [],
   "source": [
    "#temp_01_2005.variables[\"temperature\"][:,:,:].shape"
   ]
  },
  {
   "cell_type": "code",
   "execution_count": 7,
   "metadata": {},
   "outputs": [
    {
     "data": {
      "text/html": [
       "<div>\n",
       "<style scoped>\n",
       "    .dataframe tbody tr th:only-of-type {\n",
       "        vertical-align: middle;\n",
       "    }\n",
       "\n",
       "    .dataframe tbody tr th {\n",
       "        vertical-align: top;\n",
       "    }\n",
       "\n",
       "    .dataframe thead th {\n",
       "        text-align: right;\n",
       "    }\n",
       "</style>\n",
       "<table border=\"1\" class=\"dataframe\">\n",
       "  <thead>\n",
       "    <tr style=\"text-align: right;\">\n",
       "      <th></th>\n",
       "      <th>long</th>\n",
       "      <th>lat</th>\n",
       "    </tr>\n",
       "  </thead>\n",
       "  <tbody>\n",
       "    <tr>\n",
       "      <th>0</th>\n",
       "      <td>5.5452</td>\n",
       "      <td>46.7198</td>\n",
       "    </tr>\n",
       "    <tr>\n",
       "      <th>1</th>\n",
       "      <td>5.5587</td>\n",
       "      <td>46.7204</td>\n",
       "    </tr>\n",
       "    <tr>\n",
       "      <th>2</th>\n",
       "      <td>5.5722</td>\n",
       "      <td>46.7209</td>\n",
       "    </tr>\n",
       "    <tr>\n",
       "      <th>3</th>\n",
       "      <td>5.5857</td>\n",
       "      <td>46.7215</td>\n",
       "    </tr>\n",
       "    <tr>\n",
       "      <th>4</th>\n",
       "      <td>5.5991</td>\n",
       "      <td>46.7221</td>\n",
       "    </tr>\n",
       "  </tbody>\n",
       "</table>\n",
       "</div>"
      ],
      "text/plain": [
       "     long      lat\n",
       "0  5.5452  46.7198\n",
       "1  5.5587  46.7204\n",
       "2  5.5722  46.7209\n",
       "3  5.5857  46.7215\n",
       "4  5.5991  46.7221"
      ]
     },
     "execution_count": 7,
     "metadata": {},
     "output_type": "execute_result"
    }
   ],
   "source": [
    "weather_df = pd.DataFrame({\"long\":weather_long,\"lat\": weather_lat})#,\"temp\": temp})\n",
    "weather_df.head()"
   ]
  },
  {
   "cell_type": "code",
   "execution_count": null,
   "metadata": {},
   "outputs": [],
   "source": [
    "# my function which turned out that wronge because we can not walk on straight line on the long/lat on the sphere\n",
    "def compute_colsest_weather_station(bgr_station_long, bgr_station_lat):\n",
    "    \n",
    "    #bgr_station_long = bgr_location[\"bgr_long\"]\n",
    "    #bgr_station_lat = bgr_location[\"bgr_lat\"]\n",
    "    print((bgr_station_long, bgr_station_lat))\n",
    "    abs_long = np.absolute(weather_long - bgr_station_long)\n",
    "    abs_lat = np.absolute(weather_lat - bgr_station_lat)\n",
    "    \n",
    "    \n",
    "    if np.min(abs_long) <= np.min(abs_lat):\n",
    "        min_long_indices = np.argwhere(abs_long == np.min(abs_long))\n",
    "        idx = min_long_indices[abs_lat[min_long_indices] == np.min(abs_lat[min_long_indices])][0]\n",
    "        #print(min_long_indices)\n",
    "        #print(weather_long[idx])\n",
    "        #print(weather_lat[idx])\n",
    "    else:\n",
    "        min_lat_indices = np.argwhere(abs_lat == np.min(abs_lat))\n",
    "        idx = min_lat_indices[abs_long[min_lat_indices] == np.min(abs_long[min_lat_indices])][0]   \n",
    "        #print(weather_long[idx])\n",
    "        #print(weather_lat[idx])\n",
    "        #print(min_lat_indices)\n",
    "    #df[\"idx\"]=idx\n",
    "    return idx"
   ]
  },
  {
   "cell_type": "code",
   "execution_count": null,
   "metadata": {},
   "outputs": [],
   "source": [
    "#bgr_location[\"idx\"] = bgr_location.apply(lambda x: compute_colsest_weather_station(x[\"bgr_long\"],x[\"bgr_lat\"]),axis=1)\n",
    "bgr_location.head()"
   ]
  },
  {
   "cell_type": "code",
   "execution_count": null,
   "metadata": {},
   "outputs": [],
   "source": [
    "bgr_location[\"weath_long\"]= bgr_location[\"idx\"].apply(lambda x: weather_long[x])"
   ]
  },
  {
   "cell_type": "code",
   "execution_count": null,
   "metadata": {},
   "outputs": [],
   "source": [
    "bgr_location[\"weath_lat\"]= bgr_location[\"idx\"].apply(lambda x: weather_lat[x])"
   ]
  },
  {
   "cell_type": "code",
   "execution_count": null,
   "metadata": {},
   "outputs": [],
   "source": [
    "bgr_location.iloc[1020]"
   ]
  },
  {
   "cell_type": "code",
   "execution_count": null,
   "metadata": {},
   "outputs": [],
   "source": [
    "np.argwhere(weather_long==13.8835)"
   ]
  },
  {
   "cell_type": "code",
   "execution_count": null,
   "metadata": {},
   "outputs": [],
   "source": [
    "for i in np.argwhere(weather_long==13.8835):\n",
    "    print(weather_lat[i])"
   ]
  },
  {
   "cell_type": "code",
   "execution_count": null,
   "metadata": {},
   "outputs": [],
   "source": []
  },
  {
   "cell_type": "code",
   "execution_count": null,
   "metadata": {},
   "outputs": [],
   "source": []
  },
  {
   "cell_type": "code",
   "execution_count": null,
   "metadata": {},
   "outputs": [],
   "source": [
    "m = bgr_location[\"idx\"]\n",
    "lo = weather_long[m]\n",
    "la = weather_lat[m]"
   ]
  },
  {
   "cell_type": "code",
   "execution_count": null,
   "metadata": {},
   "outputs": [],
   "source": [
    "station = bgr_location.iloc[5400]\n",
    "station"
   ]
  },
  {
   "cell_type": "code",
   "execution_count": null,
   "metadata": {},
   "outputs": [],
   "source": [
    "weather_df.iloc[266575]"
   ]
  },
  {
   "cell_type": "code",
   "execution_count": null,
   "metadata": {},
   "outputs": [],
   "source": [
    "plt.figure(figsize=(20,10))\n",
    "plt.scatter(bgr_location[\"bgr_long\"],bgr_location[\"bgr_lat\"])\n",
    "#plt.scatter( 52.3345,  54.1204, color=\"red\")\n",
    "#plt.scatter(x=lo, y=la,color=\"red\")\n",
    "plt.show()"
   ]
  },
  {
   "cell_type": "code",
   "execution_count": null,
   "metadata": {},
   "outputs": [],
   "source": []
  },
  {
   "cell_type": "code",
   "execution_count": null,
   "metadata": {},
   "outputs": [],
   "source": [
    "# the indicies computed once and stored \n",
    "station_temp_df[\"idx\"] = station_temp_df.apply(temp_idx,axis=1) \n",
    "# station_temp_df.head()\n",
    "#station_temp_df = station_temp_df.rename(columns={\"Temp_20050103\":\"idx\"})\n",
    "# save in temporary dataset file for later use\n",
    "#station_temp_df.to_csv(\"dataset/temporary/station_temp_df.csv\", index=False)"
   ]
  },
  {
   "cell_type": "code",
   "execution_count": null,
   "metadata": {},
   "outputs": [],
   "source": [
    "# create df for the lat/long of bgr station and corresponding to ind od weather station \n",
    "temp_df = pd.read_csv(\"dataset/temporary/station_temp_df.csv\")\n",
    "temp_df.head()"
   ]
  },
  {
   "cell_type": "markdown",
   "metadata": {},
   "source": [
    "## important to open all nc and extract temp"
   ]
  },
  {
   "cell_type": "code",
   "execution_count": null,
   "metadata": {},
   "outputs": [],
   "source": [
    "# pathes to all nc files\n",
    "from os import walk\n",
    "folder_path =  \"dataset/project_try_dwd/data/\"\n",
    "files= []\n",
    "for (dirpath, dirnames, filenames) in walk(folder_path):\n",
    "    files.extend(filenames)\n",
    "    break\n",
    "files[:2]"
   ]
  },
  {
   "cell_type": "code",
   "execution_count": null,
   "metadata": {},
   "outputs": [],
   "source": [
    "# extract temps in each day of each nc file at the corresponding lat/longfor all months\n",
    "for file in files:\n",
    "    month = folder_path + file\n",
    "    nc_file = netcdf.NetCDFFile(month,'r')\n",
    "    days = nc_file.variables[\"datum\"][:]\n",
    "    days = [str(x)[:-4] for x in days]\n",
    "    for d, day in enumerate(days):\n",
    "        #if day in unique_dates:\n",
    "        temp_df[str(day)] = nc_file.variables[\"temperature\"][d,:,:].flatten()[temp_df[\"idx\"]]\n"
   ]
  },
  {
   "cell_type": "code",
   "execution_count": null,
   "metadata": {},
   "outputs": [],
   "source": [
    "a =temp_01_2005.variables[\"temperature\"][5,:,:].flatten()[temp_df[\"idx\"]]"
   ]
  },
  {
   "cell_type": "code",
   "execution_count": null,
   "metadata": {},
   "outputs": [],
   "source": [
    "len(a[a==9999])"
   ]
  },
  {
   "cell_type": "code",
   "execution_count": null,
   "metadata": {},
   "outputs": [],
   "source": [
    "b =temp_01_2005.variables[\"temperature\"][20,:,:].flatten()[]\n",
    "b"
   ]
  },
  {
   "cell_type": "code",
   "execution_count": null,
   "metadata": {},
   "outputs": [],
   "source": [
    "long = df[\"x_long\"]\n",
    "lat  = df[\"y_lat\"]\n",
    "# compute the closest temp_long to the station- all occurances\n",
    "a = np.absolute(x_long - long)\n",
    "# compute the closest temp_lat to the station- all occurances\n",
    "b = np.absolute(y_lat - lat)\n",
    "\n",
    "if np.min(a) <= np.min(b):\n",
    "    min_long = np.argwhere(a == np.min(a))\n",
    "    idx = [int(i) for i in min_long if b[i] == np.min(b[min_long])][0]\n",
    "\n",
    "else:\n",
    "    min_lat = np.argwhere(b == np.min(b))\n",
    "    idx = [int(i) for i in min_lat if a[i] == np.min(a[min_lat])][0]\n"
   ]
  },
  {
   "cell_type": "code",
   "execution_count": null,
   "metadata": {},
   "outputs": [],
   "source": []
  },
  {
   "cell_type": "code",
   "execution_count": null,
   "metadata": {},
   "outputs": [],
   "source": [
    "dirc = \"dataset/project_try_dwd/data/\"+files[0]\n",
    "dirc"
   ]
  },
  {
   "cell_type": "code",
   "execution_count": null,
   "metadata": {},
   "outputs": [],
   "source": [
    "plt.figure(figsize=(50,15))\n",
    "t_s_1.plot(color='blue', grid=True)\n",
    "plt.legend(loc='upper left')\n",
    "plt.xlabel('t s temp_BB_25470023 ')\n",
    "temp_BB_254700230.plot(color='red', grid=True, secondary_y=True)\n",
    "plt.legend(loc='upper right')\n",
    "plt.xlabel('temp temp_BB_25470023 ')\n",
    "plt.show()"
   ]
  },
  {
   "cell_type": "code",
   "execution_count": 58,
   "metadata": {},
   "outputs": [
    {
     "data": {
      "text/html": [
       "<div>\n",
       "<style scoped>\n",
       "    .dataframe tbody tr th:only-of-type {\n",
       "        vertical-align: middle;\n",
       "    }\n",
       "\n",
       "    .dataframe tbody tr th {\n",
       "        vertical-align: top;\n",
       "    }\n",
       "\n",
       "    .dataframe thead th {\n",
       "        text-align: right;\n",
       "    }\n",
       "</style>\n",
       "<table border=\"1\" class=\"dataframe\">\n",
       "  <thead>\n",
       "    <tr style=\"text-align: right;\">\n",
       "      <th></th>\n",
       "      <th>long</th>\n",
       "      <th>lat</th>\n",
       "      <th>dist</th>\n",
       "    </tr>\n",
       "  </thead>\n",
       "  <tbody>\n",
       "    <tr>\n",
       "      <th>0</th>\n",
       "      <td>5.5452</td>\n",
       "      <td>46.7198</td>\n",
       "      <td>34.053141</td>\n",
       "    </tr>\n",
       "    <tr>\n",
       "      <th>1</th>\n",
       "      <td>5.5587</td>\n",
       "      <td>46.7204</td>\n",
       "      <td>34.050516</td>\n",
       "    </tr>\n",
       "    <tr>\n",
       "      <th>2</th>\n",
       "      <td>5.5722</td>\n",
       "      <td>46.7209</td>\n",
       "      <td>34.047799</td>\n",
       "    </tr>\n",
       "    <tr>\n",
       "      <th>3</th>\n",
       "      <td>5.5857</td>\n",
       "      <td>46.7215</td>\n",
       "      <td>34.045184</td>\n",
       "    </tr>\n",
       "    <tr>\n",
       "      <th>4</th>\n",
       "      <td>5.5991</td>\n",
       "      <td>46.7221</td>\n",
       "      <td>34.042598</td>\n",
       "    </tr>\n",
       "  </tbody>\n",
       "</table>\n",
       "</div>"
      ],
      "text/plain": [
       "     long      lat       dist\n",
       "0  5.5452  46.7198  34.053141\n",
       "1  5.5587  46.7204  34.050516\n",
       "2  5.5722  46.7209  34.047799\n",
       "3  5.5857  46.7215  34.045184\n",
       "4  5.5991  46.7221  34.042598"
      ]
     },
     "execution_count": 58,
     "metadata": {},
     "output_type": "execute_result"
    }
   ],
   "source": [
    "weather_df.head()"
   ]
  },
  {
   "cell_type": "code",
   "execution_count": 60,
   "metadata": {},
   "outputs": [
    {
     "data": {
      "text/html": [
       "<div>\n",
       "<style scoped>\n",
       "    .dataframe tbody tr th:only-of-type {\n",
       "        vertical-align: middle;\n",
       "    }\n",
       "\n",
       "    .dataframe tbody tr th {\n",
       "        vertical-align: top;\n",
       "    }\n",
       "\n",
       "    .dataframe thead th {\n",
       "        text-align: right;\n",
       "    }\n",
       "</style>\n",
       "<table border=\"1\" class=\"dataframe\">\n",
       "  <thead>\n",
       "    <tr style=\"text-align: right;\">\n",
       "      <th></th>\n",
       "      <th>long</th>\n",
       "      <th>lat</th>\n",
       "      <th>dist</th>\n",
       "      <th>geometry</th>\n",
       "    </tr>\n",
       "  </thead>\n",
       "  <tbody>\n",
       "    <tr>\n",
       "      <th>0</th>\n",
       "      <td>5.5452</td>\n",
       "      <td>46.7198</td>\n",
       "      <td>34.053141</td>\n",
       "      <td>POINT (5.54520 46.71980)</td>\n",
       "    </tr>\n",
       "    <tr>\n",
       "      <th>1</th>\n",
       "      <td>5.5587</td>\n",
       "      <td>46.7204</td>\n",
       "      <td>34.050516</td>\n",
       "      <td>POINT (5.55870 46.72040)</td>\n",
       "    </tr>\n",
       "    <tr>\n",
       "      <th>2</th>\n",
       "      <td>5.5722</td>\n",
       "      <td>46.7209</td>\n",
       "      <td>34.047799</td>\n",
       "      <td>POINT (5.57220 46.72090)</td>\n",
       "    </tr>\n",
       "    <tr>\n",
       "      <th>3</th>\n",
       "      <td>5.5857</td>\n",
       "      <td>46.7215</td>\n",
       "      <td>34.045184</td>\n",
       "      <td>POINT (5.58570 46.72150)</td>\n",
       "    </tr>\n",
       "    <tr>\n",
       "      <th>4</th>\n",
       "      <td>5.5991</td>\n",
       "      <td>46.7221</td>\n",
       "      <td>34.042598</td>\n",
       "      <td>POINT (5.59910 46.72210)</td>\n",
       "    </tr>\n",
       "  </tbody>\n",
       "</table>\n",
       "</div>"
      ],
      "text/plain": [
       "     long      lat       dist                  geometry\n",
       "0  5.5452  46.7198  34.053141  POINT (5.54520 46.71980)\n",
       "1  5.5587  46.7204  34.050516  POINT (5.55870 46.72040)\n",
       "2  5.5722  46.7209  34.047799  POINT (5.57220 46.72090)\n",
       "3  5.5857  46.7215  34.045184  POINT (5.58570 46.72150)\n",
       "4  5.5991  46.7221  34.042598  POINT (5.59910 46.72210)"
      ]
     },
     "execution_count": 60,
     "metadata": {},
     "output_type": "execute_result"
    }
   ],
   "source": [
    "geometry = [Point(xy) for xy in zip(weather_df['long'], weather_df['lat'])]\n",
    "gdf = GeoDataFrame(weather_df, geometry=geometry)\n",
    "gdf.head()"
   ]
  },
  {
   "cell_type": "code",
   "execution_count": 66,
   "metadata": {},
   "outputs": [
    {
     "data": {
      "image/svg+xml": [
       "<svg xmlns=\"http://www.w3.org/2000/svg\" xmlns:xlink=\"http://www.w3.org/1999/xlink\" width=\"100.0\" height=\"100.0\" viewBox=\"4.5452 45.7198 2.0 2.0\" preserveAspectRatio=\"xMinYMin meet\"><g transform=\"matrix(1,0,0,-1,0,93.4396)\"><circle cx=\"5.5452\" cy=\"46.7198\" r=\"0.06\" stroke=\"#555555\" stroke-width=\"0.02\" fill=\"#66cc99\" opacity=\"0.6\" /></g></svg>"
      ],
      "text/plain": [
       "<shapely.geometry.point.Point at 0x7f0694c52df0>"
      ]
     },
     "execution_count": 66,
     "metadata": {},
     "output_type": "execute_result"
    }
   ],
   "source": [
    "gdf.geometry[0]"
   ]
  },
  {
   "cell_type": "code",
   "execution_count": null,
   "metadata": {},
   "outputs": [],
   "source": []
  },
  {
   "cell_type": "code",
   "execution_count": null,
   "metadata": {},
   "outputs": [],
   "source": []
  },
  {
   "cell_type": "code",
   "execution_count": null,
   "metadata": {},
   "outputs": [],
   "source": [
    "geometry = [Point(xy) for xy in zip(weather_df['long'], weather_df['lat'])]\n",
    "gdf = GeoDataFrame(weather_df, geometry=geometry)\n",
    "\n",
    "plt.rcParams['figure.figsize'] = [16, 11]\n",
    "fig, ax = plt.subplots()\n",
    "gdf.plot(ax=ax, color='orange', alpha=0.8)\n",
    "gdf.plot(ax=ax, color='orange', alpha=0.8)\n",
    "\n",
    "gdf.head()"
   ]
  },
  {
   "cell_type": "code",
   "execution_count": 30,
   "metadata": {},
   "outputs": [
    {
     "data": {
      "text/plain": [
       "(53.416793, 13.643653)"
      ]
     },
     "execution_count": 30,
     "metadata": {},
     "output_type": "execute_result"
    }
   ],
   "source": [
    "bgr = (bgr_lat,bgr_lon)\n",
    "bgr"
   ]
  },
  {
   "cell_type": "code",
   "execution_count": 32,
   "metadata": {},
   "outputs": [
    {
     "data": {
      "text/plain": [
       "(46.7198, 46.7198)"
      ]
     },
     "execution_count": 32,
     "metadata": {},
     "output_type": "execute_result"
    }
   ],
   "source": [
    "weather= (weather_lat0,weather_lat0)\n",
    "weather"
   ]
  },
  {
   "cell_type": "code",
   "execution_count": 42,
   "metadata": {},
   "outputs": [],
   "source": [
    "def distance(x,y):\n",
    "    pt_1 =(x,y)\n",
    "    pt_1 = np.array((pt_1[0], pt_1[1]))\n",
    "    pt_2 = np.array((bgr[0], bgr[1]))\n",
    "    return np.linalg.norm(pt_1-pt_2)\n"
   ]
  },
  {
   "cell_type": "code",
   "execution_count": 53,
   "metadata": {},
   "outputs": [],
   "source": [
    "#weather_df[\"dist\"]=weather_df.apply(lambda x:distance(weather_df[\"long\"],weather_df[\"lat\"]),axis=1)"
   ]
  },
  {
   "cell_type": "code",
   "execution_count": 17,
   "metadata": {},
   "outputs": [],
   "source": [
    "def distance(pt_1, pt_2):\n",
    "    pt_1 = np.array((pt_1[0], pt_1[1]))\n",
    "    pt_2 = np.array((pt_2[0], pt_2[1]))\n",
    "    return np.linalg.norm(pt_1-pt_2)\n",
    "\n",
    "def closest_node(node, df):\n",
    "    pt = []\n",
    "    nodes = zip(weather_df[\"long\"],weather_df[\"long\"])\n",
    "    dist = 9999999\n",
    "    for n in nodes:\n",
    "        if distance(node, n) <= dist:\n",
    "            dist = distance(node, n)\n",
    "            pt =n \n",
    "    return pt\n"
   ]
  },
  {
   "cell_type": "code",
   "execution_count": 68,
   "metadata": {},
   "outputs": [],
   "source": [
    "from sklearn.neighbors import NearestNeighbors\n",
    "import numpy as np\n",
    "\n",
    "def distance(df,bgr):\n",
    "    \"\"\"\n",
    "    Calculate the great circle distance between two points\n",
    "    on the earth (specified in decimal degrees)\n",
    "    \"\"\"\n",
    "    lon1, lat1 = df[\"long\"], df[\"lat\"]\n",
    "    lon2, lat2 = bgr\n",
    "    # convert decimal degrees to radians\n",
    "    lon1, lat1, lon2, lat2 = map(np.radians, [lon1, lat1, lon2, lat2])\n",
    "    # haversine formula\n",
    "    dlon = lon2 - lon1\n",
    "    dlat = lat2 - lat1\n",
    "    a = np.sin(dlat/2)**2 + np.cos(lat1) * np.cos(lat2) * np.sin(dlon/2)**2\n",
    "    c = 2 * np.arcsin(np.sqrt(a))\n",
    "    km = 6367 * c\n",
    "    return km\n"
   ]
  },
  {
   "cell_type": "code",
   "execution_count": 76,
   "metadata": {},
   "outputs": [],
   "source": [
    "#del weather_df[\"geometry\"]"
   ]
  },
  {
   "cell_type": "code",
   "execution_count": 81,
   "metadata": {},
   "outputs": [],
   "source": [
    "def inx_bgr(df):\n",
    "    bgr = df[\"bgr_long\"], df[\"bgr_lat\"]\n",
    "    weather_df[\"dist\"]= weather_df.apply(distance, axis=1)\n",
    "    return np.argmin(weather_df[\"dist\"])"
   ]
  },
  {
   "cell_type": "code",
   "execution_count": null,
   "metadata": {},
   "outputs": [],
   "source": []
  }
 ],
 "metadata": {
  "kernelspec": {
   "display_name": "Python 3",
   "language": "python",
   "name": "python3"
  },
  "language_info": {
   "codemirror_mode": {
    "name": "ipython",
    "version": 3
   },
   "file_extension": ".py",
   "mimetype": "text/x-python",
   "name": "python",
   "nbconvert_exporter": "python",
   "pygments_lexer": "ipython3",
   "version": "3.8.5"
  }
 },
 "nbformat": 4,
 "nbformat_minor": 4
}
