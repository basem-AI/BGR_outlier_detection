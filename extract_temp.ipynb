{
 "cells": [
  {
   "cell_type": "markdown",
   "metadata": {},
   "source": [
    "# Time series\n",
    "75033710 rows\n",
    "\n",
    "13713 unique time series taken in 12603 stations from 17-10-2000 to 22-03-2018"
   ]
  },
  {
   "cell_type": "code",
   "execution_count": 1,
   "metadata": {},
   "outputs": [],
   "source": [
    "import pyarrow.feather as feather\n",
    "import pandas as pd\n",
    "import numpy as np\n",
    "from scipy.io import netcdf\n",
    "import matplotlib.pyplot as plt "
   ]
  },
  {
   "cell_type": "markdown",
   "metadata": {},
   "source": [
    "# temperature: as predictor\n",
    "\n",
    "Daily means of hourly grids of air temperature for whole Germany (project TRY Advancement)\n",
    "\n",
    "there are 215 NC files, each file represents a month of dailly temperature from 01-1995 tp 11-2012\n",
    "\n"
   ]
  },
  {
   "cell_type": "code",
   "execution_count": null,
   "metadata": {},
   "outputs": [],
   "source": [
    "# extract relevant temp to T.S from an nc file "
   ]
  },
  {
   "cell_type": "code",
   "execution_count": 2,
   "metadata": {},
   "outputs": [],
   "source": [
    "# each nc file has temperature across whole germany\n",
    "dir_01_2005 = \"dataset/project_try_dwd/data/\"+'daily_Project_TRY_air_temperature_mean__TT_200511_daymean.nc'\n",
    "temp_01_2005 = netcdf.NetCDFFile(dir_01_2005,'r')"
   ]
  },
  {
   "cell_type": "code",
   "execution_count": 3,
   "metadata": {},
   "outputs": [
    {
     "data": {
      "text/plain": [
       "OrderedDict([('lon', <scipy.io.netcdf.netcdf_variable at 0x7faf89466190>),\n",
       "             ('lat', <scipy.io.netcdf.netcdf_variable at 0x7faf89cdac70>),\n",
       "             ('time', <scipy.io.netcdf.netcdf_variable at 0x7faf89cd54c0>),\n",
       "             ('time_bnds',\n",
       "              <scipy.io.netcdf.netcdf_variable at 0x7faf58fa8520>),\n",
       "             ('datum', <scipy.io.netcdf.netcdf_variable at 0x7faf58fa8910>),\n",
       "             ('temperature',\n",
       "              <scipy.io.netcdf.netcdf_variable at 0x7faf58fa8a00>)])"
      ]
     },
     "execution_count": 3,
     "metadata": {},
     "output_type": "execute_result"
    }
   ],
   "source": [
    "temp_01_2005.variables"
   ]
  },
  {
   "cell_type": "code",
   "execution_count": 58,
   "metadata": {},
   "outputs": [],
   "source": [
    "# long and lat where temp was measured \n",
    "x_long = temp_01_2005.variables[\"lon\"][:].flatten()\n",
    "y_lat = temp_01_2005.variables[\"lat\"][:].flatten()\n"
   ]
  },
  {
   "cell_type": "code",
   "execution_count": 61,
   "metadata": {},
   "outputs": [
    {
     "data": {
      "text/plain": [
       "(675360,)"
      ]
     },
     "execution_count": 61,
     "metadata": {},
     "output_type": "execute_result"
    }
   ],
   "source": [
    "x_long.shape"
   ]
  },
  {
   "cell_type": "code",
   "execution_count": 5,
   "metadata": {},
   "outputs": [
    {
     "data": {
      "text/plain": [
       "675360"
      ]
     },
     "execution_count": 5,
     "metadata": {},
     "output_type": "execute_result"
    }
   ],
   "source": [
    "938*720"
   ]
  },
  {
   "cell_type": "code",
   "execution_count": 56,
   "metadata": {},
   "outputs": [
    {
     "data": {
      "text/html": [
       "<div>\n",
       "<style scoped>\n",
       "    .dataframe tbody tr th:only-of-type {\n",
       "        vertical-align: middle;\n",
       "    }\n",
       "\n",
       "    .dataframe tbody tr th {\n",
       "        vertical-align: top;\n",
       "    }\n",
       "\n",
       "    .dataframe thead th {\n",
       "        text-align: right;\n",
       "    }\n",
       "</style>\n",
       "<table border=\"1\" class=\"dataframe\">\n",
       "  <thead>\n",
       "    <tr style=\"text-align: right;\">\n",
       "      <th></th>\n",
       "      <th>proj_id</th>\n",
       "      <th>name</th>\n",
       "      <th>x_long</th>\n",
       "      <th>y_lat</th>\n",
       "      <th>x_utm32</th>\n",
       "      <th>y_utm32</th>\n",
       "      <th>aquifer_id</th>\n",
       "      <th>filteroberkante</th>\n",
       "      <th>filterunterkante</th>\n",
       "      <th>filter_length</th>\n",
       "      <th>filter_depth_middle</th>\n",
       "      <th>surface_elevation</th>\n",
       "      <th>watertable_pressure</th>\n",
       "      <th>well_depth</th>\n",
       "      <th>aquifer_level</th>\n",
       "    </tr>\n",
       "  </thead>\n",
       "  <tbody>\n",
       "    <tr>\n",
       "      <th>0</th>\n",
       "      <td>BB_25470023</td>\n",
       "      <td>Ottenhagen OP</td>\n",
       "      <td>13.643609</td>\n",
       "      <td>53.416804</td>\n",
       "      <td>808527.0</td>\n",
       "      <td>5928687.0</td>\n",
       "      <td>weitgehend bedeckter GWL</td>\n",
       "      <td>NaN</td>\n",
       "      <td>NaN</td>\n",
       "      <td>NaN</td>\n",
       "      <td>NaN</td>\n",
       "      <td>100,33</td>\n",
       "      <td>gespannt</td>\n",
       "      <td>62,53</td>\n",
       "      <td>NaN</td>\n",
       "    </tr>\n",
       "    <tr>\n",
       "      <th>1</th>\n",
       "      <td>BB_25470024</td>\n",
       "      <td>Ottenhagen UP</td>\n",
       "      <td>13.643653</td>\n",
       "      <td>53.416793</td>\n",
       "      <td>808530.0</td>\n",
       "      <td>5928686.0</td>\n",
       "      <td>tieferer GWL in tiefern quart. und tert. Schic...</td>\n",
       "      <td>NaN</td>\n",
       "      <td>NaN</td>\n",
       "      <td>NaN</td>\n",
       "      <td>NaN</td>\n",
       "      <td>100,38</td>\n",
       "      <td>NaN</td>\n",
       "      <td>45,68</td>\n",
       "      <td>NaN</td>\n",
       "    </tr>\n",
       "    <tr>\n",
       "      <th>2</th>\n",
       "      <td>BB_25480025</td>\n",
       "      <td>Neumannshof</td>\n",
       "      <td>13.826532</td>\n",
       "      <td>53.452024</td>\n",
       "      <td>820407.0</td>\n",
       "      <td>5933409.0</td>\n",
       "      <td>weitgehend bedeckter GWL</td>\n",
       "      <td>NaN</td>\n",
       "      <td>NaN</td>\n",
       "      <td>NaN</td>\n",
       "      <td>NaN</td>\n",
       "      <td>58,94</td>\n",
       "      <td>gespannt</td>\n",
       "      <td>10,84</td>\n",
       "      <td>NaN</td>\n",
       "    </tr>\n",
       "    <tr>\n",
       "      <th>3</th>\n",
       "      <td>BB_25480026</td>\n",
       "      <td>Amalienhof</td>\n",
       "      <td>13.677407</td>\n",
       "      <td>53.457078</td>\n",
       "      <td>810477.0</td>\n",
       "      <td>5933310.0</td>\n",
       "      <td>weitgehend bedeckter GWL</td>\n",
       "      <td>NaN</td>\n",
       "      <td>NaN</td>\n",
       "      <td>NaN</td>\n",
       "      <td>NaN</td>\n",
       "      <td>97,67</td>\n",
       "      <td>gespannt</td>\n",
       "      <td>62,67</td>\n",
       "      <td>NaN</td>\n",
       "    </tr>\n",
       "    <tr>\n",
       "      <th>4</th>\n",
       "      <td>BB_25481088</td>\n",
       "      <td>Milow, Beschaffenheitsmesst.OP</td>\n",
       "      <td>13.821475</td>\n",
       "      <td>53.475857</td>\n",
       "      <td>819892.0</td>\n",
       "      <td>5936035.0</td>\n",
       "      <td>weitgehend unbedeckter GWL</td>\n",
       "      <td>NaN</td>\n",
       "      <td>NaN</td>\n",
       "      <td>NaN</td>\n",
       "      <td>NaN</td>\n",
       "      <td>57,6</td>\n",
       "      <td>gespannt</td>\n",
       "      <td>19,71</td>\n",
       "      <td>NaN</td>\n",
       "    </tr>\n",
       "  </tbody>\n",
       "</table>\n",
       "</div>"
      ],
      "text/plain": [
       "       proj_id                            name     x_long      y_lat  \\\n",
       "0  BB_25470023                   Ottenhagen OP  13.643609  53.416804   \n",
       "1  BB_25470024                   Ottenhagen UP  13.643653  53.416793   \n",
       "2  BB_25480025                     Neumannshof  13.826532  53.452024   \n",
       "3  BB_25480026                      Amalienhof  13.677407  53.457078   \n",
       "4  BB_25481088  Milow, Beschaffenheitsmesst.OP  13.821475  53.475857   \n",
       "\n",
       "    x_utm32    y_utm32                                         aquifer_id  \\\n",
       "0  808527.0  5928687.0                           weitgehend bedeckter GWL   \n",
       "1  808530.0  5928686.0  tieferer GWL in tiefern quart. und tert. Schic...   \n",
       "2  820407.0  5933409.0                           weitgehend bedeckter GWL   \n",
       "3  810477.0  5933310.0                           weitgehend bedeckter GWL   \n",
       "4  819892.0  5936035.0                         weitgehend unbedeckter GWL   \n",
       "\n",
       "  filteroberkante filterunterkante filter_length filter_depth_middle  \\\n",
       "0             NaN              NaN           NaN                 NaN   \n",
       "1             NaN              NaN           NaN                 NaN   \n",
       "2             NaN              NaN           NaN                 NaN   \n",
       "3             NaN              NaN           NaN                 NaN   \n",
       "4             NaN              NaN           NaN                 NaN   \n",
       "\n",
       "  surface_elevation watertable_pressure well_depth  aquifer_level  \n",
       "0            100,33            gespannt      62,53            NaN  \n",
       "1            100,38                 NaN      45,68            NaN  \n",
       "2             58,94            gespannt      10,84            NaN  \n",
       "3             97,67            gespannt      62,67            NaN  \n",
       "4              57,6            gespannt      19,71            NaN  "
      ]
     },
     "execution_count": 56,
     "metadata": {},
     "output_type": "execute_result"
    }
   ],
   "source": [
    "meta_df = pd.read_excel(\"dataset/metadata_timeseries_LongLat.xlsx\")\n",
    "meta_df.head()"
   ]
  },
  {
   "cell_type": "code",
   "execution_count": 57,
   "metadata": {},
   "outputs": [
    {
     "data": {
      "text/html": [
       "<div>\n",
       "<style scoped>\n",
       "    .dataframe tbody tr th:only-of-type {\n",
       "        vertical-align: middle;\n",
       "    }\n",
       "\n",
       "    .dataframe tbody tr th {\n",
       "        vertical-align: top;\n",
       "    }\n",
       "\n",
       "    .dataframe thead th {\n",
       "        text-align: right;\n",
       "    }\n",
       "</style>\n",
       "<table border=\"1\" class=\"dataframe\">\n",
       "  <thead>\n",
       "    <tr style=\"text-align: right;\">\n",
       "      <th></th>\n",
       "      <th>proj_id</th>\n",
       "      <th>x_long</th>\n",
       "      <th>y_lat</th>\n",
       "    </tr>\n",
       "  </thead>\n",
       "  <tbody>\n",
       "    <tr>\n",
       "      <th>0</th>\n",
       "      <td>BB_25470023</td>\n",
       "      <td>13.643609</td>\n",
       "      <td>53.416804</td>\n",
       "    </tr>\n",
       "    <tr>\n",
       "      <th>1</th>\n",
       "      <td>BB_25470024</td>\n",
       "      <td>13.643653</td>\n",
       "      <td>53.416793</td>\n",
       "    </tr>\n",
       "    <tr>\n",
       "      <th>2</th>\n",
       "      <td>BB_25480025</td>\n",
       "      <td>13.826532</td>\n",
       "      <td>53.452024</td>\n",
       "    </tr>\n",
       "    <tr>\n",
       "      <th>3</th>\n",
       "      <td>BB_25480026</td>\n",
       "      <td>13.677407</td>\n",
       "      <td>53.457078</td>\n",
       "    </tr>\n",
       "    <tr>\n",
       "      <th>4</th>\n",
       "      <td>BB_25481088</td>\n",
       "      <td>13.821475</td>\n",
       "      <td>53.475857</td>\n",
       "    </tr>\n",
       "  </tbody>\n",
       "</table>\n",
       "</div>"
      ],
      "text/plain": [
       "       proj_id     x_long      y_lat\n",
       "0  BB_25470023  13.643609  53.416804\n",
       "1  BB_25470024  13.643653  53.416793\n",
       "2  BB_25480025  13.826532  53.452024\n",
       "3  BB_25480026  13.677407  53.457078\n",
       "4  BB_25481088  13.821475  53.475857"
      ]
     },
     "execution_count": 57,
     "metadata": {},
     "output_type": "execute_result"
    }
   ],
   "source": [
    "# create df to store the temp T.S for each station\n",
    "\n",
    "station_temp_df =meta_df[[\"proj_id\",\"x_long\",\"y_lat\"]]\n",
    "station_temp_df.head()"
   ]
  },
  {
   "cell_type": "code",
   "execution_count": 62,
   "metadata": {},
   "outputs": [
    {
     "data": {
      "text/plain": [
       "(13492, 3)"
      ]
     },
     "execution_count": 62,
     "metadata": {},
     "output_type": "execute_result"
    }
   ],
   "source": [
    "station_temp_df.shape"
   ]
  },
  {
   "cell_type": "code",
   "execution_count": 69,
   "metadata": {},
   "outputs": [
    {
     "data": {
      "text/plain": [
       "13.6436"
      ]
     },
     "execution_count": 69,
     "metadata": {},
     "output_type": "execute_result"
    }
   ],
   "source": [
    "x_long[np.argmin(np.absolute(x_long-13.643609))]"
   ]
  },
  {
   "cell_type": "code",
   "execution_count": null,
   "metadata": {},
   "outputs": [],
   "source": [
    "# extract the indices of the temp - matching the locations between weather stations ans bgr stations\n",
    "\n",
    "def temp_idx(df):\n",
    "    # compute the temp_index according the closest long_lat\n",
    "    long = df[\"x_long\"]\n",
    "    lat  = df[\"y_lat\"]\n",
    "    # compute the closest temp_long to the station- all occurances\n",
    "    a = np.absolute(x_long - long)\n",
    "    # compute the closest temp_lat to the station- all occurances\n",
    "    b = np.absolute(y_lat - lat)\n",
    "\n",
    "    if np.min(a) <= np.min(b):\n",
    "        min_long = np.argwhere(a == np.min(a))\n",
    "        idx = [int(i) for i in min_long if b[i] == np.min(b[min_long])][0]\n",
    "\n",
    "    else:\n",
    "        min_lat = np.argwhere(b == np.min(b))\n",
    "        idx = [int(i) for i in min_lat if a[i] == np.min(a[min_lat])][0]\n",
    "    \n",
    "    return idx\n",
    "\n"
   ]
  },
  {
   "cell_type": "code",
   "execution_count": null,
   "metadata": {},
   "outputs": [],
   "source": [
    "# the indicies computed once and stored \n",
    "station_temp_df[\"idx\"] = station_temp_df.apply(temp_idx,axis=1) \n",
    "# station_temp_df.head()\n",
    "#station_temp_df = station_temp_df.rename(columns={\"Temp_20050103\":\"idx\"})\n",
    "# save in temporary dataset file for later use\n",
    "#station_temp_df.to_csv(\"dataset/temporary/station_temp_df.csv\", index=False)"
   ]
  },
  {
   "cell_type": "code",
   "execution_count": 11,
   "metadata": {},
   "outputs": [
    {
     "data": {
      "text/html": [
       "<div>\n",
       "<style scoped>\n",
       "    .dataframe tbody tr th:only-of-type {\n",
       "        vertical-align: middle;\n",
       "    }\n",
       "\n",
       "    .dataframe tbody tr th {\n",
       "        vertical-align: top;\n",
       "    }\n",
       "\n",
       "    .dataframe thead th {\n",
       "        text-align: right;\n",
       "    }\n",
       "</style>\n",
       "<table border=\"1\" class=\"dataframe\">\n",
       "  <thead>\n",
       "    <tr style=\"text-align: right;\">\n",
       "      <th></th>\n",
       "      <th>proj_id</th>\n",
       "      <th>x_long</th>\n",
       "      <th>y_lat</th>\n",
       "      <th>idx</th>\n",
       "    </tr>\n",
       "  </thead>\n",
       "  <tbody>\n",
       "    <tr>\n",
       "      <th>0</th>\n",
       "      <td>BB_25470023</td>\n",
       "      <td>13.643609</td>\n",
       "      <td>53.416804</td>\n",
       "      <td>515351</td>\n",
       "    </tr>\n",
       "    <tr>\n",
       "      <th>1</th>\n",
       "      <td>BB_25470024</td>\n",
       "      <td>13.643653</td>\n",
       "      <td>53.416793</td>\n",
       "      <td>515351</td>\n",
       "    </tr>\n",
       "    <tr>\n",
       "      <th>2</th>\n",
       "      <td>BB_25480025</td>\n",
       "      <td>13.826532</td>\n",
       "      <td>53.452024</td>\n",
       "      <td>522658</td>\n",
       "    </tr>\n",
       "    <tr>\n",
       "      <th>3</th>\n",
       "      <td>BB_25480026</td>\n",
       "      <td>13.677407</td>\n",
       "      <td>53.457078</td>\n",
       "      <td>584481</td>\n",
       "    </tr>\n",
       "    <tr>\n",
       "      <th>4</th>\n",
       "      <td>BB_25481088</td>\n",
       "      <td>13.821475</td>\n",
       "      <td>53.475857</td>\n",
       "      <td>557852</td>\n",
       "    </tr>\n",
       "  </tbody>\n",
       "</table>\n",
       "</div>"
      ],
      "text/plain": [
       "       proj_id     x_long      y_lat     idx\n",
       "0  BB_25470023  13.643609  53.416804  515351\n",
       "1  BB_25470024  13.643653  53.416793  515351\n",
       "2  BB_25480025  13.826532  53.452024  522658\n",
       "3  BB_25480026  13.677407  53.457078  584481\n",
       "4  BB_25481088  13.821475  53.475857  557852"
      ]
     },
     "execution_count": 11,
     "metadata": {},
     "output_type": "execute_result"
    }
   ],
   "source": [
    "# create df for the lat/long of bgr station and corresponding to ind od weather station \n",
    "temp_df = pd.read_csv(\"dataset/temporary/station_temp_df.csv\")\n",
    "temp_df.head()"
   ]
  },
  {
   "cell_type": "code",
   "execution_count": 14,
   "metadata": {},
   "outputs": [
    {
     "data": {
      "text/plain": [
       "['daily_Project_TRY_air_temperature_mean__TT_200912_daymean.nc',\n",
       " 'daily_Project_TRY_air_temperature_mean__TT_199602_daymean.nc']"
      ]
     },
     "execution_count": 14,
     "metadata": {},
     "output_type": "execute_result"
    }
   ],
   "source": [
    "# pathes to all nc files\n",
    "from os import walk\n",
    "folder_path =  \"dataset/project_try_dwd/data/\"\n",
    "files= []\n",
    "for (dirpath, dirnames, filenames) in walk(folder_path):\n",
    "    files.extend(filenames)\n",
    "    break\n",
    "files[:2]"
   ]
  },
  {
   "cell_type": "code",
   "execution_count": null,
   "metadata": {},
   "outputs": [],
   "source": [
    "# extract temps in each day of each nc file at the corresponding lat/longfor all months\n",
    "for file in files:\n",
    "    month = folder_path + file\n",
    "    nc_file = netcdf.NetCDFFile(month,'r')\n",
    "    days = nc_file.variables[\"datum\"][:]\n",
    "    days = [str(x)[:-4] for x in days]\n",
    "    for d, day in enumerate(days):\n",
    "        #if day in unique_dates:\n",
    "        temp_df[str(day)] = nc_file.variables[\"temperature\"][d,:,:].flatten()[temp_df[\"idx\"]]\n"
   ]
  },
  {
   "cell_type": "code",
   "execution_count": 73,
   "metadata": {},
   "outputs": [],
   "source": [
    "a =temp_01_2005.variables[\"temperature\"][5,:,:].flatten()[temp_df[\"idx\"]]"
   ]
  },
  {
   "cell_type": "code",
   "execution_count": 75,
   "metadata": {},
   "outputs": [
    {
     "data": {
      "text/plain": [
       "1521"
      ]
     },
     "execution_count": 75,
     "metadata": {},
     "output_type": "execute_result"
    }
   ],
   "source": [
    "len(a[a==9999])"
   ]
  },
  {
   "cell_type": "code",
   "execution_count": 49,
   "metadata": {},
   "outputs": [
    {
     "data": {
      "text/plain": [
       "array([  14,   14, 9999, ..., 9999, 9999,   -3], dtype=int16)"
      ]
     },
     "execution_count": 49,
     "metadata": {},
     "output_type": "execute_result"
    }
   ],
   "source": [
    "b =temp_01_2005.variables[\"temperature\"][20,:,:].flatten()[]\n",
    "b"
   ]
  },
  {
   "cell_type": "code",
   "execution_count": 50,
   "metadata": {},
   "outputs": [
    {
     "data": {
      "text/plain": [
       "(1521,)"
      ]
     },
     "execution_count": 50,
     "metadata": {},
     "output_type": "execute_result"
    }
   ],
   "source": [
    "long = df[\"x_long\"]\n",
    "lat  = df[\"y_lat\"]\n",
    "# compute the closest temp_long to the station- all occurances\n",
    "a = np.absolute(x_long - long)\n",
    "# compute the closest temp_lat to the station- all occurances\n",
    "b = np.absolute(y_lat - lat)\n",
    "\n",
    "if np.min(a) <= np.min(b):\n",
    "    min_long = np.argwhere(a == np.min(a))\n",
    "    idx = [int(i) for i in min_long if b[i] == np.min(b[min_long])][0]\n",
    "\n",
    "else:\n",
    "    min_lat = np.argwhere(b == np.min(b))\n",
    "    idx = [int(i) for i in min_lat if a[i] == np.min(a[min_lat])][0]\n"
   ]
  },
  {
   "cell_type": "code",
   "execution_count": null,
   "metadata": {},
   "outputs": [],
   "source": []
  },
  {
   "cell_type": "code",
   "execution_count": null,
   "metadata": {},
   "outputs": [],
   "source": [
    "dirc = \"dataset/project_try_dwd/data/\"+files[0]\n",
    "dirc"
   ]
  },
  {
   "cell_type": "code",
   "execution_count": null,
   "metadata": {},
   "outputs": [],
   "source": [
    "plt.figure(figsize=(50,15))\n",
    "t_s_1.plot(color='blue', grid=True)\n",
    "plt.legend(loc='upper left')\n",
    "plt.xlabel('t s temp_BB_25470023 ')\n",
    "temp_BB_254700230.plot(color='red', grid=True, secondary_y=True)\n",
    "plt.legend(loc='upper right')\n",
    "plt.xlabel('temp temp_BB_25470023 ')\n",
    "plt.show()"
   ]
  },
  {
   "cell_type": "code",
   "execution_count": null,
   "metadata": {},
   "outputs": [],
   "source": []
  },
  {
   "cell_type": "code",
   "execution_count": null,
   "metadata": {},
   "outputs": [],
   "source": []
  },
  {
   "cell_type": "code",
   "execution_count": null,
   "metadata": {},
   "outputs": [],
   "source": []
  },
  {
   "cell_type": "code",
   "execution_count": null,
   "metadata": {},
   "outputs": [],
   "source": []
  },
  {
   "cell_type": "code",
   "execution_count": null,
   "metadata": {},
   "outputs": [],
   "source": []
  },
  {
   "cell_type": "code",
   "execution_count": null,
   "metadata": {},
   "outputs": [],
   "source": []
  },
  {
   "cell_type": "code",
   "execution_count": null,
   "metadata": {},
   "outputs": [],
   "source": []
  }
 ],
 "metadata": {
  "kernelspec": {
   "display_name": "Python 3",
   "language": "python",
   "name": "python3"
  },
  "language_info": {
   "codemirror_mode": {
    "name": "ipython",
    "version": 3
   },
   "file_extension": ".py",
   "mimetype": "text/x-python",
   "name": "python",
   "nbconvert_exporter": "python",
   "pygments_lexer": "ipython3",
   "version": "3.8.5"
  }
 },
 "nbformat": 4,
 "nbformat_minor": 4
}
