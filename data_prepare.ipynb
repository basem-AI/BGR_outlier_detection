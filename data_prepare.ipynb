{
 "cells": [
  {
   "cell_type": "markdown",
   "metadata": {},
   "source": [
    "# Time series\n",
    "75033710 rows\n",
    "\n",
    "13713 unique time series taken in 12603 stations from 17-10-2000 to 22-03-2018"
   ]
  },
  {
   "cell_type": "code",
   "execution_count": 1,
   "metadata": {},
   "outputs": [],
   "source": [
    "import pyarrow.feather as feather\n",
    "import pandas as pd\n",
    "import numpy as np\n",
    "from scipy.io import netcdf\n",
    "import matplotlib.pyplot as plt "
   ]
  },
  {
   "cell_type": "code",
   "execution_count": null,
   "metadata": {},
   "outputs": [],
   "source": [
    "time_series_df = feather.read_feather('dataset/original_data_as_feather')\n",
    "time_series_df.head()"
   ]
  },
  {
   "cell_type": "code",
   "execution_count": null,
   "metadata": {},
   "outputs": [],
   "source": []
  },
  {
   "cell_type": "code",
   "execution_count": null,
   "metadata": {},
   "outputs": [],
   "source": [
    "print(len(time_series_df))\n",
    "print(len(time_series_df[\"proj_id\"].unique()))\n",
    "print(len(time_series_df[\"name\"].unique()))\n",
    "print(time_series_df.isnull().sum())"
   ]
  },
  {
   "cell_type": "code",
   "execution_count": null,
   "metadata": {},
   "outputs": [],
   "source": [
    "#pd.DataFrame(data=(time_series_df.loc[time_series_df.index[0]],time_series_df.loc[time_series_df.index[-1]]))"
   ]
  },
  {
   "cell_type": "code",
   "execution_count": null,
   "metadata": {},
   "outputs": [],
   "source": [
    "t_s_1 = time_series_df[time_series_df[\"proj_id\"]==\"BB_25470023\"]\n",
    "plt.plot(t_s_1[\"date\"],t_s_1[\"groundwater_level\"])"
   ]
  },
  {
   "cell_type": "code",
   "execution_count": null,
   "metadata": {},
   "outputs": [],
   "source": [
    "t_s_2 = time_series_df[time_series_df[\"proj_id\"]==time_series_df[\"proj_id\"].unique()[5002]]\n",
    "plt.plot(t_s_2[\"date\"],t_s_2[\"groundwater_level\"])"
   ]
  },
  {
   "cell_type": "code",
   "execution_count": null,
   "metadata": {},
   "outputs": [],
   "source": [
    "len(t_s_2[\"date\"].unique())"
   ]
  },
  {
   "cell_type": "code",
   "execution_count": null,
   "metadata": {},
   "outputs": [],
   "source": [
    "t_s_2[\"date\"].unique()[10:20]"
   ]
  },
  {
   "cell_type": "markdown",
   "metadata": {},
   "source": [
    "# filter time series to be from 1995 to 2012\n",
    "## and drop unnedded columns"
   ]
  },
  {
   "cell_type": "code",
   "execution_count": 1,
   "metadata": {},
   "outputs": [],
   "source": [
    "###############"
   ]
  },
  {
   "cell_type": "markdown",
   "metadata": {},
   "source": [
    "# metadata: \n",
    "respective observation wells ( stations),\n",
    "\n",
    "related to the equipment used in the measurement e.g. coordinates, filter depth\n",
    "\n",
    "13492 rows, 15 feature\n",
    "latitude and longitude of stations are taken from here"
   ]
  },
  {
   "cell_type": "code",
   "execution_count": null,
   "metadata": {},
   "outputs": [],
   "source": [
    "meta_df = pd.read_excel(\"dataset/metadata_timeseries_LongLat.xlsx\")\n",
    "meta_df.head()"
   ]
  },
  {
   "cell_type": "code",
   "execution_count": null,
   "metadata": {},
   "outputs": [],
   "source": [
    "meta_df.shape"
   ]
  },
  {
   "cell_type": "code",
   "execution_count": null,
   "metadata": {},
   "outputs": [],
   "source": [
    "len(meta_df[\"y_lat\"].unique())"
   ]
  },
  {
   "cell_type": "code",
   "execution_count": null,
   "metadata": {},
   "outputs": [],
   "source": [
    "plt.scatter(meta_df[\"x_long\"],meta_df[\"y_lat\"])\n",
    "plt.show()"
   ]
  },
  {
   "cell_type": "code",
   "execution_count": null,
   "metadata": {},
   "outputs": [],
   "source": []
  },
  {
   "cell_type": "code",
   "execution_count": null,
   "metadata": {},
   "outputs": [],
   "source": []
  },
  {
   "cell_type": "markdown",
   "metadata": {},
   "source": [
    " ### predictors ( temperature and precipitation) are matched to the station lon lat acording these meta data"
   ]
  },
  {
   "cell_type": "markdown",
   "metadata": {},
   "source": [
    "# temperature: as predictor\n",
    "\n",
    "Daily means of hourly grids of air temperature for whole Germany (project TRY Advancement)\n",
    "\n",
    "there are 215 NC files, each file represents a month of dailly temperature from 01-1995 tp 11-2012\n",
    "\n"
   ]
  },
  {
   "cell_type": "code",
   "execution_count": null,
   "metadata": {},
   "outputs": [],
   "source": [
    "# extract relevant temp to T.S from an nc file "
   ]
  },
  {
   "cell_type": "code",
   "execution_count": null,
   "metadata": {},
   "outputs": [],
   "source": [
    "# each nc file has temperature across whole germany\n",
    "dir_01_2005 = \"dataset/project_try_dwd/data/\"+'daily_Project_TRY_air_temperature_mean__TT_200511_daymean.nc'\n",
    "temp_01_2005 = netcdf.NetCDFFile(dir_01_2005,'r')"
   ]
  },
  {
   "cell_type": "code",
   "execution_count": null,
   "metadata": {},
   "outputs": [],
   "source": [
    "temp_01_2005.variables"
   ]
  },
  {
   "cell_type": "code",
   "execution_count": null,
   "metadata": {},
   "outputs": [],
   "source": [
    "# long and lat where temp was measured \n",
    "x_long = temp_01_2005.variables[\"lon\"][:].flatten()\n",
    "y_lat = temp_01_2005.variables[\"lat\"][:].flatten()\n"
   ]
  },
  {
   "cell_type": "code",
   "execution_count": null,
   "metadata": {},
   "outputs": [],
   "source": [
    "938*720"
   ]
  },
  {
   "cell_type": "code",
   "execution_count": null,
   "metadata": {},
   "outputs": [],
   "source": [
    "# create df to store the temp T.S for each station\n",
    "station_temp_df =meta_df[[\"proj_id\",\"x_long\",\"y_lat\"]]\n",
    "station_temp_df.head()"
   ]
  },
  {
   "cell_type": "code",
   "execution_count": null,
   "metadata": {},
   "outputs": [],
   "source": [
    "# extract the indices of the temp - matching the locations between weather stations ans bgr stations\n",
    "\n",
    "def temp_idx(df):\n",
    "    # compute the temp_index according the closest long_lat\n",
    "    long = df[\"x_long\"]\n",
    "    lat  = df[\"y_lat\"]\n",
    "    # compute the closest temp_long to the station- all occurances\n",
    "    a = np.absolute(x_long - long)\n",
    "    # compute the closest temp_lat to the station- all occurances\n",
    "    b = np.absolute(y_lat - lat)\n",
    "\n",
    "    if np.min(a) <= np.min(b):\n",
    "        min_long = np.argwhere(a == np.min(a))\n",
    "        idx = [int(i) for i in min_long if b[i] == np.min(b[min_long])][0]\n",
    "\n",
    "    else:\n",
    "        min_lat = np.argwhere(b == np.min(b))\n",
    "        idx = [int(i) for i in min_lat if a[i] == np.min(a[min_lat])][0]\n",
    "    \n",
    "    return idx\n",
    "\n"
   ]
  },
  {
   "cell_type": "code",
   "execution_count": null,
   "metadata": {},
   "outputs": [],
   "source": [
    "# the indicies computed once and stored \n",
    "#station_temp_df[\"idx\"] = station_temp_df.apply(temp_idx,axis=1) \n",
    "# station_temp_df.head()\n",
    "#station_temp_df = station_temp_df.rename(columns={\"Temp_20050103\":\"idx\"})\n",
    "# save in temporary dataset file for later use\n",
    "#station_temp_df.to_csv(\"dataset/temporary/station_temp_df.csv\", index=False)"
   ]
  },
  {
   "cell_type": "code",
   "execution_count": null,
   "metadata": {},
   "outputs": [],
   "source": [
    "temp_df = pd.read_csv(\"dataset/temporary/station_temp_df.csv\")\n",
    "temp_df.head()"
   ]
  },
  {
   "cell_type": "code",
   "execution_count": null,
   "metadata": {},
   "outputs": [],
   "source": [
    "t_s_chunklist = []\n",
    "filtered_t_s = pd.read_csv(\".csv\", chunksize = 10e6)\n"
   ]
  },
  {
   "cell_type": "code",
   "execution_count": 2,
   "metadata": {},
   "outputs": [],
   "source": [
    "df = pd.read_csv(\"filtered_t_s.csv\")\n",
    "\n"
   ]
  },
  {
   "cell_type": "code",
   "execution_count": null,
   "metadata": {},
   "outputs": [],
   "source": [
    "df.describe(include =\"all\")"
   ]
  },
  {
   "cell_type": "code",
   "execution_count": 5,
   "metadata": {},
   "outputs": [
    {
     "data": {
      "text/html": [
       "<div>\n",
       "<style scoped>\n",
       "    .dataframe tbody tr th:only-of-type {\n",
       "        vertical-align: middle;\n",
       "    }\n",
       "\n",
       "    .dataframe tbody tr th {\n",
       "        vertical-align: top;\n",
       "    }\n",
       "\n",
       "    .dataframe thead th {\n",
       "        text-align: right;\n",
       "    }\n",
       "</style>\n",
       "<table border=\"1\" class=\"dataframe\">\n",
       "  <thead>\n",
       "    <tr style=\"text-align: right;\">\n",
       "      <th></th>\n",
       "      <th>proj_id</th>\n",
       "      <th>date</th>\n",
       "      <th>groundwater_level</th>\n",
       "    </tr>\n",
       "  </thead>\n",
       "  <tbody>\n",
       "    <tr>\n",
       "      <th>1074073</th>\n",
       "      <td>BB_36459823</td>\n",
       "      <td>1995-01-08 00:00:00+00:00</td>\n",
       "      <td>35.93</td>\n",
       "    </tr>\n",
       "    <tr>\n",
       "      <th>1074074</th>\n",
       "      <td>BB_36459823</td>\n",
       "      <td>1995-01-15 00:00:00+00:00</td>\n",
       "      <td>35.92</td>\n",
       "    </tr>\n",
       "    <tr>\n",
       "      <th>1074075</th>\n",
       "      <td>BB_36459823</td>\n",
       "      <td>1995-01-22 00:00:00+00:00</td>\n",
       "      <td>35.97</td>\n",
       "    </tr>\n",
       "    <tr>\n",
       "      <th>1074076</th>\n",
       "      <td>BB_36459823</td>\n",
       "      <td>1995-02-01 00:00:00+00:00</td>\n",
       "      <td>35.97</td>\n",
       "    </tr>\n",
       "    <tr>\n",
       "      <th>1074077</th>\n",
       "      <td>BB_36459823</td>\n",
       "      <td>1995-02-08 00:00:00+00:00</td>\n",
       "      <td>36.03</td>\n",
       "    </tr>\n",
       "    <tr>\n",
       "      <th>...</th>\n",
       "      <td>...</td>\n",
       "      <td>...</td>\n",
       "      <td>...</td>\n",
       "    </tr>\n",
       "    <tr>\n",
       "      <th>1074798</th>\n",
       "      <td>BB_36459823</td>\n",
       "      <td>2012-11-22 00:00:00+00:00</td>\n",
       "      <td>36.12</td>\n",
       "    </tr>\n",
       "    <tr>\n",
       "      <th>1074799</th>\n",
       "      <td>BB_36459823</td>\n",
       "      <td>2012-12-01 00:00:00+00:00</td>\n",
       "      <td>36.13</td>\n",
       "    </tr>\n",
       "    <tr>\n",
       "      <th>1074800</th>\n",
       "      <td>BB_36459823</td>\n",
       "      <td>2012-12-08 00:00:00+00:00</td>\n",
       "      <td>36.12</td>\n",
       "    </tr>\n",
       "    <tr>\n",
       "      <th>1074801</th>\n",
       "      <td>BB_36459823</td>\n",
       "      <td>2012-12-15 00:00:00+00:00</td>\n",
       "      <td>36.10</td>\n",
       "    </tr>\n",
       "    <tr>\n",
       "      <th>1074802</th>\n",
       "      <td>BB_36459823</td>\n",
       "      <td>2012-12-22 00:00:00+00:00</td>\n",
       "      <td>36.14</td>\n",
       "    </tr>\n",
       "  </tbody>\n",
       "</table>\n",
       "<p>730 rows × 3 columns</p>\n",
       "</div>"
      ],
      "text/plain": [
       "             proj_id                       date  groundwater_level\n",
       "1074073  BB_36459823  1995-01-08 00:00:00+00:00              35.93\n",
       "1074074  BB_36459823  1995-01-15 00:00:00+00:00              35.92\n",
       "1074075  BB_36459823  1995-01-22 00:00:00+00:00              35.97\n",
       "1074076  BB_36459823  1995-02-01 00:00:00+00:00              35.97\n",
       "1074077  BB_36459823  1995-02-08 00:00:00+00:00              36.03\n",
       "...              ...                        ...                ...\n",
       "1074798  BB_36459823  2012-11-22 00:00:00+00:00              36.12\n",
       "1074799  BB_36459823  2012-12-01 00:00:00+00:00              36.13\n",
       "1074800  BB_36459823  2012-12-08 00:00:00+00:00              36.12\n",
       "1074801  BB_36459823  2012-12-15 00:00:00+00:00              36.10\n",
       "1074802  BB_36459823  2012-12-22 00:00:00+00:00              36.14\n",
       "\n",
       "[730 rows x 3 columns]"
      ]
     },
     "execution_count": 5,
     "metadata": {},
     "output_type": "execute_result"
    }
   ],
   "source": [
    "df[df[\"proj_id\"]==\"BB_36459823\"]"
   ]
  },
  {
   "cell_type": "code",
   "execution_count": null,
   "metadata": {},
   "outputs": [],
   "source": [
    "dates = df[\"date\"]\n",
    "dates"
   ]
  },
  {
   "cell_type": "code",
   "execution_count": null,
   "metadata": {},
   "outputs": [],
   "source": [
    "df[\"day\"] = df[\"date\"].apply(lambda d:\"\".join(str(pd.to_datetime(str(d)).date()).split(\"-\")))"
   ]
  },
  {
   "cell_type": "code",
   "execution_count": null,
   "metadata": {},
   "outputs": [],
   "source": [
    "t_s_1 = df[df[\"proj_id\"]==\"BB_25470023\"]"
   ]
  },
  {
   "cell_type": "code",
   "execution_count": null,
   "metadata": {},
   "outputs": [],
   "source": [
    "plt.plot(t_s_1[\"date\"],t_s_1[\"groundwater_level\"])"
   ]
  },
  {
   "cell_type": "code",
   "execution_count": null,
   "metadata": {},
   "outputs": [],
   "source": [
    "# pathes to all nc files\n",
    "from os import walk\n",
    "folder_path =  \"dataset/project_try_dwd/data/\"\n",
    "files= []\n",
    "for (dirpath, dirnames, filenames) in walk(folder_path):\n",
    "    files.extend(filenames)\n",
    "    break"
   ]
  },
  {
   "cell_type": "code",
   "execution_count": null,
   "metadata": {},
   "outputs": [],
   "source": [
    "unique_dates = t_s_1[\"date\"].unique() # for t_s_1\n",
    "unique_dates = [\"\".join(str(pd.to_datetime(str(d)).date()).split(\"-\")) for d in unique_dates]"
   ]
  },
  {
   "cell_type": "code",
   "execution_count": null,
   "metadata": {},
   "outputs": [],
   "source": [
    "len(unique_dates)"
   ]
  },
  {
   "cell_type": "code",
   "execution_count": null,
   "metadata": {},
   "outputs": [],
   "source": [
    "for file in files:\n",
    "    month = folder_path + file\n",
    "    nc_file = netcdf.NetCDFFile(month,'r')\n",
    "    days = nc_file.variables[\"datum\"][:]\n",
    "    days = [str(x)[:-4] for x in days]\n",
    "    for d, day in enumerate(days):\n",
    "        if day in unique_dates:\n",
    "            temp_df[\"t\"+str(day)] = nc_file.variables[\"temperature\"][d,:,:].flatten()[temp_df[\"idx\"]]\n"
   ]
  },
  {
   "cell_type": "code",
   "execution_count": null,
   "metadata": {},
   "outputs": [],
   "source": [
    "dirc = \"dataset/project_try_dwd/data/\"+files[0]\n",
    "dirc"
   ]
  },
  {
   "cell_type": "code",
   "execution_count": null,
   "metadata": {},
   "outputs": [],
   "source": [
    "plt.figure(figsize=(50,15))\n",
    "t_s_1.plot(color='blue', grid=True)\n",
    "plt.legend(loc='upper left')\n",
    "plt.xlabel('t s temp_BB_25470023 ')\n",
    "temp_BB_254700230.plot(color='red', grid=True, secondary_y=True)\n",
    "plt.legend(loc='upper right')\n",
    "plt.xlabel('temp temp_BB_25470023 ')\n",
    "plt.show()"
   ]
  },
  {
   "cell_type": "code",
   "execution_count": null,
   "metadata": {},
   "outputs": [],
   "source": []
  },
  {
   "cell_type": "code",
   "execution_count": null,
   "metadata": {},
   "outputs": [],
   "source": []
  },
  {
   "cell_type": "code",
   "execution_count": null,
   "metadata": {},
   "outputs": [],
   "source": []
  },
  {
   "cell_type": "code",
   "execution_count": null,
   "metadata": {},
   "outputs": [],
   "source": []
  },
  {
   "cell_type": "code",
   "execution_count": null,
   "metadata": {},
   "outputs": [],
   "source": []
  },
  {
   "cell_type": "code",
   "execution_count": null,
   "metadata": {},
   "outputs": [],
   "source": []
  },
  {
   "cell_type": "code",
   "execution_count": null,
   "metadata": {},
   "outputs": [],
   "source": []
  }
 ],
 "metadata": {
  "kernelspec": {
   "display_name": "Python 3",
   "language": "python",
   "name": "python3"
  },
  "language_info": {
   "codemirror_mode": {
    "name": "ipython",
    "version": 3
   },
   "file_extension": ".py",
   "mimetype": "text/x-python",
   "name": "python",
   "nbconvert_exporter": "python",
   "pygments_lexer": "ipython3",
   "version": "3.8.5"
  }
 },
 "nbformat": 4,
 "nbformat_minor": 4
}
