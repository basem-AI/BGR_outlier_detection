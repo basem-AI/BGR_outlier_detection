{
 "cells": [
  {
   "cell_type": "markdown",
   "metadata": {},
   "source": [
    "# Time series\n",
    "75033710 rows\n",
    "\n",
    "13713 unique time series taken in 12603 stations from 17-10-2000 to 22-03-2018"
   ]
  },
  {
   "cell_type": "code",
   "execution_count": 3,
   "metadata": {},
   "outputs": [],
   "source": [
    "import pyarrow.feather as feather\n",
    "import pandas as pd\n",
    "import numpy as np\n",
    "from scipy.io import netcdf\n",
    "import matplotlib.pyplot as plt "
   ]
  },
  {
   "cell_type": "code",
   "execution_count": 24,
   "metadata": {},
   "outputs": [],
   "source": [
    "time_series_df = feather.read_feather('dataset/original_data_as_feather')"
   ]
  },
  {
   "cell_type": "code",
   "execution_count": 95,
   "metadata": {},
   "outputs": [
    {
     "data": {
      "text/html": [
       "<div>\n",
       "<style scoped>\n",
       "    .dataframe tbody tr th:only-of-type {\n",
       "        vertical-align: middle;\n",
       "    }\n",
       "\n",
       "    .dataframe tbody tr th {\n",
       "        vertical-align: top;\n",
       "    }\n",
       "\n",
       "    .dataframe thead th {\n",
       "        text-align: right;\n",
       "    }\n",
       "</style>\n",
       "<table border=\"1\" class=\"dataframe\">\n",
       "  <thead>\n",
       "    <tr style=\"text-align: right;\">\n",
       "      <th></th>\n",
       "      <th>proj_id</th>\n",
       "      <th>name</th>\n",
       "      <th>date</th>\n",
       "      <th>groundwater_level</th>\n",
       "    </tr>\n",
       "  </thead>\n",
       "  <tbody>\n",
       "    <tr>\n",
       "      <th>0</th>\n",
       "      <td>BB_25470023</td>\n",
       "      <td>Ottenhagen OP</td>\n",
       "      <td>2000-10-17 00:00:00+00:00</td>\n",
       "      <td>79.01</td>\n",
       "    </tr>\n",
       "    <tr>\n",
       "      <th>1</th>\n",
       "      <td>BB_25470023</td>\n",
       "      <td>Ottenhagen OP</td>\n",
       "      <td>2000-11-22 00:00:00+00:00</td>\n",
       "      <td>78.96</td>\n",
       "    </tr>\n",
       "    <tr>\n",
       "      <th>2</th>\n",
       "      <td>BB_25470023</td>\n",
       "      <td>Ottenhagen OP</td>\n",
       "      <td>2000-12-18 00:00:00+00:00</td>\n",
       "      <td>78.94</td>\n",
       "    </tr>\n",
       "    <tr>\n",
       "      <th>3</th>\n",
       "      <td>BB_25470023</td>\n",
       "      <td>Ottenhagen OP</td>\n",
       "      <td>2001-01-11 00:00:00+00:00</td>\n",
       "      <td>79.02</td>\n",
       "    </tr>\n",
       "    <tr>\n",
       "      <th>4</th>\n",
       "      <td>BB_25470023</td>\n",
       "      <td>Ottenhagen OP</td>\n",
       "      <td>2001-02-06 00:00:00+00:00</td>\n",
       "      <td>78.99</td>\n",
       "    </tr>\n",
       "  </tbody>\n",
       "</table>\n",
       "</div>"
      ],
      "text/plain": [
       "       proj_id           name                      date  groundwater_level\n",
       "0  BB_25470023  Ottenhagen OP 2000-10-17 00:00:00+00:00              79.01\n",
       "1  BB_25470023  Ottenhagen OP 2000-11-22 00:00:00+00:00              78.96\n",
       "2  BB_25470023  Ottenhagen OP 2000-12-18 00:00:00+00:00              78.94\n",
       "3  BB_25470023  Ottenhagen OP 2001-01-11 00:00:00+00:00              79.02\n",
       "4  BB_25470023  Ottenhagen OP 2001-02-06 00:00:00+00:00              78.99"
      ]
     },
     "execution_count": 95,
     "metadata": {},
     "output_type": "execute_result"
    }
   ],
   "source": [
    "time_series_df.head()"
   ]
  },
  {
   "cell_type": "code",
   "execution_count": null,
   "metadata": {},
   "outputs": [],
   "source": [
    "len(time_series_df)"
   ]
  },
  {
   "cell_type": "code",
   "execution_count": null,
   "metadata": {},
   "outputs": [],
   "source": [
    "len(time_series_df[\"proj_id\"].unique())"
   ]
  },
  {
   "cell_type": "code",
   "execution_count": null,
   "metadata": {},
   "outputs": [],
   "source": [
    "len(time_series_df[\"name\"].unique())"
   ]
  },
  {
   "cell_type": "code",
   "execution_count": null,
   "metadata": {},
   "outputs": [],
   "source": [
    "time_series_df.isnull().sum()"
   ]
  },
  {
   "cell_type": "code",
   "execution_count": null,
   "metadata": {},
   "outputs": [],
   "source": [
    "pd.DataFrame(data=(time_series_df.loc[time_series_df.index[0]],time_series_df.loc[time_series_df.index[-1]]))"
   ]
  },
  {
   "cell_type": "code",
   "execution_count": null,
   "metadata": {},
   "outputs": [],
   "source": [
    "t_s_1 = time_series_df[time_series_df[\"proj_id\"]==\"BB_25470023\"]\n",
    "plt.plot(t_s_1[\"date\"],t_s_1[\"groundwater_level\"])"
   ]
  },
  {
   "cell_type": "code",
   "execution_count": 126,
   "metadata": {},
   "outputs": [
    {
     "data": {
      "text/plain": [
       "[<matplotlib.lines.Line2D at 0x7f9ede9ae070>]"
      ]
     },
     "execution_count": 126,
     "metadata": {},
     "output_type": "execute_result"
    },
    {
     "data": {
      "image/png": "[encoded data removed]",
      "text/plain": [
       "<Figure size 432x288 with 1 Axes>"
      ]
     },
     "metadata": {
      "needs_background": "light"
     },
     "output_type": "display_data"
    }
   ],
   "source": [
    "t_s_2 = time_series_df[time_series_df[\"proj_id\"]==time_series_df[\"proj_id\"].unique()[5002]]\n",
    "plt.plot(t_s_2[\"date\"],t_s_2[\"groundwater_level\"])"
   ]
  },
  {
   "cell_type": "code",
   "execution_count": 127,
   "metadata": {},
   "outputs": [
    {
     "data": {
      "text/plain": [
       "247"
      ]
     },
     "execution_count": 127,
     "metadata": {},
     "output_type": "execute_result"
    }
   ],
   "source": [
    "len(t_s_2[\"date\"].unique())"
   ]
  },
  {
   "cell_type": "code",
   "execution_count": 128,
   "metadata": {},
   "outputs": [
    {
     "data": {
      "text/plain": [
       "<DatetimeArray>\n",
       "['1997-03-01 12:00:00+00:00', '1997-04-01 12:00:00+00:00',\n",
       " '1997-05-01 12:00:00+00:00', '1997-06-01 12:00:00+00:00',\n",
       " '1997-07-01 12:00:00+00:00', '1997-08-01 12:00:00+00:00',\n",
       " '1997-09-01 12:00:00+00:00', '1997-10-01 12:00:00+00:00',\n",
       " '1997-11-01 12:00:00+00:00', '1997-12-01 12:00:00+00:00']\n",
       "Length: 10, dtype: datetime64[ns, UTC]"
      ]
     },
     "execution_count": 128,
     "metadata": {},
     "output_type": "execute_result"
    }
   ],
   "source": [
    "t_s_2[\"date\"].unique()[10:20]"
   ]
  },
  {
   "cell_type": "markdown",
   "metadata": {},
   "source": [
    "# metadata: \n",
    "respective observation wells ( stations),\n",
    "\n",
    "related to the equipment used in the measurement e.g. coordinates, filter depth\n",
    "\n",
    "13492 rows, 15 feature\n",
    "latitude and longitude of stations are taken from here"
   ]
  },
  {
   "cell_type": "code",
   "execution_count": 3,
   "metadata": {},
   "outputs": [
    {
     "data": {
      "text/html": [
       "<div>\n",
       "<style scoped>\n",
       "    .dataframe tbody tr th:only-of-type {\n",
       "        vertical-align: middle;\n",
       "    }\n",
       "\n",
       "    .dataframe tbody tr th {\n",
       "        vertical-align: top;\n",
       "    }\n",
       "\n",
       "    .dataframe thead th {\n",
       "        text-align: right;\n",
       "    }\n",
       "</style>\n",
       "<table border=\"1\" class=\"dataframe\">\n",
       "  <thead>\n",
       "    <tr style=\"text-align: right;\">\n",
       "      <th></th>\n",
       "      <th>proj_id</th>\n",
       "      <th>name</th>\n",
       "      <th>x_long</th>\n",
       "      <th>y_lat</th>\n",
       "      <th>x_utm32</th>\n",
       "      <th>y_utm32</th>\n",
       "      <th>aquifer_id</th>\n",
       "      <th>filteroberkante</th>\n",
       "      <th>filterunterkante</th>\n",
       "      <th>filter_length</th>\n",
       "      <th>filter_depth_middle</th>\n",
       "      <th>surface_elevation</th>\n",
       "      <th>watertable_pressure</th>\n",
       "      <th>well_depth</th>\n",
       "      <th>aquifer_level</th>\n",
       "    </tr>\n",
       "  </thead>\n",
       "  <tbody>\n",
       "    <tr>\n",
       "      <th>0</th>\n",
       "      <td>BB_25470023</td>\n",
       "      <td>Ottenhagen OP</td>\n",
       "      <td>13.643609</td>\n",
       "      <td>53.416804</td>\n",
       "      <td>808527.0</td>\n",
       "      <td>5928687.0</td>\n",
       "      <td>weitgehend bedeckter GWL</td>\n",
       "      <td>NaN</td>\n",
       "      <td>NaN</td>\n",
       "      <td>NaN</td>\n",
       "      <td>NaN</td>\n",
       "      <td>100,33</td>\n",
       "      <td>gespannt</td>\n",
       "      <td>62,53</td>\n",
       "      <td>NaN</td>\n",
       "    </tr>\n",
       "    <tr>\n",
       "      <th>1</th>\n",
       "      <td>BB_25470024</td>\n",
       "      <td>Ottenhagen UP</td>\n",
       "      <td>13.643653</td>\n",
       "      <td>53.416793</td>\n",
       "      <td>808530.0</td>\n",
       "      <td>5928686.0</td>\n",
       "      <td>tieferer GWL in tiefern quart. und tert. Schic...</td>\n",
       "      <td>NaN</td>\n",
       "      <td>NaN</td>\n",
       "      <td>NaN</td>\n",
       "      <td>NaN</td>\n",
       "      <td>100,38</td>\n",
       "      <td>NaN</td>\n",
       "      <td>45,68</td>\n",
       "      <td>NaN</td>\n",
       "    </tr>\n",
       "    <tr>\n",
       "      <th>2</th>\n",
       "      <td>BB_25480025</td>\n",
       "      <td>Neumannshof</td>\n",
       "      <td>13.826532</td>\n",
       "      <td>53.452024</td>\n",
       "      <td>820407.0</td>\n",
       "      <td>5933409.0</td>\n",
       "      <td>weitgehend bedeckter GWL</td>\n",
       "      <td>NaN</td>\n",
       "      <td>NaN</td>\n",
       "      <td>NaN</td>\n",
       "      <td>NaN</td>\n",
       "      <td>58,94</td>\n",
       "      <td>gespannt</td>\n",
       "      <td>10,84</td>\n",
       "      <td>NaN</td>\n",
       "    </tr>\n",
       "    <tr>\n",
       "      <th>3</th>\n",
       "      <td>BB_25480026</td>\n",
       "      <td>Amalienhof</td>\n",
       "      <td>13.677407</td>\n",
       "      <td>53.457078</td>\n",
       "      <td>810477.0</td>\n",
       "      <td>5933310.0</td>\n",
       "      <td>weitgehend bedeckter GWL</td>\n",
       "      <td>NaN</td>\n",
       "      <td>NaN</td>\n",
       "      <td>NaN</td>\n",
       "      <td>NaN</td>\n",
       "      <td>97,67</td>\n",
       "      <td>gespannt</td>\n",
       "      <td>62,67</td>\n",
       "      <td>NaN</td>\n",
       "    </tr>\n",
       "    <tr>\n",
       "      <th>4</th>\n",
       "      <td>BB_25481088</td>\n",
       "      <td>Milow, Beschaffenheitsmesst.OP</td>\n",
       "      <td>13.821475</td>\n",
       "      <td>53.475857</td>\n",
       "      <td>819892.0</td>\n",
       "      <td>5936035.0</td>\n",
       "      <td>weitgehend unbedeckter GWL</td>\n",
       "      <td>NaN</td>\n",
       "      <td>NaN</td>\n",
       "      <td>NaN</td>\n",
       "      <td>NaN</td>\n",
       "      <td>57,6</td>\n",
       "      <td>gespannt</td>\n",
       "      <td>19,71</td>\n",
       "      <td>NaN</td>\n",
       "    </tr>\n",
       "  </tbody>\n",
       "</table>\n",
       "</div>"
      ],
      "text/plain": [
       "       proj_id                            name     x_long      y_lat  \\\n",
       "0  BB_25470023                   Ottenhagen OP  13.643609  53.416804   \n",
       "1  BB_25470024                   Ottenhagen UP  13.643653  53.416793   \n",
       "2  BB_25480025                     Neumannshof  13.826532  53.452024   \n",
       "3  BB_25480026                      Amalienhof  13.677407  53.457078   \n",
       "4  BB_25481088  Milow, Beschaffenheitsmesst.OP  13.821475  53.475857   \n",
       "\n",
       "    x_utm32    y_utm32                                         aquifer_id  \\\n",
       "0  808527.0  5928687.0                           weitgehend bedeckter GWL   \n",
       "1  808530.0  5928686.0  tieferer GWL in tiefern quart. und tert. Schic...   \n",
       "2  820407.0  5933409.0                           weitgehend bedeckter GWL   \n",
       "3  810477.0  5933310.0                           weitgehend bedeckter GWL   \n",
       "4  819892.0  5936035.0                         weitgehend unbedeckter GWL   \n",
       "\n",
       "  filteroberkante filterunterkante filter_length filter_depth_middle  \\\n",
       "0             NaN              NaN           NaN                 NaN   \n",
       "1             NaN              NaN           NaN                 NaN   \n",
       "2             NaN              NaN           NaN                 NaN   \n",
       "3             NaN              NaN           NaN                 NaN   \n",
       "4             NaN              NaN           NaN                 NaN   \n",
       "\n",
       "  surface_elevation watertable_pressure well_depth  aquifer_level  \n",
       "0            100,33            gespannt      62,53            NaN  \n",
       "1            100,38                 NaN      45,68            NaN  \n",
       "2             58,94            gespannt      10,84            NaN  \n",
       "3             97,67            gespannt      62,67            NaN  \n",
       "4              57,6            gespannt      19,71            NaN  "
      ]
     },
     "execution_count": 3,
     "metadata": {},
     "output_type": "execute_result"
    }
   ],
   "source": [
    "meta_df = pd.read_excel(\"dataset/metadata_timeseries_LongLat.xlsx\")\n",
    "meta_df.head()"
   ]
  },
  {
   "cell_type": "code",
   "execution_count": 4,
   "metadata": {},
   "outputs": [
    {
     "data": {
      "text/plain": [
       "(13492, 15)"
      ]
     },
     "execution_count": 4,
     "metadata": {},
     "output_type": "execute_result"
    }
   ],
   "source": [
    "meta_df.shape"
   ]
  },
  {
   "cell_type": "code",
   "execution_count": 5,
   "metadata": {},
   "outputs": [
    {
     "data": {
      "text/plain": [
       "12877"
      ]
     },
     "execution_count": 5,
     "metadata": {},
     "output_type": "execute_result"
    }
   ],
   "source": [
    "len(meta_df[\"y_lat\"].unique())"
   ]
  },
  {
   "cell_type": "code",
   "execution_count": 6,
   "metadata": {},
   "outputs": [
    {
     "data": {
      "image/png": "[encoded data removed]",
      "text/plain": [
       "<Figure size 432x288 with 1 Axes>"
      ]
     },
     "metadata": {
      "needs_background": "light"
     },
     "output_type": "display_data"
    }
   ],
   "source": [
    "plt.scatter(meta_df[\"x_long\"],meta_df[\"y_lat\"])\n",
    "plt.show()"
   ]
  },
  {
   "cell_type": "code",
   "execution_count": null,
   "metadata": {},
   "outputs": [],
   "source": []
  },
  {
   "cell_type": "code",
   "execution_count": null,
   "metadata": {},
   "outputs": [],
   "source": []
  },
  {
   "cell_type": "markdown",
   "metadata": {},
   "source": [
    " ### predictors ( temperature and precipitation) are matched to the station lon lat acording these meta data"
   ]
  },
  {
   "cell_type": "markdown",
   "metadata": {},
   "source": [
    "# temperature: as predictor\n",
    "\n",
    "Daily means of hourly grids of air temperature for whole Germany (project TRY Advancement)\n",
    "\n",
    "there are 215 NC files, each file represents a month of dailly temperature from 01-1995 tp 11-2012\n",
    "\n"
   ]
  },
  {
   "cell_type": "code",
   "execution_count": 91,
   "metadata": {},
   "outputs": [],
   "source": [
    "# extract relevant temp to T.S from an nc file "
   ]
  },
  {
   "cell_type": "code",
   "execution_count": 7,
   "metadata": {},
   "outputs": [],
   "source": [
    "# each nc file has temperature across whole germany\n",
    "dir_01_2005 = \"dataset/project_try_dwd/data/\"+'daily_Project_TRY_air_temperature_mean__TT_200501_daymean.nc'\n",
    "temp_01_2005 = netcdf.NetCDFFile(dir_01_2005,'r')"
   ]
  },
  {
   "cell_type": "code",
   "execution_count": 8,
   "metadata": {},
   "outputs": [
    {
     "data": {
      "text/plain": [
       "OrderedDict([('lon', <scipy.io.netcdf.netcdf_variable at 0x7efe0c792f10>),\n",
       "             ('lat', <scipy.io.netcdf.netcdf_variable at 0x7efdda2dc070>),\n",
       "             ('time', <scipy.io.netcdf.netcdf_variable at 0x7efdda2d0eb0>),\n",
       "             ('time_bnds',\n",
       "              <scipy.io.netcdf.netcdf_variable at 0x7efdda2dc8e0>),\n",
       "             ('datum', <scipy.io.netcdf.netcdf_variable at 0x7efdda2dc730>),\n",
       "             ('temperature',\n",
       "              <scipy.io.netcdf.netcdf_variable at 0x7efddb16c880>)])"
      ]
     },
     "execution_count": 8,
     "metadata": {},
     "output_type": "execute_result"
    }
   ],
   "source": [
    "temp_01_2005.variables"
   ]
  },
  {
   "cell_type": "code",
   "execution_count": 9,
   "metadata": {},
   "outputs": [],
   "source": [
    "# long and lat where temp was measured \n",
    "x_long = temp_01_2005.variables[\"lon\"][:].flatten()\n",
    "y_lat = temp_01_2005.variables[\"lat\"][:].flatten()\n"
   ]
  },
  {
   "cell_type": "code",
   "execution_count": 10,
   "metadata": {},
   "outputs": [
    {
     "data": {
      "text/plain": [
       "675360"
      ]
     },
     "execution_count": 10,
     "metadata": {},
     "output_type": "execute_result"
    }
   ],
   "source": [
    "938*720"
   ]
  },
  {
   "cell_type": "code",
   "execution_count": 11,
   "metadata": {},
   "outputs": [
    {
     "data": {
      "text/html": [
       "<div>\n",
       "<style scoped>\n",
       "    .dataframe tbody tr th:only-of-type {\n",
       "        vertical-align: middle;\n",
       "    }\n",
       "\n",
       "    .dataframe tbody tr th {\n",
       "        vertical-align: top;\n",
       "    }\n",
       "\n",
       "    .dataframe thead th {\n",
       "        text-align: right;\n",
       "    }\n",
       "</style>\n",
       "<table border=\"1\" class=\"dataframe\">\n",
       "  <thead>\n",
       "    <tr style=\"text-align: right;\">\n",
       "      <th></th>\n",
       "      <th>proj_id</th>\n",
       "      <th>x_long</th>\n",
       "      <th>y_lat</th>\n",
       "    </tr>\n",
       "  </thead>\n",
       "  <tbody>\n",
       "    <tr>\n",
       "      <th>0</th>\n",
       "      <td>BB_25470023</td>\n",
       "      <td>13.643609</td>\n",
       "      <td>53.416804</td>\n",
       "    </tr>\n",
       "    <tr>\n",
       "      <th>1</th>\n",
       "      <td>BB_25470024</td>\n",
       "      <td>13.643653</td>\n",
       "      <td>53.416793</td>\n",
       "    </tr>\n",
       "    <tr>\n",
       "      <th>2</th>\n",
       "      <td>BB_25480025</td>\n",
       "      <td>13.826532</td>\n",
       "      <td>53.452024</td>\n",
       "    </tr>\n",
       "    <tr>\n",
       "      <th>3</th>\n",
       "      <td>BB_25480026</td>\n",
       "      <td>13.677407</td>\n",
       "      <td>53.457078</td>\n",
       "    </tr>\n",
       "    <tr>\n",
       "      <th>4</th>\n",
       "      <td>BB_25481088</td>\n",
       "      <td>13.821475</td>\n",
       "      <td>53.475857</td>\n",
       "    </tr>\n",
       "  </tbody>\n",
       "</table>\n",
       "</div>"
      ],
      "text/plain": [
       "       proj_id     x_long      y_lat\n",
       "0  BB_25470023  13.643609  53.416804\n",
       "1  BB_25470024  13.643653  53.416793\n",
       "2  BB_25480025  13.826532  53.452024\n",
       "3  BB_25480026  13.677407  53.457078\n",
       "4  BB_25481088  13.821475  53.475857"
      ]
     },
     "execution_count": 11,
     "metadata": {},
     "output_type": "execute_result"
    }
   ],
   "source": [
    "# create df to store the temp T.S for each station\n",
    "station_temp_df =meta_df[[\"proj_id\",\"x_long\",\"y_lat\"]]\n",
    "station_temp_df.head()"
   ]
  },
  {
   "cell_type": "code",
   "execution_count": 14,
   "metadata": {},
   "outputs": [
    {
     "name": "stderr",
     "output_type": "stream",
     "text": [
      "<ipython-input-14-26e5be5b89ae>:23: SettingWithCopyWarning: \n",
      "A value is trying to be set on a copy of a slice from a DataFrame.\n",
      "Try using .loc[row_indexer,col_indexer] = value instead\n",
      "\n",
      "See the caveats in the documentation: https://pandas.pydata.org/pandas-docs/stable/user_guide/indexing.html#returning-a-view-versus-a-copy\n",
      "  station_temp_df[\"Temp_\"+str(\"20050103\")] = station_temp_df.apply(temp_idx,axis=1)\n"
     ]
    }
   ],
   "source": [
    "# extract the indices of the temp\n",
    "\n",
    "def temp_idx(df):\n",
    "    # compute the temp_index according the closest long_lat\n",
    "    long = df[\"x_long\"]\n",
    "    lat  = df[\"y_lat\"]\n",
    "    # compute the closest temp_long to the station- all occurances\n",
    "    a = np.absolute(x_long - long)\n",
    "    # compute the closest temp_lat to the station- all occurances\n",
    "    b = np.absolute(y_lat - lat)\n",
    "\n",
    "    if np.min(a) <= np.min(b):\n",
    "        min_long = np.argwhere(a == np.min(a))\n",
    "        idx = [int(i) for i in min_long if b[i] == np.min(b[min_long])][0]\n",
    "\n",
    "    else:\n",
    "        min_lat = np.argwhere(b == np.min(b))\n",
    "        idx = [int(i) for i in min_lat if a[i] == np.min(a[min_lat])][0]\n",
    "    \n",
    "    return idx\n",
    "\n",
    "\n",
    "#station_temp_df[\"idx\"] = station_temp_df.apply(temp_idx,axis=1)  "
   ]
  },
  {
   "cell_type": "code",
   "execution_count": 15,
   "metadata": {},
   "outputs": [
    {
     "data": {
      "text/html": [
       "<div>\n",
       "<style scoped>\n",
       "    .dataframe tbody tr th:only-of-type {\n",
       "        vertical-align: middle;\n",
       "    }\n",
       "\n",
       "    .dataframe tbody tr th {\n",
       "        vertical-align: top;\n",
       "    }\n",
       "\n",
       "    .dataframe thead th {\n",
       "        text-align: right;\n",
       "    }\n",
       "</style>\n",
       "<table border=\"1\" class=\"dataframe\">\n",
       "  <thead>\n",
       "    <tr style=\"text-align: right;\">\n",
       "      <th></th>\n",
       "      <th>proj_id</th>\n",
       "      <th>x_long</th>\n",
       "      <th>y_lat</th>\n",
       "      <th>Temp_20050103</th>\n",
       "    </tr>\n",
       "  </thead>\n",
       "  <tbody>\n",
       "    <tr>\n",
       "      <th>0</th>\n",
       "      <td>BB_25470023</td>\n",
       "      <td>13.643609</td>\n",
       "      <td>53.416804</td>\n",
       "      <td>515351</td>\n",
       "    </tr>\n",
       "    <tr>\n",
       "      <th>1</th>\n",
       "      <td>BB_25470024</td>\n",
       "      <td>13.643653</td>\n",
       "      <td>53.416793</td>\n",
       "      <td>515351</td>\n",
       "    </tr>\n",
       "    <tr>\n",
       "      <th>2</th>\n",
       "      <td>BB_25480025</td>\n",
       "      <td>13.826532</td>\n",
       "      <td>53.452024</td>\n",
       "      <td>522658</td>\n",
       "    </tr>\n",
       "    <tr>\n",
       "      <th>3</th>\n",
       "      <td>BB_25480026</td>\n",
       "      <td>13.677407</td>\n",
       "      <td>53.457078</td>\n",
       "      <td>584481</td>\n",
       "    </tr>\n",
       "    <tr>\n",
       "      <th>4</th>\n",
       "      <td>BB_25481088</td>\n",
       "      <td>13.821475</td>\n",
       "      <td>53.475857</td>\n",
       "      <td>557852</td>\n",
       "    </tr>\n",
       "  </tbody>\n",
       "</table>\n",
       "</div>"
      ],
      "text/plain": [
       "       proj_id     x_long      y_lat  Temp_20050103\n",
       "0  BB_25470023  13.643609  53.416804         515351\n",
       "1  BB_25470024  13.643653  53.416793         515351\n",
       "2  BB_25480025  13.826532  53.452024         522658\n",
       "3  BB_25480026  13.677407  53.457078         584481\n",
       "4  BB_25481088  13.821475  53.475857         557852"
      ]
     },
     "execution_count": 15,
     "metadata": {},
     "output_type": "execute_result"
    }
   ],
   "source": [
    "station_temp_df.head()"
   ]
  },
  {
   "cell_type": "code",
   "execution_count": 21,
   "metadata": {},
   "outputs": [],
   "source": [
    "#station_temp_df = station_temp_df.rename(columns={\"Temp_20050103\":\"idx\"})"
   ]
  },
  {
   "cell_type": "code",
   "execution_count": 22,
   "metadata": {},
   "outputs": [],
   "source": [
    "# save in temporary dataset file for later use\n",
    "station_temp_df.to_csv(\"dataset/temporary/station_temp_df.csv\", index=False)"
   ]
  },
  {
   "cell_type": "code",
   "execution_count": 23,
   "metadata": {},
   "outputs": [
    {
     "data": {
      "text/html": [
       "<div>\n",
       "<style scoped>\n",
       "    .dataframe tbody tr th:only-of-type {\n",
       "        vertical-align: middle;\n",
       "    }\n",
       "\n",
       "    .dataframe tbody tr th {\n",
       "        vertical-align: top;\n",
       "    }\n",
       "\n",
       "    .dataframe thead th {\n",
       "        text-align: right;\n",
       "    }\n",
       "</style>\n",
       "<table border=\"1\" class=\"dataframe\">\n",
       "  <thead>\n",
       "    <tr style=\"text-align: right;\">\n",
       "      <th></th>\n",
       "      <th>proj_id</th>\n",
       "      <th>x_long</th>\n",
       "      <th>y_lat</th>\n",
       "      <th>idx</th>\n",
       "    </tr>\n",
       "  </thead>\n",
       "  <tbody>\n",
       "    <tr>\n",
       "      <th>0</th>\n",
       "      <td>BB_25470023</td>\n",
       "      <td>13.643609</td>\n",
       "      <td>53.416804</td>\n",
       "      <td>515351</td>\n",
       "    </tr>\n",
       "    <tr>\n",
       "      <th>1</th>\n",
       "      <td>BB_25470024</td>\n",
       "      <td>13.643653</td>\n",
       "      <td>53.416793</td>\n",
       "      <td>515351</td>\n",
       "    </tr>\n",
       "    <tr>\n",
       "      <th>2</th>\n",
       "      <td>BB_25480025</td>\n",
       "      <td>13.826532</td>\n",
       "      <td>53.452024</td>\n",
       "      <td>522658</td>\n",
       "    </tr>\n",
       "    <tr>\n",
       "      <th>3</th>\n",
       "      <td>BB_25480026</td>\n",
       "      <td>13.677407</td>\n",
       "      <td>53.457078</td>\n",
       "      <td>584481</td>\n",
       "    </tr>\n",
       "    <tr>\n",
       "      <th>4</th>\n",
       "      <td>BB_25481088</td>\n",
       "      <td>13.821475</td>\n",
       "      <td>53.475857</td>\n",
       "      <td>557852</td>\n",
       "    </tr>\n",
       "    <tr>\n",
       "      <th>...</th>\n",
       "      <td>...</td>\n",
       "      <td>...</td>\n",
       "      <td>...</td>\n",
       "      <td>...</td>\n",
       "    </tr>\n",
       "    <tr>\n",
       "      <th>13487</th>\n",
       "      <td>BW_9-768-5</td>\n",
       "      <td>10.066270</td>\n",
       "      <td>48.198413</td>\n",
       "      <td>115134</td>\n",
       "    </tr>\n",
       "    <tr>\n",
       "      <th>13488</th>\n",
       "      <td>BW_9851-512-1</td>\n",
       "      <td>9.257094</td>\n",
       "      <td>48.711200</td>\n",
       "      <td>147837</td>\n",
       "    </tr>\n",
       "    <tr>\n",
       "      <th>13489</th>\n",
       "      <td>BW_9901-064-8</td>\n",
       "      <td>7.819888</td>\n",
       "      <td>48.574195</td>\n",
       "      <td>138406</td>\n",
       "    </tr>\n",
       "    <tr>\n",
       "      <th>13490</th>\n",
       "      <td>BW_9902-064-3</td>\n",
       "      <td>7.819847</td>\n",
       "      <td>48.574212</td>\n",
       "      <td>138406</td>\n",
       "    </tr>\n",
       "    <tr>\n",
       "      <th>13491</th>\n",
       "      <td>BW_9903-064-9</td>\n",
       "      <td>7.819793</td>\n",
       "      <td>48.574221</td>\n",
       "      <td>136974</td>\n",
       "    </tr>\n",
       "  </tbody>\n",
       "</table>\n",
       "<p>13492 rows × 4 columns</p>\n",
       "</div>"
      ],
      "text/plain": [
       "             proj_id     x_long      y_lat     idx\n",
       "0        BB_25470023  13.643609  53.416804  515351\n",
       "1        BB_25470024  13.643653  53.416793  515351\n",
       "2        BB_25480025  13.826532  53.452024  522658\n",
       "3        BB_25480026  13.677407  53.457078  584481\n",
       "4        BB_25481088  13.821475  53.475857  557852\n",
       "...              ...        ...        ...     ...\n",
       "13487     BW_9-768-5  10.066270  48.198413  115134\n",
       "13488  BW_9851-512-1   9.257094  48.711200  147837\n",
       "13489  BW_9901-064-8   7.819888  48.574195  138406\n",
       "13490  BW_9902-064-3   7.819847  48.574212  138406\n",
       "13491  BW_9903-064-9   7.819793  48.574221  136974\n",
       "\n",
       "[13492 rows x 4 columns]"
      ]
     },
     "execution_count": 23,
     "metadata": {},
     "output_type": "execute_result"
    }
   ],
   "source": [
    "temp_df = pd.read_csv(\"dataset/temporary/station_temp_df.csv\")"
   ]
  },
  {
   "cell_type": "code",
   "execution_count": null,
   "metadata": {},
   "outputs": [],
   "source": []
  },
  {
   "cell_type": "markdown",
   "metadata": {},
   "source": [
    "## extract the unique dates in the time series"
   ]
  },
  {
   "cell_type": "code",
   "execution_count": 4,
   "metadata": {},
   "outputs": [
    {
     "name": "stderr",
     "output_type": "stream",
     "text": [
      "/home/basem/.local/lib/python3.8/site-packages/IPython/core/interactiveshell.py:3145: DtypeWarning: Columns (0) have mixed types.Specify dtype option on import or set low_memory=False.\n",
      "  has_raised = await self.run_ast_nodes(code_ast.body, cell_name,\n"
     ]
    },
    {
     "data": {
      "text/html": [
       "<div>\n",
       "<style scoped>\n",
       "    .dataframe tbody tr th:only-of-type {\n",
       "        vertical-align: middle;\n",
       "    }\n",
       "\n",
       "    .dataframe tbody tr th {\n",
       "        vertical-align: top;\n",
       "    }\n",
       "\n",
       "    .dataframe thead th {\n",
       "        text-align: right;\n",
       "    }\n",
       "</style>\n",
       "<table border=\"1\" class=\"dataframe\">\n",
       "  <thead>\n",
       "    <tr style=\"text-align: right;\">\n",
       "      <th></th>\n",
       "      <th>dates</th>\n",
       "    </tr>\n",
       "  </thead>\n",
       "  <tbody>\n",
       "    <tr>\n",
       "      <th>0</th>\n",
       "      <td>2000-10-17 00:00:00+00:00</td>\n",
       "    </tr>\n",
       "    <tr>\n",
       "      <th>1</th>\n",
       "      <td>2000-11-22 00:00:00+00:00</td>\n",
       "    </tr>\n",
       "    <tr>\n",
       "      <th>2</th>\n",
       "      <td>2000-12-18 00:00:00+00:00</td>\n",
       "    </tr>\n",
       "    <tr>\n",
       "      <th>3</th>\n",
       "      <td>2001-01-11 00:00:00+00:00</td>\n",
       "    </tr>\n",
       "    <tr>\n",
       "      <th>4</th>\n",
       "      <td>2001-02-06 00:00:00+00:00</td>\n",
       "    </tr>\n",
       "    <tr>\n",
       "      <th>...</th>\n",
       "      <td>...</td>\n",
       "    </tr>\n",
       "    <tr>\n",
       "      <th>75033705</th>\n",
       "      <td>2018-02-22 00:00:00+00:00</td>\n",
       "    </tr>\n",
       "    <tr>\n",
       "      <th>75033706</th>\n",
       "      <td>2018-03-01 00:00:00+00:00</td>\n",
       "    </tr>\n",
       "    <tr>\n",
       "      <th>75033707</th>\n",
       "      <td>2018-03-08 00:00:00+00:00</td>\n",
       "    </tr>\n",
       "    <tr>\n",
       "      <th>75033708</th>\n",
       "      <td>2018-03-15 00:00:00+00:00</td>\n",
       "    </tr>\n",
       "    <tr>\n",
       "      <th>75033709</th>\n",
       "      <td>2018-03-22 00:00:00+00:00</td>\n",
       "    </tr>\n",
       "  </tbody>\n",
       "</table>\n",
       "<p>75033710 rows × 1 columns</p>\n",
       "</div>"
      ],
      "text/plain": [
       "                              dates\n",
       "0         2000-10-17 00:00:00+00:00\n",
       "1         2000-11-22 00:00:00+00:00\n",
       "2         2000-12-18 00:00:00+00:00\n",
       "3         2001-01-11 00:00:00+00:00\n",
       "4         2001-02-06 00:00:00+00:00\n",
       "...                             ...\n",
       "75033705  2018-02-22 00:00:00+00:00\n",
       "75033706  2018-03-01 00:00:00+00:00\n",
       "75033707  2018-03-08 00:00:00+00:00\n",
       "75033708  2018-03-15 00:00:00+00:00\n",
       "75033709  2018-03-22 00:00:00+00:00\n",
       "\n",
       "[75033710 rows x 1 columns]"
      ]
     },
     "execution_count": 4,
     "metadata": {},
     "output_type": "execute_result"
    }
   ],
   "source": [
    "# extract the dates in which water level were measured - in time_series_df\n",
    "# store the unique values in numpy array as str\n",
    "available_t_s_dates = pd.read_csv(\"dataset/temporary/dates_df.csv\")\n",
    "available_t_s_dates\n"
   ]
  },
  {
   "cell_type": "code",
   "execution_count": 10,
   "metadata": {},
   "outputs": [],
   "source": [
    "df = available_t_s_dates.dropna()"
   ]
  },
  {
   "cell_type": "code",
   "execution_count": null,
   "metadata": {},
   "outputs": [],
   "source": [
    "df = df.sort_values(\"dates\")\n",
    "df"
   ]
  },
  {
   "cell_type": "code",
   "execution_count": 9,
   "metadata": {},
   "outputs": [
    {
     "data": {
      "text/html": [
       "<div>\n",
       "<style scoped>\n",
       "    .dataframe tbody tr th:only-of-type {\n",
       "        vertical-align: middle;\n",
       "    }\n",
       "\n",
       "    .dataframe tbody tr th {\n",
       "        vertical-align: top;\n",
       "    }\n",
       "\n",
       "    .dataframe thead th {\n",
       "        text-align: right;\n",
       "    }\n",
       "</style>\n",
       "<table border=\"1\" class=\"dataframe\">\n",
       "  <thead>\n",
       "    <tr style=\"text-align: right;\">\n",
       "      <th></th>\n",
       "      <th>dates</th>\n",
       "    </tr>\n",
       "  </thead>\n",
       "  <tbody>\n",
       "    <tr>\n",
       "      <th>52876615</th>\n",
       "      <td>2012-12-31 00:05:00+00:00</td>\n",
       "    </tr>\n",
       "    <tr>\n",
       "      <th>57561160</th>\n",
       "      <td>2012-12-31 00:10:00+00:00</td>\n",
       "    </tr>\n",
       "    <tr>\n",
       "      <th>32871165</th>\n",
       "      <td>2012-12-31 00:15:00+00:00</td>\n",
       "    </tr>\n",
       "    <tr>\n",
       "      <th>25046536</th>\n",
       "      <td>2012-12-31 00:15:00+00:00</td>\n",
       "    </tr>\n",
       "    <tr>\n",
       "      <th>63908246</th>\n",
       "      <td>2012-12-31 00:25:00+00:00</td>\n",
       "    </tr>\n",
       "    <tr>\n",
       "      <th>...</th>\n",
       "      <td>...</td>\n",
       "    </tr>\n",
       "    <tr>\n",
       "      <th>19475407</th>\n",
       "      <td>2100-09-08 15:00:00+00:00</td>\n",
       "    </tr>\n",
       "    <tr>\n",
       "      <th>19475408</th>\n",
       "      <td>2100-09-08 18:00:00+00:00</td>\n",
       "    </tr>\n",
       "    <tr>\n",
       "      <th>19475409</th>\n",
       "      <td>2100-09-08 21:00:00+00:00</td>\n",
       "    </tr>\n",
       "    <tr>\n",
       "      <th>19475410</th>\n",
       "      <td>2100-09-09 00:00:00+00:00</td>\n",
       "    </tr>\n",
       "    <tr>\n",
       "      <th>19475411</th>\n",
       "      <td>2100-11-01 00:00:00+00:00</td>\n",
       "    </tr>\n",
       "  </tbody>\n",
       "</table>\n",
       "<p>16932092 rows × 1 columns</p>\n",
       "</div>"
      ],
      "text/plain": [
       "                              dates\n",
       "52876615  2012-12-31 00:05:00+00:00\n",
       "57561160  2012-12-31 00:10:00+00:00\n",
       "32871165  2012-12-31 00:15:00+00:00\n",
       "25046536  2012-12-31 00:15:00+00:00\n",
       "63908246  2012-12-31 00:25:00+00:00\n",
       "...                             ...\n",
       "19475407  2100-09-08 15:00:00+00:00\n",
       "19475408  2100-09-08 18:00:00+00:00\n",
       "19475409  2100-09-08 21:00:00+00:00\n",
       "19475410  2100-09-09 00:00:00+00:00\n",
       "19475411  2100-11-01 00:00:00+00:00\n",
       "\n",
       "[16932092 rows x 1 columns]"
      ]
     },
     "execution_count": 9,
     "metadata": {},
     "output_type": "execute_result"
    }
   ],
   "source": [
    "# match to the lower date in temp data\n",
    "df = df[df[\"dates\"]>\"1995-01-01 00:00:00+00:00\"]\n",
    "df"
   ]
  },
  {
   "cell_type": "code",
   "execution_count": 8,
   "metadata": {},
   "outputs": [
    {
     "data": {
      "text/html": [
       "<div>\n",
       "<style scoped>\n",
       "    .dataframe tbody tr th:only-of-type {\n",
       "        vertical-align: middle;\n",
       "    }\n",
       "\n",
       "    .dataframe tbody tr th {\n",
       "        vertical-align: top;\n",
       "    }\n",
       "\n",
       "    .dataframe thead th {\n",
       "        text-align: right;\n",
       "    }\n",
       "</style>\n",
       "<table border=\"1\" class=\"dataframe\">\n",
       "  <thead>\n",
       "    <tr style=\"text-align: right;\">\n",
       "      <th></th>\n",
       "      <th>dates</th>\n",
       "    </tr>\n",
       "  </thead>\n",
       "  <tbody>\n",
       "    <tr>\n",
       "      <th>52876615</th>\n",
       "      <td>2012-12-31 00:05:00+00:00</td>\n",
       "    </tr>\n",
       "    <tr>\n",
       "      <th>57561160</th>\n",
       "      <td>2012-12-31 00:10:00+00:00</td>\n",
       "    </tr>\n",
       "    <tr>\n",
       "      <th>32871165</th>\n",
       "      <td>2012-12-31 00:15:00+00:00</td>\n",
       "    </tr>\n",
       "    <tr>\n",
       "      <th>25046536</th>\n",
       "      <td>2012-12-31 00:15:00+00:00</td>\n",
       "    </tr>\n",
       "    <tr>\n",
       "      <th>63908246</th>\n",
       "      <td>2012-12-31 00:25:00+00:00</td>\n",
       "    </tr>\n",
       "    <tr>\n",
       "      <th>...</th>\n",
       "      <td>...</td>\n",
       "    </tr>\n",
       "    <tr>\n",
       "      <th>19475407</th>\n",
       "      <td>2100-09-08 15:00:00+00:00</td>\n",
       "    </tr>\n",
       "    <tr>\n",
       "      <th>19475408</th>\n",
       "      <td>2100-09-08 18:00:00+00:00</td>\n",
       "    </tr>\n",
       "    <tr>\n",
       "      <th>19475409</th>\n",
       "      <td>2100-09-08 21:00:00+00:00</td>\n",
       "    </tr>\n",
       "    <tr>\n",
       "      <th>19475410</th>\n",
       "      <td>2100-09-09 00:00:00+00:00</td>\n",
       "    </tr>\n",
       "    <tr>\n",
       "      <th>19475411</th>\n",
       "      <td>2100-11-01 00:00:00+00:00</td>\n",
       "    </tr>\n",
       "  </tbody>\n",
       "</table>\n",
       "<p>16932092 rows × 1 columns</p>\n",
       "</div>"
      ],
      "text/plain": [
       "                              dates\n",
       "52876615  2012-12-31 00:05:00+00:00\n",
       "57561160  2012-12-31 00:10:00+00:00\n",
       "32871165  2012-12-31 00:15:00+00:00\n",
       "25046536  2012-12-31 00:15:00+00:00\n",
       "63908246  2012-12-31 00:25:00+00:00\n",
       "...                             ...\n",
       "19475407  2100-09-08 15:00:00+00:00\n",
       "19475408  2100-09-08 18:00:00+00:00\n",
       "19475409  2100-09-08 21:00:00+00:00\n",
       "19475410  2100-09-09 00:00:00+00:00\n",
       "19475411  2100-11-01 00:00:00+00:00\n",
       "\n",
       "[16932092 rows x 1 columns]"
      ]
     },
     "execution_count": 8,
     "metadata": {},
     "output_type": "execute_result"
    }
   ],
   "source": [
    "# match to the upper date in temp\n",
    "df = df[df[\"dates\"]<'2012-12-31 00:00:00+00:00']\n",
    "df"
   ]
  },
  {
   "cell_type": "markdown",
   "metadata": {},
   "source": [
    "# from here to be repaired \n",
    "\n",
    "## fine the uniqes dates, store them in a csv to avoid running the previous code again\n",
    "## and then extract the corresponding temperature "
   ]
  },
  {
   "cell_type": "code",
   "execution_count": 16,
   "metadata": {},
   "outputs": [
    {
     "data": {
      "text/plain": [
       "array(['2012-12-31 00:05:00+00:00', '2012-12-31 00:10:00+00:00',\n",
       "       '2012-12-31 00:15:00+00:00', ..., '2100-09-08 21:00:00+00:00',\n",
       "       '2100-09-09 00:00:00+00:00', '2100-11-01 00:00:00+00:00'],\n",
       "      dtype=object)"
      ]
     },
     "execution_count": 16,
     "metadata": {},
     "output_type": "execute_result"
    }
   ],
   "source": [
    "\n",
    "df =df[\"dates\"].unique()\n",
    "df"
   ]
  },
  {
   "cell_type": "code",
   "execution_count": null,
   "metadata": {},
   "outputs": [],
   "source": []
  },
  {
   "cell_type": "code",
   "execution_count": 1,
   "metadata": {},
   "outputs": [],
   "source": [
    "#available_t_s_dates = available_t_s_dates[\"dates\"].unique()\n",
    "#available_t_s_dates"
   ]
  },
  {
   "cell_type": "code",
   "execution_count": 30,
   "metadata": {},
   "outputs": [
    {
     "data": {
      "text/html": [
       "<div>\n",
       "<style scoped>\n",
       "    .dataframe tbody tr th:only-of-type {\n",
       "        vertical-align: middle;\n",
       "    }\n",
       "\n",
       "    .dataframe tbody tr th {\n",
       "        vertical-align: top;\n",
       "    }\n",
       "\n",
       "    .dataframe thead th {\n",
       "        text-align: right;\n",
       "    }\n",
       "</style>\n",
       "<table border=\"1\" class=\"dataframe\">\n",
       "  <thead>\n",
       "    <tr style=\"text-align: right;\">\n",
       "      <th></th>\n",
       "      <th>dates</th>\n",
       "    </tr>\n",
       "  </thead>\n",
       "  <tbody>\n",
       "    <tr>\n",
       "      <th>0</th>\n",
       "      <td>2000-10-17 00:00:00+00:00</td>\n",
       "    </tr>\n",
       "    <tr>\n",
       "      <th>1</th>\n",
       "      <td>2000-11-22 00:00:00+00:00</td>\n",
       "    </tr>\n",
       "    <tr>\n",
       "      <th>2</th>\n",
       "      <td>2000-12-18 00:00:00+00:00</td>\n",
       "    </tr>\n",
       "    <tr>\n",
       "      <th>3</th>\n",
       "      <td>2001-01-11 00:00:00+00:00</td>\n",
       "    </tr>\n",
       "    <tr>\n",
       "      <th>4</th>\n",
       "      <td>2001-02-06 00:00:00+00:00</td>\n",
       "    </tr>\n",
       "  </tbody>\n",
       "</table>\n",
       "</div>"
      ],
      "text/plain": [
       "                      dates\n",
       "0 2000-10-17 00:00:00+00:00\n",
       "1 2000-11-22 00:00:00+00:00\n",
       "2 2000-12-18 00:00:00+00:00\n",
       "3 2001-01-11 00:00:00+00:00\n",
       "4 2001-02-06 00:00:00+00:00"
      ]
     },
     "execution_count": 30,
     "metadata": {},
     "output_type": "execute_result"
    }
   ],
   "source": [
    "dates_df = pd.DataFrame({\"dates\":available_t_s_dates})\n",
    "dates_df.head()"
   ]
  },
  {
   "cell_type": "code",
   "execution_count": 31,
   "metadata": {},
   "outputs": [],
   "source": [
    "dates_df.to_csv(\"dataset/temporary/dates_df.csv\", index=False)"
   ]
  },
  {
   "cell_type": "code",
   "execution_count": 10,
   "metadata": {},
   "outputs": [],
   "source": [
    "x = [\"\".join(str(pd.to_datetime(str(d)).date()).split(\"-\")) for d in available_t_s_dates]"
   ]
  },
  {
   "cell_type": "code",
   "execution_count": 37,
   "metadata": {},
   "outputs": [],
   "source": [
    "available_t_s_dates = pd.Series(available_t_s_dates)"
   ]
  },
  {
   "cell_type": "code",
   "execution_count": 48,
   "metadata": {},
   "outputs": [],
   "source": [
    " available_t_s_dates = available_t_s_dates[available_t_s_dates >'1995-01-01 00:00:00+00:00']"
   ]
  },
  {
   "cell_type": "code",
   "execution_count": 50,
   "metadata": {},
   "outputs": [],
   "source": [
    "available_t_s_dates = available_t_s_dates.apply(lambda d :str(pd.to_datetime(str(d)).date()))"
   ]
  },
  {
   "cell_type": "code",
   "execution_count": 61,
   "metadata": {},
   "outputs": [],
   "source": [
    "unique_date = available_t_s_dates[available_t_s_dates< \"2012-12-30\"].unique()"
   ]
  },
  {
   "cell_type": "code",
   "execution_count": 67,
   "metadata": {},
   "outputs": [
    {
     "data": {
      "text/plain": [
       "(6573,)"
      ]
     },
     "execution_count": 67,
     "metadata": {},
     "output_type": "execute_result"
    }
   ],
   "source": [
    "unique_date.shape"
   ]
  },
  {
   "cell_type": "code",
   "execution_count": 93,
   "metadata": {},
   "outputs": [
    {
     "data": {
      "text/plain": [
       "(675360,)"
      ]
     },
     "execution_count": 93,
     "metadata": {},
     "output_type": "execute_result"
    }
   ],
   "source": [
    "# extract and flatten all temp from an NC file\n",
    "temp20050103 = temp_01_2005.variables[\"temperature\"][2,:,:].flatten()\n",
    "temp20050103.shape"
   ]
  },
  {
   "cell_type": "code",
   "execution_count": 92,
   "metadata": {},
   "outputs": [],
   "source": [
    "# extract all the days in the corresponding NC file - one month\n",
    "days = temp_01_2005.variables[\"datum\"][:]\n",
    "days = [str(x)[:-4] for x in days]"
   ]
  },
  {
   "cell_type": "code",
   "execution_count": 99,
   "metadata": {},
   "outputs": [
    {
     "name": "stdout",
     "output_type": "stream",
     "text": [
      "20050101\n",
      "20050102\n",
      "20050103\n",
      "20050104\n",
      "20050105\n",
      "20050106\n",
      "20050107\n",
      "20050108\n",
      "20050109\n",
      "20050110\n",
      "20050111\n",
      "20050112\n",
      "20050113\n",
      "20050114\n",
      "20050115\n",
      "20050116\n",
      "20050117\n",
      "20050118\n",
      "20050119\n",
      "20050120\n",
      "20050121\n",
      "20050122\n",
      "20050123\n",
      "20050124\n",
      "20050125\n",
      "20050126\n",
      "20050127\n",
      "20050128\n",
      "20050129\n",
      "20050130\n",
      "20050131\n"
     ]
    }
   ],
   "source": [
    "for day in days:\n",
    "    print(day)"
   ]
  },
  {
   "cell_type": "code",
   "execution_count": 98,
   "metadata": {},
   "outputs": [
    {
     "name": "stdout",
     "output_type": "stream",
     "text": [
      "20050101\n",
      "20050102\n",
      "20050103\n",
      "20050104\n",
      "20050105\n",
      "20050106\n",
      "20050107\n",
      "20050108\n",
      "20050109\n",
      "20050110\n",
      "20050111\n",
      "20050112\n",
      "20050113\n",
      "20050114\n",
      "20050115\n",
      "20050116\n",
      "20050117\n",
      "20050118\n",
      "20050119\n",
      "20050120\n",
      "20050121\n",
      "20050122\n",
      "20050123\n",
      "20050124\n",
      "20050125\n",
      "20050126\n",
      "20050127\n",
      "20050128\n",
      "20050129\n",
      "20050130\n",
      "20050131\n"
     ]
    }
   ],
   "source": [
    "for day in days:\n",
    "    if day in available_t_s_dates:\n",
    "        print(day)"
   ]
  },
  {
   "cell_type": "code",
   "execution_count": null,
   "metadata": {},
   "outputs": [],
   "source": []
  },
  {
   "cell_type": "code",
   "execution_count": 83,
   "metadata": {},
   "outputs": [
    {
     "data": {
      "text/plain": [
       "40"
      ]
     },
     "execution_count": 83,
     "metadata": {},
     "output_type": "execute_result"
    }
   ],
   "source": [
    "temp20050103[station_temp_df[\"Temp_20050103\"][1000]]"
   ]
  },
  {
   "cell_type": "code",
   "execution_count": null,
   "metadata": {},
   "outputs": [],
   "source": [
    "for d, day in enumerate(days):\n",
    "    if day in available_t_s_dates:\n",
    " "
   ]
  },
  {
   "cell_type": "code",
   "execution_count": null,
   "metadata": {},
   "outputs": [],
   "source": []
  },
  {
   "cell_type": "code",
   "execution_count": null,
   "metadata": {},
   "outputs": [],
   "source": [
    "# check if the day of the month relevant to the time series\n",
    "for d, day in enumerate(days):\n",
    "    if day in available_t_s_dates:\n",
    "        germany_temp_df[\"t_\"+str(day)] = list(temp_01_2005.variables[\"temperature\"][d,:,:].flatten())\n",
    "        #bdf[str(d)] = temp_01_2005.variables[\"temperature\"][d,:,:].flatten()\n",
    "        #pd.merge(station_temp_df, germany_temp_df, on='x_long', how=\"left\")"
   ]
  },
  {
   "cell_type": "code",
   "execution_count": null,
   "metadata": {},
   "outputs": [],
   "source": [
    "germany_temp_df.head()"
   ]
  },
  {
   "cell_type": "code",
   "execution_count": null,
   "metadata": {},
   "outputs": [],
   "source": []
  },
  {
   "cell_type": "code",
   "execution_count": null,
   "metadata": {},
   "outputs": [],
   "source": []
  },
  {
   "cell_type": "code",
   "execution_count": null,
   "metadata": {},
   "outputs": [],
   "source": []
  }
 ],
 "metadata": {
  "kernelspec": {
   "display_name": "Python 3",
   "language": "python",
   "name": "python3"
  },
  "language_info": {
   "codemirror_mode": {
    "name": "ipython",
    "version": 3
   },
   "file_extension": ".py",
   "mimetype": "text/x-python",
   "name": "python",
   "nbconvert_exporter": "python",
   "pygments_lexer": "ipython3",
   "version": "3.8.5"
  }
 },
 "nbformat": 4,
 "nbformat_minor": 4
}
