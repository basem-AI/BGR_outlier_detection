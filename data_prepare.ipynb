{
 "cells": [
  {
   "cell_type": "markdown",
   "metadata": {},
   "source": [
    "# Time series\n",
    "75033710 rows\n",
    "\n",
    "13713 unique time series taken in 12603 stations from 17-10-2000 to 22-03-2018"
   ]
  },
  {
   "cell_type": "code",
   "execution_count": 30,
   "metadata": {},
   "outputs": [],
   "source": [
    "import pyarrow.feather as feather\n",
    "import pandas as pd\n",
    "import numpy as np\n",
    "from scipy.io import netcdf\n",
    "import matplotlib.pyplot as plt "
   ]
  },
  {
   "cell_type": "code",
   "execution_count": 4,
   "metadata": {},
   "outputs": [],
   "source": [
    "time_series_df = feather.read_feather('dataset/original_data_as_feather')"
   ]
  },
  {
   "cell_type": "code",
   "execution_count": 5,
   "metadata": {},
   "outputs": [
    {
     "data": {
      "text/html": [
       "<div>\n",
       "<style scoped>\n",
       "    .dataframe tbody tr th:only-of-type {\n",
       "        vertical-align: middle;\n",
       "    }\n",
       "\n",
       "    .dataframe tbody tr th {\n",
       "        vertical-align: top;\n",
       "    }\n",
       "\n",
       "    .dataframe thead th {\n",
       "        text-align: right;\n",
       "    }\n",
       "</style>\n",
       "<table border=\"1\" class=\"dataframe\">\n",
       "  <thead>\n",
       "    <tr style=\"text-align: right;\">\n",
       "      <th></th>\n",
       "      <th>proj_id</th>\n",
       "      <th>name</th>\n",
       "      <th>date</th>\n",
       "      <th>groundwater_level</th>\n",
       "    </tr>\n",
       "  </thead>\n",
       "  <tbody>\n",
       "    <tr>\n",
       "      <th>0</th>\n",
       "      <td>BB_25470023</td>\n",
       "      <td>Ottenhagen OP</td>\n",
       "      <td>2000-10-17 00:00:00+00:00</td>\n",
       "      <td>79.01</td>\n",
       "    </tr>\n",
       "    <tr>\n",
       "      <th>1</th>\n",
       "      <td>BB_25470023</td>\n",
       "      <td>Ottenhagen OP</td>\n",
       "      <td>2000-11-22 00:00:00+00:00</td>\n",
       "      <td>78.96</td>\n",
       "    </tr>\n",
       "    <tr>\n",
       "      <th>2</th>\n",
       "      <td>BB_25470023</td>\n",
       "      <td>Ottenhagen OP</td>\n",
       "      <td>2000-12-18 00:00:00+00:00</td>\n",
       "      <td>78.94</td>\n",
       "    </tr>\n",
       "    <tr>\n",
       "      <th>3</th>\n",
       "      <td>BB_25470023</td>\n",
       "      <td>Ottenhagen OP</td>\n",
       "      <td>2001-01-11 00:00:00+00:00</td>\n",
       "      <td>79.02</td>\n",
       "    </tr>\n",
       "    <tr>\n",
       "      <th>4</th>\n",
       "      <td>BB_25470023</td>\n",
       "      <td>Ottenhagen OP</td>\n",
       "      <td>2001-02-06 00:00:00+00:00</td>\n",
       "      <td>78.99</td>\n",
       "    </tr>\n",
       "  </tbody>\n",
       "</table>\n",
       "</div>"
      ],
      "text/plain": [
       "       proj_id           name                      date  groundwater_level\n",
       "0  BB_25470023  Ottenhagen OP 2000-10-17 00:00:00+00:00              79.01\n",
       "1  BB_25470023  Ottenhagen OP 2000-11-22 00:00:00+00:00              78.96\n",
       "2  BB_25470023  Ottenhagen OP 2000-12-18 00:00:00+00:00              78.94\n",
       "3  BB_25470023  Ottenhagen OP 2001-01-11 00:00:00+00:00              79.02\n",
       "4  BB_25470023  Ottenhagen OP 2001-02-06 00:00:00+00:00              78.99"
      ]
     },
     "execution_count": 5,
     "metadata": {},
     "output_type": "execute_result"
    }
   ],
   "source": [
    "time_series_df.head()"
   ]
  },
  {
   "cell_type": "code",
   "execution_count": 14,
   "metadata": {},
   "outputs": [
    {
     "data": {
      "text/plain": [
       "75033710"
      ]
     },
     "execution_count": 14,
     "metadata": {},
     "output_type": "execute_result"
    }
   ],
   "source": [
    "len(time_series_df)"
   ]
  },
  {
   "cell_type": "code",
   "execution_count": 12,
   "metadata": {},
   "outputs": [
    {
     "data": {
      "text/plain": [
       "13713"
      ]
     },
     "execution_count": 12,
     "metadata": {},
     "output_type": "execute_result"
    }
   ],
   "source": [
    "len(time_series_df[\"proj_id\"].unique())"
   ]
  },
  {
   "cell_type": "code",
   "execution_count": 13,
   "metadata": {},
   "outputs": [
    {
     "data": {
      "text/plain": [
       "12603"
      ]
     },
     "execution_count": 13,
     "metadata": {},
     "output_type": "execute_result"
    }
   ],
   "source": [
    "len(time_series_df[\"name\"].unique())"
   ]
  },
  {
   "cell_type": "code",
   "execution_count": 23,
   "metadata": {},
   "outputs": [
    {
     "data": {
      "text/html": [
       "<div>\n",
       "<style scoped>\n",
       "    .dataframe tbody tr th:only-of-type {\n",
       "        vertical-align: middle;\n",
       "    }\n",
       "\n",
       "    .dataframe tbody tr th {\n",
       "        vertical-align: top;\n",
       "    }\n",
       "\n",
       "    .dataframe thead th {\n",
       "        text-align: right;\n",
       "    }\n",
       "</style>\n",
       "<table border=\"1\" class=\"dataframe\">\n",
       "  <thead>\n",
       "    <tr style=\"text-align: right;\">\n",
       "      <th></th>\n",
       "      <th>proj_id</th>\n",
       "      <th>name</th>\n",
       "      <th>date</th>\n",
       "      <th>groundwater_level</th>\n",
       "    </tr>\n",
       "  </thead>\n",
       "  <tbody>\n",
       "    <tr>\n",
       "      <th>0</th>\n",
       "      <td>BB_25470023</td>\n",
       "      <td>Ottenhagen OP</td>\n",
       "      <td>2000-10-17 00:00:00+00:00</td>\n",
       "      <td>79.01</td>\n",
       "    </tr>\n",
       "    <tr>\n",
       "      <th>75033709</th>\n",
       "      <td>TH_5730000077</td>\n",
       "      <td>Br.Lindenau (0006)</td>\n",
       "      <td>2018-03-22 00:00:00+00:00</td>\n",
       "      <td>281.41</td>\n",
       "    </tr>\n",
       "  </tbody>\n",
       "</table>\n",
       "</div>"
      ],
      "text/plain": [
       "                proj_id                name                      date  \\\n",
       "0           BB_25470023       Ottenhagen OP 2000-10-17 00:00:00+00:00   \n",
       "75033709  TH_5730000077  Br.Lindenau (0006) 2018-03-22 00:00:00+00:00   \n",
       "\n",
       "          groundwater_level  \n",
       "0                     79.01  \n",
       "75033709             281.41  "
      ]
     },
     "execution_count": 23,
     "metadata": {},
     "output_type": "execute_result"
    }
   ],
   "source": [
    "pd.DataFrame(data=(time_series_df.loc[time_series_df.index[0]],time_series_df.loc[time_series_df.index[-1]]))"
   ]
  },
  {
   "cell_type": "code",
   "execution_count": 19,
   "metadata": {},
   "outputs": [
    {
     "data": {
      "text/plain": [
       "[<matplotlib.lines.Line2D at 0x7f085c7f1e20>]"
      ]
     },
     "execution_count": 19,
     "metadata": {},
     "output_type": "execute_result"
    },
    {
     "data": {
      "image/png": "[encoded data removed]",
      "text/plain": [
       "<Figure size 432x288 with 1 Axes>"
      ]
     },
     "metadata": {
      "needs_background": "light"
     },
     "output_type": "display_data"
    }
   ],
   "source": [
    "t_s_1 = time_series_df[time_series_df[\"proj_id\"]==\"BB_25470023\"]\n",
    "plt.plot(t_s_1[\"groundwater_level\"])"
   ]
  },
  {
   "cell_type": "markdown",
   "metadata": {},
   "source": [
    "# metadata: \n",
    "respective observation wells ( stations),\n",
    "\n",
    "related to the equipment used in the measurement e.g. coordinates, filter depth\n",
    "\n",
    "13492 rows, 15 feature\n",
    "latitude and longitude of stations are taken from here"
   ]
  },
  {
   "cell_type": "code",
   "execution_count": 25,
   "metadata": {},
   "outputs": [
    {
     "data": {
      "text/html": [
       "<div>\n",
       "<style scoped>\n",
       "    .dataframe tbody tr th:only-of-type {\n",
       "        vertical-align: middle;\n",
       "    }\n",
       "\n",
       "    .dataframe tbody tr th {\n",
       "        vertical-align: top;\n",
       "    }\n",
       "\n",
       "    .dataframe thead th {\n",
       "        text-align: right;\n",
       "    }\n",
       "</style>\n",
       "<table border=\"1\" class=\"dataframe\">\n",
       "  <thead>\n",
       "    <tr style=\"text-align: right;\">\n",
       "      <th></th>\n",
       "      <th>proj_id</th>\n",
       "      <th>name</th>\n",
       "      <th>x_long</th>\n",
       "      <th>y_lat</th>\n",
       "      <th>x_utm32</th>\n",
       "      <th>y_utm32</th>\n",
       "      <th>aquifer_id</th>\n",
       "      <th>filteroberkante</th>\n",
       "      <th>filterunterkante</th>\n",
       "      <th>filter_length</th>\n",
       "      <th>filter_depth_middle</th>\n",
       "      <th>surface_elevation</th>\n",
       "      <th>watertable_pressure</th>\n",
       "      <th>well_depth</th>\n",
       "      <th>aquifer_level</th>\n",
       "    </tr>\n",
       "  </thead>\n",
       "  <tbody>\n",
       "    <tr>\n",
       "      <th>0</th>\n",
       "      <td>BB_25470023</td>\n",
       "      <td>Ottenhagen OP</td>\n",
       "      <td>13.643609</td>\n",
       "      <td>53.416804</td>\n",
       "      <td>808527.0</td>\n",
       "      <td>5928687.0</td>\n",
       "      <td>weitgehend bedeckter GWL</td>\n",
       "      <td>NaN</td>\n",
       "      <td>NaN</td>\n",
       "      <td>NaN</td>\n",
       "      <td>NaN</td>\n",
       "      <td>100,33</td>\n",
       "      <td>gespannt</td>\n",
       "      <td>62,53</td>\n",
       "      <td>NaN</td>\n",
       "    </tr>\n",
       "    <tr>\n",
       "      <th>1</th>\n",
       "      <td>BB_25470024</td>\n",
       "      <td>Ottenhagen UP</td>\n",
       "      <td>13.643653</td>\n",
       "      <td>53.416793</td>\n",
       "      <td>808530.0</td>\n",
       "      <td>5928686.0</td>\n",
       "      <td>tieferer GWL in tiefern quart. und tert. Schic...</td>\n",
       "      <td>NaN</td>\n",
       "      <td>NaN</td>\n",
       "      <td>NaN</td>\n",
       "      <td>NaN</td>\n",
       "      <td>100,38</td>\n",
       "      <td>NaN</td>\n",
       "      <td>45,68</td>\n",
       "      <td>NaN</td>\n",
       "    </tr>\n",
       "    <tr>\n",
       "      <th>2</th>\n",
       "      <td>BB_25480025</td>\n",
       "      <td>Neumannshof</td>\n",
       "      <td>13.826532</td>\n",
       "      <td>53.452024</td>\n",
       "      <td>820407.0</td>\n",
       "      <td>5933409.0</td>\n",
       "      <td>weitgehend bedeckter GWL</td>\n",
       "      <td>NaN</td>\n",
       "      <td>NaN</td>\n",
       "      <td>NaN</td>\n",
       "      <td>NaN</td>\n",
       "      <td>58,94</td>\n",
       "      <td>gespannt</td>\n",
       "      <td>10,84</td>\n",
       "      <td>NaN</td>\n",
       "    </tr>\n",
       "    <tr>\n",
       "      <th>3</th>\n",
       "      <td>BB_25480026</td>\n",
       "      <td>Amalienhof</td>\n",
       "      <td>13.677407</td>\n",
       "      <td>53.457078</td>\n",
       "      <td>810477.0</td>\n",
       "      <td>5933310.0</td>\n",
       "      <td>weitgehend bedeckter GWL</td>\n",
       "      <td>NaN</td>\n",
       "      <td>NaN</td>\n",
       "      <td>NaN</td>\n",
       "      <td>NaN</td>\n",
       "      <td>97,67</td>\n",
       "      <td>gespannt</td>\n",
       "      <td>62,67</td>\n",
       "      <td>NaN</td>\n",
       "    </tr>\n",
       "    <tr>\n",
       "      <th>4</th>\n",
       "      <td>BB_25481088</td>\n",
       "      <td>Milow, Beschaffenheitsmesst.OP</td>\n",
       "      <td>13.821475</td>\n",
       "      <td>53.475857</td>\n",
       "      <td>819892.0</td>\n",
       "      <td>5936035.0</td>\n",
       "      <td>weitgehend unbedeckter GWL</td>\n",
       "      <td>NaN</td>\n",
       "      <td>NaN</td>\n",
       "      <td>NaN</td>\n",
       "      <td>NaN</td>\n",
       "      <td>57,6</td>\n",
       "      <td>gespannt</td>\n",
       "      <td>19,71</td>\n",
       "      <td>NaN</td>\n",
       "    </tr>\n",
       "  </tbody>\n",
       "</table>\n",
       "</div>"
      ],
      "text/plain": [
       "       proj_id                            name     x_long      y_lat  \\\n",
       "0  BB_25470023                   Ottenhagen OP  13.643609  53.416804   \n",
       "1  BB_25470024                   Ottenhagen UP  13.643653  53.416793   \n",
       "2  BB_25480025                     Neumannshof  13.826532  53.452024   \n",
       "3  BB_25480026                      Amalienhof  13.677407  53.457078   \n",
       "4  BB_25481088  Milow, Beschaffenheitsmesst.OP  13.821475  53.475857   \n",
       "\n",
       "    x_utm32    y_utm32                                         aquifer_id  \\\n",
       "0  808527.0  5928687.0                           weitgehend bedeckter GWL   \n",
       "1  808530.0  5928686.0  tieferer GWL in tiefern quart. und tert. Schic...   \n",
       "2  820407.0  5933409.0                           weitgehend bedeckter GWL   \n",
       "3  810477.0  5933310.0                           weitgehend bedeckter GWL   \n",
       "4  819892.0  5936035.0                         weitgehend unbedeckter GWL   \n",
       "\n",
       "  filteroberkante filterunterkante filter_length filter_depth_middle  \\\n",
       "0             NaN              NaN           NaN                 NaN   \n",
       "1             NaN              NaN           NaN                 NaN   \n",
       "2             NaN              NaN           NaN                 NaN   \n",
       "3             NaN              NaN           NaN                 NaN   \n",
       "4             NaN              NaN           NaN                 NaN   \n",
       "\n",
       "  surface_elevation watertable_pressure well_depth  aquifer_level  \n",
       "0            100,33            gespannt      62,53            NaN  \n",
       "1            100,38                 NaN      45,68            NaN  \n",
       "2             58,94            gespannt      10,84            NaN  \n",
       "3             97,67            gespannt      62,67            NaN  \n",
       "4              57,6            gespannt      19,71            NaN  "
      ]
     },
     "execution_count": 25,
     "metadata": {},
     "output_type": "execute_result"
    }
   ],
   "source": [
    "meta_df = pd.read_excel(\"dataset/metadata_timeseries_LongLat.xlsx\")\n",
    "meta_df.head()"
   ]
  },
  {
   "cell_type": "code",
   "execution_count": 26,
   "metadata": {},
   "outputs": [
    {
     "data": {
      "text/plain": [
       "(13492, 15)"
      ]
     },
     "execution_count": 26,
     "metadata": {},
     "output_type": "execute_result"
    }
   ],
   "source": [
    "meta_df.shape"
   ]
  },
  {
   "cell_type": "code",
   "execution_count": 29,
   "metadata": {},
   "outputs": [
    {
     "data": {
      "text/plain": [
       "13492"
      ]
     },
     "execution_count": 29,
     "metadata": {},
     "output_type": "execute_result"
    }
   ],
   "source": [
    "len(meta_df[\"proj_id\"].unique())"
   ]
  },
  {
   "cell_type": "code",
   "execution_count": null,
   "metadata": {},
   "outputs": [],
   "source": []
  },
  {
   "cell_type": "code",
   "execution_count": null,
   "metadata": {},
   "outputs": [],
   "source": []
  },
  {
   "cell_type": "code",
   "execution_count": null,
   "metadata": {},
   "outputs": [],
   "source": []
  },
  {
   "cell_type": "markdown",
   "metadata": {},
   "source": [
    " ### predictors ( temperature and precipitation) are matched to the station lon lat acording these meta data"
   ]
  },
  {
   "cell_type": "markdown",
   "metadata": {},
   "source": [
    "# temperature: as predictor\n",
    "\n",
    "Daily means of hourly grids of air temperature for whole Germany (project TRY Advancement)\n",
    "\n",
    "there are 215 NC files, each file represents a month of dailly temperature from 01-1995 tp 11-2012\n",
    "\n"
   ]
  },
  {
   "cell_type": "code",
   "execution_count": 121,
   "metadata": {},
   "outputs": [
    {
     "data": {
      "text/plain": [
       "array(['20001017', '20001122', '20001218', ..., '20170815', '20171114',\n",
       "       '20180220'], dtype=object)"
      ]
     },
     "execution_count": 121,
     "metadata": {},
     "output_type": "execute_result"
    }
   ],
   "source": [
    "# extract the dates in which water level were measured\n",
    "# store the unique values in numpy array as str\n",
    "available_t_s_dates = pd.Series(time_series_df[\"date\"].unique())\n",
    "available_t_s_dates = np.asanyarray(available_t_s_dates.apply(lambda x:''.join(str(x.date()).split(\"-\"))))\n",
    "available_t_s_dates"
   ]
  },
  {
   "cell_type": "code",
   "execution_count": 122,
   "metadata": {},
   "outputs": [
    {
     "data": {
      "text/plain": [
       "(5607812,)"
      ]
     },
     "execution_count": 122,
     "metadata": {},
     "output_type": "execute_result"
    }
   ],
   "source": [
    "available_t_s_dates.shape"
   ]
  },
  {
   "cell_type": "code",
   "execution_count": 246,
   "metadata": {},
   "outputs": [
    {
     "data": {
      "text/html": [
       "<div>\n",
       "<style scoped>\n",
       "    .dataframe tbody tr th:only-of-type {\n",
       "        vertical-align: middle;\n",
       "    }\n",
       "\n",
       "    .dataframe tbody tr th {\n",
       "        vertical-align: top;\n",
       "    }\n",
       "\n",
       "    .dataframe thead th {\n",
       "        text-align: right;\n",
       "    }\n",
       "</style>\n",
       "<table border=\"1\" class=\"dataframe\">\n",
       "  <thead>\n",
       "    <tr style=\"text-align: right;\">\n",
       "      <th></th>\n",
       "      <th>proj_id</th>\n",
       "      <th>x_long</th>\n",
       "      <th>y_lat</th>\n",
       "    </tr>\n",
       "  </thead>\n",
       "  <tbody>\n",
       "    <tr>\n",
       "      <th>0</th>\n",
       "      <td>BB_25470023</td>\n",
       "      <td>13.643609</td>\n",
       "      <td>53.416804</td>\n",
       "    </tr>\n",
       "    <tr>\n",
       "      <th>1</th>\n",
       "      <td>BB_25470024</td>\n",
       "      <td>13.643653</td>\n",
       "      <td>53.416793</td>\n",
       "    </tr>\n",
       "    <tr>\n",
       "      <th>2</th>\n",
       "      <td>BB_25480025</td>\n",
       "      <td>13.826532</td>\n",
       "      <td>53.452024</td>\n",
       "    </tr>\n",
       "    <tr>\n",
       "      <th>3</th>\n",
       "      <td>BB_25480026</td>\n",
       "      <td>13.677407</td>\n",
       "      <td>53.457078</td>\n",
       "    </tr>\n",
       "    <tr>\n",
       "      <th>4</th>\n",
       "      <td>BB_25481088</td>\n",
       "      <td>13.821475</td>\n",
       "      <td>53.475857</td>\n",
       "    </tr>\n",
       "  </tbody>\n",
       "</table>\n",
       "</div>"
      ],
      "text/plain": [
       "       proj_id     x_long      y_lat\n",
       "0  BB_25470023  13.643609  53.416804\n",
       "1  BB_25470024  13.643653  53.416793\n",
       "2  BB_25480025  13.826532  53.452024\n",
       "3  BB_25480026  13.677407  53.457078\n",
       "4  BB_25481088  13.821475  53.475857"
      ]
     },
     "execution_count": 246,
     "metadata": {},
     "output_type": "execute_result"
    }
   ],
   "source": [
    "station_temp_df = meta_df[[\"proj_id\",\"x_long\", \"y_lat\"]]\n",
    "station_temp_df.head()"
   ]
  },
  {
   "cell_type": "code",
   "execution_count": 247,
   "metadata": {},
   "outputs": [
    {
     "data": {
      "text/plain": [
       "(13492, 3)"
      ]
     },
     "execution_count": 247,
     "metadata": {},
     "output_type": "execute_result"
    }
   ],
   "source": [
    "station_temp_df.shape"
   ]
  },
  {
   "cell_type": "code",
   "execution_count": 33,
   "metadata": {},
   "outputs": [],
   "source": [
    "# extract relevant temp from an nc file \n",
    "# each file has temperature across whole germany\n",
    "dir_01_2005 = \"dataset/project_try_dwd/data/\"+'daily_Project_TRY_air_temperature_mean__TT_200501_daymean.nc'\n",
    "temp_01_2005 = netcdf.NetCDFFile(dir_01_2005,'r')"
   ]
  },
  {
   "cell_type": "code",
   "execution_count": 37,
   "metadata": {},
   "outputs": [
    {
     "data": {
      "text/plain": [
       "OrderedDict([('lon', <scipy.io.netcdf.netcdf_variable at 0x7f085c010400>),\n",
       "             ('lat', <scipy.io.netcdf.netcdf_variable at 0x7f085abf65e0>),\n",
       "             ('time', <scipy.io.netcdf.netcdf_variable at 0x7f085abf69d0>),\n",
       "             ('time_bnds',\n",
       "              <scipy.io.netcdf.netcdf_variable at 0x7f085abf6490>),\n",
       "             ('datum', <scipy.io.netcdf.netcdf_variable at 0x7f085abf6bb0>),\n",
       "             ('temperature',\n",
       "              <scipy.io.netcdf.netcdf_variable at 0x7f085abf6c10>)])"
      ]
     },
     "execution_count": 37,
     "metadata": {},
     "output_type": "execute_result"
    }
   ],
   "source": [
    "temp_01_2005.variables"
   ]
  },
  {
   "cell_type": "code",
   "execution_count": 215,
   "metadata": {},
   "outputs": [],
   "source": [
    "germany_temp_df = pd.DataFrame(list(temp_01_2005.variables[\"lon\"][:].flatten()), columns =[\"x_long\"])"
   ]
  },
  {
   "cell_type": "code",
   "execution_count": 216,
   "metadata": {},
   "outputs": [
    {
     "data": {
      "text/html": [
       "<div>\n",
       "<style scoped>\n",
       "    .dataframe tbody tr th:only-of-type {\n",
       "        vertical-align: middle;\n",
       "    }\n",
       "\n",
       "    .dataframe tbody tr th {\n",
       "        vertical-align: top;\n",
       "    }\n",
       "\n",
       "    .dataframe thead th {\n",
       "        text-align: right;\n",
       "    }\n",
       "</style>\n",
       "<table border=\"1\" class=\"dataframe\">\n",
       "  <thead>\n",
       "    <tr style=\"text-align: right;\">\n",
       "      <th></th>\n",
       "      <th>x_long</th>\n",
       "      <th>y_lat</th>\n",
       "    </tr>\n",
       "  </thead>\n",
       "  <tbody>\n",
       "    <tr>\n",
       "      <th>0</th>\n",
       "      <td>5.5452</td>\n",
       "      <td>46.7198</td>\n",
       "    </tr>\n",
       "    <tr>\n",
       "      <th>1</th>\n",
       "      <td>5.5587</td>\n",
       "      <td>46.7204</td>\n",
       "    </tr>\n",
       "    <tr>\n",
       "      <th>2</th>\n",
       "      <td>5.5722</td>\n",
       "      <td>46.7209</td>\n",
       "    </tr>\n",
       "    <tr>\n",
       "      <th>3</th>\n",
       "      <td>5.5857</td>\n",
       "      <td>46.7215</td>\n",
       "    </tr>\n",
       "    <tr>\n",
       "      <th>4</th>\n",
       "      <td>5.5991</td>\n",
       "      <td>46.7221</td>\n",
       "    </tr>\n",
       "    <tr>\n",
       "      <th>...</th>\n",
       "      <td>...</td>\n",
       "      <td>...</td>\n",
       "    </tr>\n",
       "    <tr>\n",
       "      <th>675355</th>\n",
       "      <td>16.2843</td>\n",
       "      <td>55.3737</td>\n",
       "    </tr>\n",
       "    <tr>\n",
       "      <th>675356</th>\n",
       "      <td>16.3006</td>\n",
       "      <td>55.3729</td>\n",
       "    </tr>\n",
       "    <tr>\n",
       "      <th>675357</th>\n",
       "      <td>16.3168</td>\n",
       "      <td>55.3722</td>\n",
       "    </tr>\n",
       "    <tr>\n",
       "      <th>675358</th>\n",
       "      <td>16.3330</td>\n",
       "      <td>55.3714</td>\n",
       "    </tr>\n",
       "    <tr>\n",
       "      <th>675359</th>\n",
       "      <td>16.3492</td>\n",
       "      <td>55.3706</td>\n",
       "    </tr>\n",
       "  </tbody>\n",
       "</table>\n",
       "<p>675360 rows × 2 columns</p>\n",
       "</div>"
      ],
      "text/plain": [
       "         x_long    y_lat\n",
       "0        5.5452  46.7198\n",
       "1        5.5587  46.7204\n",
       "2        5.5722  46.7209\n",
       "3        5.5857  46.7215\n",
       "4        5.5991  46.7221\n",
       "...         ...      ...\n",
       "675355  16.2843  55.3737\n",
       "675356  16.3006  55.3729\n",
       "675357  16.3168  55.3722\n",
       "675358  16.3330  55.3714\n",
       "675359  16.3492  55.3706\n",
       "\n",
       "[675360 rows x 2 columns]"
      ]
     },
     "execution_count": 216,
     "metadata": {},
     "output_type": "execute_result"
    }
   ],
   "source": [
    "germany_temp_df[\"y_lat\"] = list(temp_01_2005.variables[\"lat\"][:].flatten())\n",
    "germany_temp_df"
   ]
  },
  {
   "cell_type": "code",
   "execution_count": 165,
   "metadata": {},
   "outputs": [
    {
     "data": {
      "text/plain": [
       "x_lon    0\n",
       "y_lat    0\n",
       "dtype: int64"
      ]
     },
     "execution_count": 165,
     "metadata": {},
     "output_type": "execute_result"
    }
   ],
   "source": [
    "germany_temp_df.isna().sum()"
   ]
  },
  {
   "cell_type": "code",
   "execution_count": 133,
   "metadata": {},
   "outputs": [],
   "source": [
    "# days of the month in the current nc file\n",
    "days = temp_01_2005.variables[\"datum\"][:]\n",
    "days = [str(x)[:-4] for x in days]"
   ]
  },
  {
   "cell_type": "code",
   "execution_count": 237,
   "metadata": {},
   "outputs": [],
   "source": [
    "# check if the day of the month relevant to the time series\n",
    "for d, day in enumerate(days):\n",
    "    if day in available_t_s_dates:\n",
    "        germany_temp_df[\"t_\"+str(day)] = list(temp_01_2005.variables[\"temperature\"][d,:,:].flatten())\n",
    "        #bdf[str(d)] = temp_01_2005.variables[\"temperature\"][d,:,:].flatten()\n",
    "        #pd.merge(station_temp_df, germany_temp_df, on='x_long', how=\"left\")"
   ]
  },
  {
   "cell_type": "code",
   "execution_count": 238,
   "metadata": {},
   "outputs": [
    {
     "data": {
      "text/html": [
       "<div>\n",
       "<style scoped>\n",
       "    .dataframe tbody tr th:only-of-type {\n",
       "        vertical-align: middle;\n",
       "    }\n",
       "\n",
       "    .dataframe tbody tr th {\n",
       "        vertical-align: top;\n",
       "    }\n",
       "\n",
       "    .dataframe thead th {\n",
       "        text-align: right;\n",
       "    }\n",
       "</style>\n",
       "<table border=\"1\" class=\"dataframe\">\n",
       "  <thead>\n",
       "    <tr style=\"text-align: right;\">\n",
       "      <th></th>\n",
       "      <th>x_long</th>\n",
       "      <th>y_lat</th>\n",
       "      <th>t_20050101</th>\n",
       "      <th>t_20050102</th>\n",
       "      <th>t_20050103</th>\n",
       "      <th>t_20050104</th>\n",
       "      <th>t_20050105</th>\n",
       "      <th>t_20050106</th>\n",
       "      <th>t_20050107</th>\n",
       "      <th>t_20050108</th>\n",
       "      <th>...</th>\n",
       "      <th>t_20050122</th>\n",
       "      <th>t_20050123</th>\n",
       "      <th>t_20050124</th>\n",
       "      <th>t_20050125</th>\n",
       "      <th>t_20050126</th>\n",
       "      <th>t_20050127</th>\n",
       "      <th>t_20050128</th>\n",
       "      <th>t_20050129</th>\n",
       "      <th>t_20050130</th>\n",
       "      <th>t_20050131</th>\n",
       "    </tr>\n",
       "  </thead>\n",
       "  <tbody>\n",
       "    <tr>\n",
       "      <th>0</th>\n",
       "      <td>5.5452</td>\n",
       "      <td>46.7198</td>\n",
       "      <td>9999</td>\n",
       "      <td>9999</td>\n",
       "      <td>9999</td>\n",
       "      <td>9999</td>\n",
       "      <td>9999</td>\n",
       "      <td>9999</td>\n",
       "      <td>9999</td>\n",
       "      <td>9999</td>\n",
       "      <td>...</td>\n",
       "      <td>9999</td>\n",
       "      <td>9999</td>\n",
       "      <td>9999</td>\n",
       "      <td>9999</td>\n",
       "      <td>9999</td>\n",
       "      <td>9999</td>\n",
       "      <td>9999</td>\n",
       "      <td>9999</td>\n",
       "      <td>9999</td>\n",
       "      <td>9999</td>\n",
       "    </tr>\n",
       "    <tr>\n",
       "      <th>1</th>\n",
       "      <td>5.5587</td>\n",
       "      <td>46.7204</td>\n",
       "      <td>9999</td>\n",
       "      <td>9999</td>\n",
       "      <td>9999</td>\n",
       "      <td>9999</td>\n",
       "      <td>9999</td>\n",
       "      <td>9999</td>\n",
       "      <td>9999</td>\n",
       "      <td>9999</td>\n",
       "      <td>...</td>\n",
       "      <td>9999</td>\n",
       "      <td>9999</td>\n",
       "      <td>9999</td>\n",
       "      <td>9999</td>\n",
       "      <td>9999</td>\n",
       "      <td>9999</td>\n",
       "      <td>9999</td>\n",
       "      <td>9999</td>\n",
       "      <td>9999</td>\n",
       "      <td>9999</td>\n",
       "    </tr>\n",
       "    <tr>\n",
       "      <th>2</th>\n",
       "      <td>5.5722</td>\n",
       "      <td>46.7209</td>\n",
       "      <td>9999</td>\n",
       "      <td>9999</td>\n",
       "      <td>9999</td>\n",
       "      <td>9999</td>\n",
       "      <td>9999</td>\n",
       "      <td>9999</td>\n",
       "      <td>9999</td>\n",
       "      <td>9999</td>\n",
       "      <td>...</td>\n",
       "      <td>9999</td>\n",
       "      <td>9999</td>\n",
       "      <td>9999</td>\n",
       "      <td>9999</td>\n",
       "      <td>9999</td>\n",
       "      <td>9999</td>\n",
       "      <td>9999</td>\n",
       "      <td>9999</td>\n",
       "      <td>9999</td>\n",
       "      <td>9999</td>\n",
       "    </tr>\n",
       "    <tr>\n",
       "      <th>3</th>\n",
       "      <td>5.5857</td>\n",
       "      <td>46.7215</td>\n",
       "      <td>9999</td>\n",
       "      <td>9999</td>\n",
       "      <td>9999</td>\n",
       "      <td>9999</td>\n",
       "      <td>9999</td>\n",
       "      <td>9999</td>\n",
       "      <td>9999</td>\n",
       "      <td>9999</td>\n",
       "      <td>...</td>\n",
       "      <td>9999</td>\n",
       "      <td>9999</td>\n",
       "      <td>9999</td>\n",
       "      <td>9999</td>\n",
       "      <td>9999</td>\n",
       "      <td>9999</td>\n",
       "      <td>9999</td>\n",
       "      <td>9999</td>\n",
       "      <td>9999</td>\n",
       "      <td>9999</td>\n",
       "    </tr>\n",
       "    <tr>\n",
       "      <th>4</th>\n",
       "      <td>5.5991</td>\n",
       "      <td>46.7221</td>\n",
       "      <td>9999</td>\n",
       "      <td>9999</td>\n",
       "      <td>9999</td>\n",
       "      <td>9999</td>\n",
       "      <td>9999</td>\n",
       "      <td>9999</td>\n",
       "      <td>9999</td>\n",
       "      <td>9999</td>\n",
       "      <td>...</td>\n",
       "      <td>9999</td>\n",
       "      <td>9999</td>\n",
       "      <td>9999</td>\n",
       "      <td>9999</td>\n",
       "      <td>9999</td>\n",
       "      <td>9999</td>\n",
       "      <td>9999</td>\n",
       "      <td>9999</td>\n",
       "      <td>9999</td>\n",
       "      <td>9999</td>\n",
       "    </tr>\n",
       "  </tbody>\n",
       "</table>\n",
       "<p>5 rows × 33 columns</p>\n",
       "</div>"
      ],
      "text/plain": [
       "   x_long    y_lat  t_20050101  t_20050102  t_20050103  t_20050104  \\\n",
       "0  5.5452  46.7198        9999        9999        9999        9999   \n",
       "1  5.5587  46.7204        9999        9999        9999        9999   \n",
       "2  5.5722  46.7209        9999        9999        9999        9999   \n",
       "3  5.5857  46.7215        9999        9999        9999        9999   \n",
       "4  5.5991  46.7221        9999        9999        9999        9999   \n",
       "\n",
       "   t_20050105  t_20050106  t_20050107  t_20050108  ...  t_20050122  \\\n",
       "0        9999        9999        9999        9999  ...        9999   \n",
       "1        9999        9999        9999        9999  ...        9999   \n",
       "2        9999        9999        9999        9999  ...        9999   \n",
       "3        9999        9999        9999        9999  ...        9999   \n",
       "4        9999        9999        9999        9999  ...        9999   \n",
       "\n",
       "   t_20050123  t_20050124  t_20050125  t_20050126  t_20050127  t_20050128  \\\n",
       "0        9999        9999        9999        9999        9999        9999   \n",
       "1        9999        9999        9999        9999        9999        9999   \n",
       "2        9999        9999        9999        9999        9999        9999   \n",
       "3        9999        9999        9999        9999        9999        9999   \n",
       "4        9999        9999        9999        9999        9999        9999   \n",
       "\n",
       "   t_20050129  t_20050130  t_20050131  \n",
       "0        9999        9999        9999  \n",
       "1        9999        9999        9999  \n",
       "2        9999        9999        9999  \n",
       "3        9999        9999        9999  \n",
       "4        9999        9999        9999  \n",
       "\n",
       "[5 rows x 33 columns]"
      ]
     },
     "execution_count": 238,
     "metadata": {},
     "output_type": "execute_result"
    }
   ],
   "source": [
    "germany_temp_df.head()"
   ]
  },
  {
   "cell_type": "code",
   "execution_count": 255,
   "metadata": {},
   "outputs": [
    {
     "data": {
      "text/plain": [
       "0        -8.098409\n",
       "1        -8.084953\n",
       "2        -8.254332\n",
       "3        -8.091707\n",
       "4        -8.222375\n",
       "            ...   \n",
       "675355         NaN\n",
       "675356         NaN\n",
       "675357         NaN\n",
       "675358         NaN\n",
       "675359         NaN\n",
       "Name: x_long, Length: 675360, dtype: float64"
      ]
     },
     "execution_count": 255,
     "metadata": {},
     "output_type": "execute_result"
    }
   ],
   "source": [
    "germany_temp_df[\"x_long\"]-station_temp_df[\"x_long\"]"
   ]
  },
  {
   "cell_type": "code",
   "execution_count": 258,
   "metadata": {},
   "outputs": [
    {
     "ename": "ValueError",
     "evalue": "operands could not be broadcast together with shapes (675360,) (13492,) ",
     "output_type": "error",
     "traceback": [
      "\u001b[0;31m---------------------------------------------------------------------------\u001b[0m",
      "\u001b[0;31mValueError\u001b[0m                                Traceback (most recent call last)",
      "\u001b[0;32m<ipython-input-258-1b217127c251>\u001b[0m in \u001b[0;36m<module>\u001b[0;34m\u001b[0m\n\u001b[0;32m----> 1\u001b[0;31m \u001b[0mnp\u001b[0m\u001b[0;34m.\u001b[0m\u001b[0masarray\u001b[0m\u001b[0;34m(\u001b[0m\u001b[0mgermany_temp_df\u001b[0m\u001b[0;34m[\u001b[0m\u001b[0;34m\"x_long\"\u001b[0m\u001b[0;34m]\u001b[0m\u001b[0;34m)\u001b[0m \u001b[0;34m-\u001b[0m \u001b[0mnp\u001b[0m\u001b[0;34m.\u001b[0m\u001b[0masarray\u001b[0m\u001b[0;34m(\u001b[0m\u001b[0mstation_temp_df\u001b[0m\u001b[0;34m[\u001b[0m\u001b[0;34m\"x_long\"\u001b[0m\u001b[0;34m]\u001b[0m\u001b[0;34m)\u001b[0m\u001b[0;34m\u001b[0m\u001b[0;34m\u001b[0m\u001b[0m\n\u001b[0m",
      "\u001b[0;31mValueError\u001b[0m: operands could not be broadcast together with shapes (675360,) (13492,) "
     ]
    }
   ],
   "source": [
    "np.asarray(germany_temp_df[\"x_long\"]) - np.asarray(station_temp_df[\"x_long\"])"
   ]
  },
  {
   "cell_type": "code",
   "execution_count": null,
   "metadata": {},
   "outputs": [],
   "source": []
  },
  {
   "cell_type": "code",
   "execution_count": null,
   "metadata": {},
   "outputs": [],
   "source": []
  },
  {
   "cell_type": "code",
   "execution_count": null,
   "metadata": {},
   "outputs": [],
   "source": []
  }
 ],
 "metadata": {
  "kernelspec": {
   "display_name": "Python 3",
   "language": "python",
   "name": "python3"
  },
  "language_info": {
   "codemirror_mode": {
    "name": "ipython",
    "version": 3
   },
   "file_extension": ".py",
   "mimetype": "text/x-python",
   "name": "python",
   "nbconvert_exporter": "python",
   "pygments_lexer": "ipython3",
   "version": "3.8.5"
  }
 },
 "nbformat": 4,
 "nbformat_minor": 4
}
