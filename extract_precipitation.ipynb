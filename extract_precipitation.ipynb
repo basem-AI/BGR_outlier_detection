{
 "cells": [
  {
   "cell_type": "code",
   "execution_count": 9,
   "metadata": {},
   "outputs": [],
   "source": [
    "f = open('dataset/regnie_dwd/ra031031', 'r')"
   ]
  },
  {
   "cell_type": "code",
   "execution_count": 10,
   "metadata": {},
   "outputs": [],
   "source": [
    "lines=[]\n",
    "for line in f:\n",
    "    lines.append(repr(line))"
   ]
  },
  {
   "cell_type": "code",
   "execution_count": 33,
   "metadata": {},
   "outputs": [
    {
     "data": {
      "text/plain": [
       "972"
      ]
     },
     "execution_count": 33,
     "metadata": {},
     "output_type": "execute_result"
    }
   ],
   "source": [
    "len(lines)"
   ]
  },
  {
   "cell_type": "code",
   "execution_count": 29,
   "metadata": {},
   "outputs": [
    {
     "data": {
      "text/plain": [
       "611"
      ]
     },
     "execution_count": 29,
     "metadata": {},
     "output_type": "execute_result"
    }
   ],
   "source": [
    "len(lines[1][2:-3].split(\"-\"))"
   ]
  },
  {
   "cell_type": "code",
   "execution_count": 70,
   "metadata": {},
   "outputs": [],
   "source": [
    "file =[]"
   ]
  },
  {
   "cell_type": "code",
   "execution_count": 96,
   "metadata": {},
   "outputs": [],
   "source": [
    "line = lines[50].replace(\"-\",\" \").replace(\"  \",\" \")[2:-3].split(\" \")"
   ]
  },
  {
   "cell_type": "code",
   "execution_count": 101,
   "metadata": {},
   "outputs": [],
   "source": [
    "line = [int(l) for l in  lines[50].replace(\"-\",\" \").replace(\"  \",\" \")[2:-3].split(\" \") if l!=\"\"]"
   ]
  },
  {
   "cell_type": "code",
   "execution_count": 102,
   "metadata": {},
   "outputs": [
    {
     "data": {
      "text/plain": [
       "611"
      ]
     },
     "execution_count": 102,
     "metadata": {},
     "output_type": "execute_result"
    }
   ],
   "source": [
    "len(line)"
   ]
  },
  {
   "cell_type": "code",
   "execution_count": null,
   "metadata": {},
   "outputs": [],
   "source": []
  },
  {
   "cell_type": "code",
   "execution_count": 106,
   "metadata": {},
   "outputs": [],
   "source": [
    "# one line of the grid that is 611x971 (west/east - northsouth)\n",
    "file = []\n",
    "for line in lines[:-1]:\n",
    "    #print(line)\n",
    "    file.append([int(l) for l in  line.replace(\"-\",\" \").replace(\"  \",\" \")[2:-3].split(\" \") if l!=\"\"])\n",
    "#row1 = [int(i) for i in lines[1][2:-3].split(\"-\")] "
   ]
  },
  {
   "cell_type": "code",
   "execution_count": 109,
   "metadata": {},
   "outputs": [],
   "source": [
    "file = np.array(file)"
   ]
  },
  {
   "cell_type": "code",
   "execution_count": 34,
   "metadata": {},
   "outputs": [
    {
     "data": {
      "text/plain": [
       "\"'    031031      3353 rus4 D            20041230\\\\n'\""
      ]
     },
     "execution_count": 34,
     "metadata": {},
     "output_type": "execute_result"
    }
   ],
   "source": [
    "lines[-1]"
   ]
  },
  {
   "cell_type": "code",
   "execution_count": 55,
   "metadata": {},
   "outputs": [],
   "source": [
    "xdelta = 1.0 * (1./60.)\n",
    "ydelta = 1.0 * (1./120.)\n",
    "mn =[(0,0),(971,0),(0,971),(971,971)]"
   ]
  },
  {
   "cell_type": "code",
   "execution_count": 56,
   "metadata": {},
   "outputs": [
    {
     "name": "stdout",
     "output_type": "stream",
     "text": [
      "5.816666666666666 55.09166666666667\n",
      "22.0 55.09166666666667\n",
      "5.816666666666666 47.0\n",
      "22.0 47.0\n"
     ]
    }
   ],
   "source": [
    "# x:long , y:lat\n",
    "for pt in mn:\n",
    "\n",
    "    xmn = ( 6. - 10.*xdelta) + (pt[0] - 1)*xdelta\n",
    "    ymn = (55. + 10.*ydelta) - (pt[1] - 1)*ydelta\n",
    "    print(xmn,ymn)"
   ]
  },
  {
   "cell_type": "markdown",
   "metadata": {},
   "source": [
    "### long/x: 5.8 west - 22 east\n",
    "### lat/y: 55.09 north - 47 south"
   ]
  },
  {
   "cell_type": "code",
   "execution_count": 50,
   "metadata": {},
   "outputs": [
    {
     "name": "stdout",
     "output_type": "stream",
     "text": [
      "5.816666666666666 55.09166666666667\n"
     ]
    }
   ],
   "source": [
    "print(xmn,ymn)"
   ]
  },
  {
   "cell_type": "code",
   "execution_count": 65,
   "metadata": {},
   "outputs": [],
   "source": [
    "x =[i for i in range(0,611)]\n",
    "long =[( 6. - 10.*xdelta) + (pt - 1)*xdelta for pt in x]"
   ]
  },
  {
   "cell_type": "code",
   "execution_count": 66,
   "metadata": {},
   "outputs": [],
   "source": [
    "y =[i for i in range(0,971)]\n",
    "lat =[(55. + 10.*ydelta) - (pt - 1)*ydelta for pt in y]"
   ]
  },
  {
   "cell_type": "code",
   "execution_count": 68,
   "metadata": {},
   "outputs": [],
   "source": [
    "from netCDF4 import Dataset\n",
    "import numpy as np\n",
    "\n",
    "root_grp = Dataset('py_netcdf4.nc', 'w', format='NETCDF4')\n",
    "root_grp.description = 'Example simulation data'\n"
   ]
  },
  {
   "cell_type": "code",
   "execution_count": 69,
   "metadata": {},
   "outputs": [
    {
     "data": {
      "text/plain": [
       "<class 'netCDF4._netCDF4.Dimension'>: name = 'y', size = 971"
      ]
     },
     "execution_count": 69,
     "metadata": {},
     "output_type": "execute_result"
    }
   ],
   "source": [
    "# dimensions\n",
    "root_grp.createDimension('time', None)\n",
    "root_grp.createDimension('x', 611)\n",
    "root_grp.createDimension('y', 971)\n"
   ]
  },
  {
   "cell_type": "code",
   "execution_count": 113,
   "metadata": {},
   "outputs": [],
   "source": [
    "# variables\n",
    "time = root_grp.createVariable('time', 'f8', ('time',))\n",
    "x = root_grp.createVariable('x', 'f4', ('x',))\n",
    "y = root_grp.createVariable('y', 'f4', ('y',))\n",
    "field = root_grp.createVariable('field', 'f8', ('time', 'x', 'y',))\n",
    "\n",
    "#data\n",
    "x[:] = long\n",
    "y[:] = lat\n",
    "for i in range(5):\n",
    "    time[i] = i*50.0\n",
    "    field[i,:,:] = file\n",
    "\n",
    "\n",
    "root_grp.close()"
   ]
  },
  {
   "cell_type": "code",
   "execution_count": 114,
   "metadata": {},
   "outputs": [],
   "source": [
    "import xarray as xr\n",
    "ds = xr.open_dataset('py_netcdf4.nc')\n",
    "# index by value\n",
    "#ds['temp'].sel(lon=65.5, lat=29.5)\n",
    "# or index by position\n",
    "#ds['temp'].isel(lon=5, lat=2)"
   ]
  },
  {
   "cell_type": "code",
   "execution_count": 155,
   "metadata": {},
   "outputs": [
    {
     "data": {
      "text/plain": [
       "48.0"
      ]
     },
     "execution_count": 155,
     "metadata": {},
     "output_type": "execute_result"
    }
   ],
   "source": [
    "prec = float(ds.field.sel(x=13.643653, y=  53.416793, time=100, method='nearest').values)\n",
    "prec"
   ]
  },
  {
   "cell_type": "code",
   "execution_count": 156,
   "metadata": {},
   "outputs": [
    {
     "data": {
      "text/plain": [
       "float"
      ]
     },
     "execution_count": 156,
     "metadata": {},
     "output_type": "execute_result"
    }
   ],
   "source": [
    "type(prec)"
   ]
  },
  {
   "cell_type": "markdown",
   "metadata": {},
   "source": [
    "#### extract all the dates in t s and put them in a list, then build nc file for all these days as layers, the we  slice over all days(time) at the same loc to create a t s, and store it in dict with its bgr_id\n",
    "\n",
    "## apply the func on a df for all bgr stations"
   ]
  },
  {
   "cell_type": "code",
   "execution_count": null,
   "metadata": {},
   "outputs": [],
   "source": []
  }
 ],
 "metadata": {
  "kernelspec": {
   "display_name": "Python 3",
   "language": "python",
   "name": "python3"
  },
  "language_info": {
   "codemirror_mode": {
    "name": "ipython",
    "version": 3
   },
   "file_extension": ".py",
   "mimetype": "text/x-python",
   "name": "python",
   "nbconvert_exporter": "python",
   "pygments_lexer": "ipython3",
   "version": "3.8.5"
  }
 },
 "nbformat": 4,
 "nbformat_minor": 4
}
