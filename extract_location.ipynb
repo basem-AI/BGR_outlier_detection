{
 "cells": [
  {
   "cell_type": "code",
   "execution_count": 37,
   "metadata": {},
   "outputs": [],
   "source": [
    "import pyarrow.feather as feather\n",
    "import pandas as pd\n",
    "import numpy as np\n",
    "from scipy.io import netcdf\n",
    "import matplotlib.pyplot as plt \n",
    "from shapely.geometry import Point\n",
    "import geopandas as gpd\n",
    "from geopandas import GeoDataFrame\n",
    "import xarray as xr\n",
    "import netCDF4 as nc\n",
    "from netCDF4 import Dataset\n",
    "import xlrd\n",
    "\n",
    "import warnings\n",
    "warnings.filterwarnings(\"ignore\")"
   ]
  },
  {
   "cell_type": "markdown",
   "metadata": {},
   "source": [
    "### important!! for next use, pen bgr_location.csv to add more idx to it- not the metadata"
   ]
  },
  {
   "cell_type": "code",
   "execution_count": 2,
   "metadata": {},
   "outputs": [],
   "source": [
    "# import meta_data for the lat and long of bgr stations\n",
    "#meta_df = pd.read_excel(\"dataset/meta_data/metadata_timeseries_LongLat.xlsx\")\n",
    "#bgr_location = meta_df[[\"proj_id\",\"x_long\",\"y_lat\"]].sort_values(\"proj_id\")\n",
    "#bgr_location = bgr_location.rename(columns={\"x_long\":\"bgr_long\",\"y_lat\":\"bgr_lat\"})\n",
    "#bgr_location.head()"
   ]
  },
  {
   "cell_type": "code",
   "execution_count": 3,
   "metadata": {},
   "outputs": [],
   "source": [
    "# open a sample nc file to extract the weather stations lat/long\n",
    "dir_01_2005 = \"dataset/temperature/data/\"+'daily_Project_TRY_air_temperature_mean__TT_200511_daymean.nc'\n",
    "nc = netcdf.NetCDFFile(dir_01_2005,'r')"
   ]
  },
  {
   "cell_type": "code",
   "execution_count": 4,
   "metadata": {},
   "outputs": [
    {
     "data": {
      "text/plain": [
       "OrderedDict([('lon', <scipy.io.netcdf.netcdf_variable at 0x7fc71448a9a0>),\n",
       "             ('lat', <scipy.io.netcdf.netcdf_variable at 0x7fc6d87f9760>),\n",
       "             ('time', <scipy.io.netcdf.netcdf_variable at 0x7fc6d87f96a0>),\n",
       "             ('time_bnds',\n",
       "              <scipy.io.netcdf.netcdf_variable at 0x7fc6d87f9a00>),\n",
       "             ('datum', <scipy.io.netcdf.netcdf_variable at 0x7fc714483fd0>),\n",
       "             ('temperature',\n",
       "              <scipy.io.netcdf.netcdf_variable at 0x7fc714483b80>)])"
      ]
     },
     "execution_count": 4,
     "metadata": {},
     "output_type": "execute_result"
    }
   ],
   "source": [
    "nc.variables"
   ]
  },
  {
   "cell_type": "markdown",
   "metadata": {},
   "source": [
    "## the long and lat in the nc files are not coordinates but veriables i.e. there is an coords layer of 720x938x30 (time) which has only int indices and above of it they created the long, lat, temp. therefore we cannot use the normal method f extracting the nearest long and lat \n",
    "\n",
    "## I moved to the other approach to extract them using the mathematical function"
   ]
  },
  {
   "cell_type": "code",
   "execution_count": 5,
   "metadata": {},
   "outputs": [
    {
     "data": {
      "text/html": [
       "<div>\n",
       "<style scoped>\n",
       "    .dataframe tbody tr th:only-of-type {\n",
       "        vertical-align: middle;\n",
       "    }\n",
       "\n",
       "    .dataframe tbody tr th {\n",
       "        vertical-align: top;\n",
       "    }\n",
       "\n",
       "    .dataframe thead th {\n",
       "        text-align: right;\n",
       "    }\n",
       "</style>\n",
       "<table border=\"1\" class=\"dataframe\">\n",
       "  <thead>\n",
       "    <tr style=\"text-align: right;\">\n",
       "      <th></th>\n",
       "      <th>long</th>\n",
       "      <th>lat</th>\n",
       "    </tr>\n",
       "  </thead>\n",
       "  <tbody>\n",
       "    <tr>\n",
       "      <th>0</th>\n",
       "      <td>5.5452</td>\n",
       "      <td>46.7198</td>\n",
       "    </tr>\n",
       "    <tr>\n",
       "      <th>1</th>\n",
       "      <td>5.5587</td>\n",
       "      <td>46.7204</td>\n",
       "    </tr>\n",
       "    <tr>\n",
       "      <th>2</th>\n",
       "      <td>5.5722</td>\n",
       "      <td>46.7209</td>\n",
       "    </tr>\n",
       "    <tr>\n",
       "      <th>3</th>\n",
       "      <td>5.5857</td>\n",
       "      <td>46.7215</td>\n",
       "    </tr>\n",
       "    <tr>\n",
       "      <th>4</th>\n",
       "      <td>5.5991</td>\n",
       "      <td>46.7221</td>\n",
       "    </tr>\n",
       "  </tbody>\n",
       "</table>\n",
       "</div>"
      ],
      "text/plain": [
       "     long      lat\n",
       "0  5.5452  46.7198\n",
       "1  5.5587  46.7204\n",
       "2  5.5722  46.7209\n",
       "3  5.5857  46.7215\n",
       "4  5.5991  46.7221"
      ]
     },
     "execution_count": 5,
     "metadata": {},
     "output_type": "execute_result"
    }
   ],
   "source": [
    "# long and lat where temp was measured (weather credits)\n",
    "weather_long = nc.variables[\"lon\"][:].flatten()\n",
    "weather_lat = nc.variables[\"lat\"][:].flatten()\n",
    "#temp = temp_01_2005.variables[\"temperature\"][5,:,:].flatten()\n",
    "weather_df = pd.DataFrame({\"long\":weather_long,\"lat\": weather_lat})\n",
    "weather_df.head()"
   ]
  },
  {
   "cell_type": "code",
   "execution_count": 118,
   "metadata": {},
   "outputs": [],
   "source": [
    "# onther func to compute the dist, but haversine formula more accurate\n",
    "\"\"\"def distance(w):\n",
    "    \n",
    "    pt_1 = np.array((w[0], w[1]))\n",
    "    pt_2 = np.array((bgr[0], bgr[1]))\n",
    "    return np.linalg.norm(pt_1-pt_2)\n",
    "\n",
    "\"\"\""
   ]
  },
  {
   "cell_type": "code",
   "execution_count": 12,
   "metadata": {},
   "outputs": [],
   "source": [
    "# compute the dist in km between any two points on the sphere surface\n",
    "# depending on the long/lat (haversine formula)\n",
    "\n",
    "def distance(w):\n",
    "    \"\"\"\n",
    "    Calculate the great circle distance between two points\n",
    "    on the earth (specified in decimal degrees)\n",
    "    \"\"\"\n",
    "    lon1, lat1 = w[0], w[1]\n",
    "    lon2, lat2 = bgr[0],bgr[1]\n",
    "    # convert decimal degrees to radians\n",
    "    lon1, lat1, lon2, lat2 = map(np.radians, [lon1, lat1, lon2, lat2])\n",
    "    # haversine formula\n",
    "    dlon = lon2 - lon1\n",
    "    dlat = lat2 - lat1\n",
    "    a = np.sin(dlat/2)**2 + np.cos(lat1) * np.cos(lat2) * np.sin(dlon/2)**2\n",
    "    c = 2 * np.arcsin(np.sqrt(a))\n",
    "    km = 6367 * c\n",
    "    return km\n"
   ]
  },
  {
   "cell_type": "markdown",
   "metadata": {},
   "source": [
    "# the next run take the next 1000 or 2000 bgr station"
   ]
  },
  {
   "cell_type": "code",
   "execution_count": 33,
   "metadata": {},
   "outputs": [
    {
     "data": {
      "text/html": [
       "<div>\n",
       "<style scoped>\n",
       "    .dataframe tbody tr th:only-of-type {\n",
       "        vertical-align: middle;\n",
       "    }\n",
       "\n",
       "    .dataframe tbody tr th {\n",
       "        vertical-align: top;\n",
       "    }\n",
       "\n",
       "    .dataframe thead th {\n",
       "        text-align: right;\n",
       "    }\n",
       "</style>\n",
       "<table border=\"1\" class=\"dataframe\">\n",
       "  <thead>\n",
       "    <tr style=\"text-align: right;\">\n",
       "      <th></th>\n",
       "      <th>proj_id</th>\n",
       "      <th>bgr_long</th>\n",
       "      <th>bgr_lat</th>\n",
       "      <th>idx</th>\n",
       "    </tr>\n",
       "  </thead>\n",
       "  <tbody>\n",
       "    <tr>\n",
       "      <th>2995</th>\n",
       "      <td>BW_199-258-0</td>\n",
       "      <td>8.489523</td>\n",
       "      <td>49.107647</td>\n",
       "      <td>178783</td>\n",
       "    </tr>\n",
       "    <tr>\n",
       "      <th>2996</th>\n",
       "      <td>BW_199-772-7</td>\n",
       "      <td>10.053499</td>\n",
       "      <td>47.764407</td>\n",
       "      <td>73773</td>\n",
       "    </tr>\n",
       "    <tr>\n",
       "      <th>2997</th>\n",
       "      <td>BW_2-114-0</td>\n",
       "      <td>7.846183</td>\n",
       "      <td>48.585176</td>\n",
       "      <td>139136</td>\n",
       "    </tr>\n",
       "    <tr>\n",
       "      <th>2998</th>\n",
       "      <td>BW_2-509-4</td>\n",
       "      <td>9.177204</td>\n",
       "      <td>49.085207</td>\n",
       "      <td>176671</td>\n",
       "    </tr>\n",
       "    <tr>\n",
       "      <th>2999</th>\n",
       "      <td>BW_2-568-8</td>\n",
       "      <td>9.483746</td>\n",
       "      <td>48.147846</td>\n",
       "      <td>103972</td>\n",
       "    </tr>\n",
       "    <tr>\n",
       "      <th>3000</th>\n",
       "      <td>BW_2-667-0</td>\n",
       "      <td>9.831805</td>\n",
       "      <td>48.238631</td>\n",
       "      <td>0</td>\n",
       "    </tr>\n",
       "    <tr>\n",
       "      <th>3001</th>\n",
       "      <td>BW_20-020-0</td>\n",
       "      <td>7.596976</td>\n",
       "      <td>47.916984</td>\n",
       "      <td>0</td>\n",
       "    </tr>\n",
       "    <tr>\n",
       "      <th>3002</th>\n",
       "      <td>BW_20-520-3</td>\n",
       "      <td>9.223661</td>\n",
       "      <td>47.916475</td>\n",
       "      <td>0</td>\n",
       "    </tr>\n",
       "    <tr>\n",
       "      <th>3003</th>\n",
       "      <td>BW_20-568-5</td>\n",
       "      <td>9.454208</td>\n",
       "      <td>48.129486</td>\n",
       "      <td>0</td>\n",
       "    </tr>\n",
       "    <tr>\n",
       "      <th>3004</th>\n",
       "      <td>BW_200-258-7</td>\n",
       "      <td>8.489155</td>\n",
       "      <td>49.107421</td>\n",
       "      <td>0</td>\n",
       "    </tr>\n",
       "  </tbody>\n",
       "</table>\n",
       "</div>"
      ],
      "text/plain": [
       "           proj_id   bgr_long    bgr_lat     idx\n",
       "2995  BW_199-258-0   8.489523  49.107647  178783\n",
       "2996  BW_199-772-7  10.053499  47.764407   73773\n",
       "2997    BW_2-114-0   7.846183  48.585176  139136\n",
       "2998    BW_2-509-4   9.177204  49.085207  176671\n",
       "2999    BW_2-568-8   9.483746  48.147846  103972\n",
       "3000    BW_2-667-0   9.831805  48.238631       0\n",
       "3001   BW_20-020-0   7.596976  47.916984       0\n",
       "3002   BW_20-520-3   9.223661  47.916475       0\n",
       "3003   BW_20-568-5   9.454208  48.129486       0\n",
       "3004  BW_200-258-7   8.489155  49.107421       0"
      ]
     },
     "execution_count": 33,
     "metadata": {},
     "output_type": "execute_result"
    }
   ],
   "source": [
    "# check the csv\n",
    "bgr_location = pd.read_csv(\"dataset/meta_data/bgr_location.csv\")\n",
    "bgr_location.iloc[2995:3005]"
   ]
  },
  {
   "cell_type": "code",
   "execution_count": null,
   "metadata": {},
   "outputs": [],
   "source": []
  },
  {
   "cell_type": "code",
   "execution_count": 14,
   "metadata": {},
   "outputs": [
    {
     "name": "stderr",
     "output_type": "stream",
     "text": [
      "/home/basem/anaconda3/envs/bgr/lib/python3.8/site-packages/pandas/core/indexing.py:670: SettingWithCopyWarning: \n",
      "A value is trying to be set on a copy of a slice from a DataFrame\n",
      "\n",
      "See the caveats in the documentation: https://pandas.pydata.org/pandas-docs/stable/user_guide/indexing.html#returning-a-view-versus-a-copy\n",
      "  iloc._setitem_with_indexer(indexer, value)\n"
     ]
    },
    {
     "name": "stdout",
     "output_type": "stream",
     "text": [
      "done\n"
     ]
    }
   ],
   "source": [
    "# compute the nearest dist to each bgr station\n",
    "for i in range(1000,3000):\n",
    "    #choose a bgr station\n",
    "    bgr = bgr_location[\"bgr_long\"][i],bgr_location[\"bgr_lat\"][i]\n",
    "    # compute the distances to each weather credits\n",
    "    weather_df[\"dist\"]=weather_df.apply(distance, axis =1)\n",
    "    # match the index of the weather credit to the corresponding bgr station\n",
    "    bgr_location[\"idx\"].iloc[i]=np.argmin(weather_df[\"dist\"])\n",
    "    #print(np.min(weather_df[\"dist\"]))\n",
    "    \n",
    "print(\"done\")"
   ]
  },
  {
   "cell_type": "code",
   "execution_count": 25,
   "metadata": {},
   "outputs": [
    {
     "data": {
      "text/html": [
       "<div>\n",
       "<style scoped>\n",
       "    .dataframe tbody tr th:only-of-type {\n",
       "        vertical-align: middle;\n",
       "    }\n",
       "\n",
       "    .dataframe tbody tr th {\n",
       "        vertical-align: top;\n",
       "    }\n",
       "\n",
       "    .dataframe thead th {\n",
       "        text-align: right;\n",
       "    }\n",
       "</style>\n",
       "<table border=\"1\" class=\"dataframe\">\n",
       "  <thead>\n",
       "    <tr style=\"text-align: right;\">\n",
       "      <th></th>\n",
       "      <th>proj_id</th>\n",
       "      <th>bgr_long</th>\n",
       "      <th>bgr_lat</th>\n",
       "      <th>idx</th>\n",
       "    </tr>\n",
       "  </thead>\n",
       "  <tbody>\n",
       "    <tr>\n",
       "      <th>2000</th>\n",
       "      <td>BW_10-619-2</td>\n",
       "      <td>9.540174</td>\n",
       "      <td>48.010910</td>\n",
       "      <td>93176</td>\n",
       "    </tr>\n",
       "    <tr>\n",
       "      <th>2001</th>\n",
       "      <td>BW_100-020-4</td>\n",
       "      <td>7.617715</td>\n",
       "      <td>47.998087</td>\n",
       "      <td>93758</td>\n",
       "    </tr>\n",
       "    <tr>\n",
       "      <th>2002</th>\n",
       "      <td>BW_100-063-5</td>\n",
       "      <td>7.828001</td>\n",
       "      <td>48.603246</td>\n",
       "      <td>140575</td>\n",
       "    </tr>\n",
       "    <tr>\n",
       "      <th>2003</th>\n",
       "      <td>BW_100-068-0</td>\n",
       "      <td>7.768975</td>\n",
       "      <td>48.169478</td>\n",
       "      <td>106729</td>\n",
       "    </tr>\n",
       "    <tr>\n",
       "      <th>2004</th>\n",
       "      <td>BW_100-069-1</td>\n",
       "      <td>7.799146</td>\n",
       "      <td>48.099071</td>\n",
       "      <td>101691</td>\n",
       "    </tr>\n",
       "  </tbody>\n",
       "</table>\n",
       "</div>"
      ],
      "text/plain": [
       "           proj_id  bgr_long    bgr_lat     idx\n",
       "2000   BW_10-619-2  9.540174  48.010910   93176\n",
       "2001  BW_100-020-4  7.617715  47.998087   93758\n",
       "2002  BW_100-063-5  7.828001  48.603246  140575\n",
       "2003  BW_100-068-0  7.768975  48.169478  106729\n",
       "2004  BW_100-069-1  7.799146  48.099071  101691"
      ]
     },
     "execution_count": 25,
     "metadata": {},
     "output_type": "execute_result"
    }
   ],
   "source": [
    "# get the stored indices \n",
    "idx = bgr_location[\"idx\"][0:3000]\n",
    "# check the resulted indices\n",
    "bgr_location.iloc[2000:2005]"
   ]
  },
  {
   "cell_type": "code",
   "execution_count": 34,
   "metadata": {},
   "outputs": [
    {
     "data": {
      "text/plain": [
       "Text(0.5, 1.0, 'lat')"
      ]
     },
     "execution_count": 34,
     "metadata": {},
     "output_type": "execute_result"
    },
    {
     "data": {
      "image/png": "[encoded data removed]",
      "text/plain": [
       "<Figure size 720x720 with 2 Axes>"
      ]
     },
     "metadata": {
      "needs_background": "light"
     },
     "output_type": "display_data"
    }
   ],
   "source": [
    "fig, axs = plt.subplots(2, 1, figsize=(10,10))\n",
    "fig.suptitle('bgr long/lat with weather long/lat ')\n",
    "axs[0].scatter(weather_df[\"long\"].iloc[idx],  bgr_location[\"bgr_long\"][0:3000])\n",
    "axs[0].set_title('long')\n",
    "axs[1].scatter(weather_df[\"lat\"].iloc[idx],  bgr_location[\"bgr_lat\"][0:3000])\n",
    "axs[1].set_title('lat')"
   ]
  },
  {
   "cell_type": "code",
   "execution_count": 35,
   "metadata": {},
   "outputs": [
    {
     "data": {
      "image/png": "[encoded data removed]",
      "text/plain": [
       "<Figure size 1440x720 with 1 Axes>"
      ]
     },
     "metadata": {
      "needs_background": "light"
     },
     "output_type": "display_data"
    }
   ],
   "source": [
    "plt.figure(figsize=(20,10))\n",
    "plt.scatter(bgr_location[\"bgr_long\"][0:3000], bgr_location[\"bgr_lat\"][0:3000],color=\"red\")\n",
    "plt.scatter(weather_df[\"long\"].iloc[idx], weather_df[\"lat\"].iloc[idx])\n",
    "plt.xlabel('long')\n",
    "plt.ylabel('lat')\n",
    "plt.title(\"the bgr stations(blue) with extracted weathe credits (red)\")\n",
    "plt.show()"
   ]
  },
  {
   "cell_type": "code",
   "execution_count": 32,
   "metadata": {},
   "outputs": [],
   "source": [
    "# store changes into csv\n",
    "bgr_location.to_csv(\"dataset/meta_data/bgr_location.csv\", index =0)"
   ]
  },
  {
   "cell_type": "code",
   "execution_count": 155,
   "metadata": {},
   "outputs": [
    {
     "data": {
      "text/html": [
       "<div>\n",
       "<style scoped>\n",
       "    .dataframe tbody tr th:only-of-type {\n",
       "        vertical-align: middle;\n",
       "    }\n",
       "\n",
       "    .dataframe tbody tr th {\n",
       "        vertical-align: top;\n",
       "    }\n",
       "\n",
       "    .dataframe thead th {\n",
       "        text-align: right;\n",
       "    }\n",
       "</style>\n",
       "<table border=\"1\" class=\"dataframe\">\n",
       "  <thead>\n",
       "    <tr style=\"text-align: right;\">\n",
       "      <th></th>\n",
       "      <th>proj_id</th>\n",
       "      <th>bgr_long</th>\n",
       "      <th>bgr_lat</th>\n",
       "      <th>idx</th>\n",
       "    </tr>\n",
       "  </thead>\n",
       "  <tbody>\n",
       "    <tr>\n",
       "      <th>0</th>\n",
       "      <td>BB_25470023</td>\n",
       "      <td>13.643609</td>\n",
       "      <td>53.416804</td>\n",
       "      <td>516084</td>\n",
       "    </tr>\n",
       "    <tr>\n",
       "      <th>1</th>\n",
       "      <td>BB_25470024</td>\n",
       "      <td>13.643653</td>\n",
       "      <td>53.416793</td>\n",
       "      <td>516084</td>\n",
       "    </tr>\n",
       "    <tr>\n",
       "      <th>2</th>\n",
       "      <td>BB_25480025</td>\n",
       "      <td>13.826532</td>\n",
       "      <td>53.452024</td>\n",
       "      <td>518975</td>\n",
       "    </tr>\n",
       "    <tr>\n",
       "      <th>3</th>\n",
       "      <td>BB_25480026</td>\n",
       "      <td>13.677407</td>\n",
       "      <td>53.457078</td>\n",
       "      <td>518966</td>\n",
       "    </tr>\n",
       "    <tr>\n",
       "      <th>4</th>\n",
       "      <td>BB_25481088</td>\n",
       "      <td>13.821475</td>\n",
       "      <td>53.475857</td>\n",
       "      <td>521135</td>\n",
       "    </tr>\n",
       "    <tr>\n",
       "      <th>...</th>\n",
       "      <td>...</td>\n",
       "      <td>...</td>\n",
       "      <td>...</td>\n",
       "      <td>...</td>\n",
       "    </tr>\n",
       "    <tr>\n",
       "      <th>13487</th>\n",
       "      <td>TH_5633900046</td>\n",
       "      <td>11.197713</td>\n",
       "      <td>50.333011</td>\n",
       "      <td>0</td>\n",
       "    </tr>\n",
       "    <tr>\n",
       "      <th>13488</th>\n",
       "      <td>TH_5633900056</td>\n",
       "      <td>11.196891</td>\n",
       "      <td>50.344423</td>\n",
       "      <td>0</td>\n",
       "    </tr>\n",
       "    <tr>\n",
       "      <th>13489</th>\n",
       "      <td>TH_5633900114</td>\n",
       "      <td>11.263650</td>\n",
       "      <td>50.362301</td>\n",
       "      <td>0</td>\n",
       "    </tr>\n",
       "    <tr>\n",
       "      <th>13490</th>\n",
       "      <td>TH_5729240555</td>\n",
       "      <td>10.634292</td>\n",
       "      <td>50.237109</td>\n",
       "      <td>0</td>\n",
       "    </tr>\n",
       "    <tr>\n",
       "      <th>13491</th>\n",
       "      <td>TH_5730000077</td>\n",
       "      <td>10.761303</td>\n",
       "      <td>50.251920</td>\n",
       "      <td>0</td>\n",
       "    </tr>\n",
       "  </tbody>\n",
       "</table>\n",
       "<p>13492 rows × 4 columns</p>\n",
       "</div>"
      ],
      "text/plain": [
       "             proj_id   bgr_long    bgr_lat     idx\n",
       "0        BB_25470023  13.643609  53.416804  516084\n",
       "1        BB_25470024  13.643653  53.416793  516084\n",
       "2        BB_25480025  13.826532  53.452024  518975\n",
       "3        BB_25480026  13.677407  53.457078  518966\n",
       "4        BB_25481088  13.821475  53.475857  521135\n",
       "...              ...        ...        ...     ...\n",
       "13487  TH_5633900046  11.197713  50.333011       0\n",
       "13488  TH_5633900056  11.196891  50.344423       0\n",
       "13489  TH_5633900114  11.263650  50.362301       0\n",
       "13490  TH_5729240555  10.634292  50.237109       0\n",
       "13491  TH_5730000077  10.761303  50.251920       0\n",
       "\n",
       "[13492 rows x 4 columns]"
      ]
     },
     "execution_count": 155,
     "metadata": {},
     "output_type": "execute_result"
    }
   ],
   "source": [
    "# check the csv\n",
    "pd.read_csv(\"dataset/meta_data/bgr_location.csv\")"
   ]
  },
  {
   "cell_type": "code",
   "execution_count": null,
   "metadata": {},
   "outputs": [],
   "source": [
    "##################################################################################################################"
   ]
  },
  {
   "cell_type": "code",
   "execution_count": null,
   "metadata": {},
   "outputs": [],
   "source": []
  }
 ],
 "metadata": {
  "kernelspec": {
   "display_name": "Python 3",
   "language": "python",
   "name": "python3"
  },
  "language_info": {
   "codemirror_mode": {
    "name": "ipython",
    "version": 3
   },
   "file_extension": ".py",
   "mimetype": "text/x-python",
   "name": "python",
   "nbconvert_exporter": "python",
   "pygments_lexer": "ipython3",
   "version": "3.8.5"
  }
 },
 "nbformat": 4,
 "nbformat_minor": 4
}
